{
 "cells": [
  {
   "cell_type": "code",
   "execution_count": 2,
   "metadata": {
    "collapsed": false
   },
   "outputs": [],
   "source": [
    "import pandas as pd\n",
    "from sklearn.externals import joblib as jl\n",
    "from modules import venn\n",
    "import re\n",
    "import numpy as np\n",
    "\n",
    "%matplotlib inline"
   ]
  },
  {
   "cell_type": "code",
   "execution_count": 2,
   "metadata": {
    "collapsed": false
   },
   "outputs": [],
   "source": [
    "# regexp = re.compile(r'[01], [01], [01]')\n",
    "# dom = None\n",
    "# data = pd.DataFrame(columns=['ahrefs', 'majestic', 'google', 'domain', 'site'])\n",
    "# i = -1\n",
    "# # with open('data/CrawlReport_06_12/Report/1_crawl_results.txt',encoding='utf8') as f:\n",
    "# with open('data/CrawlReport_06_12/Report/stats_intersect_all.txt',encoding='utf8') as f:\n",
    "#     contents = list(f.readlines())\n",
    "#     for line in contents:\n",
    "#         if '*** ====' in line:\n",
    "#             dom = line[line.find(\"*** ==== \")+9:line.find(\" ==== ***\")]\n",
    "#             continue\n",
    "#         if regexp.search(line):\n",
    "#             i += 1\n",
    "#             row = line.split(',')\n",
    "#             row.append(dom)\n",
    "#             data.loc[i] = row\n",
    "#             continue\n",
    "            \n",
    "# # jl.dump(data, 'data/backlinks_3sources.jl')\n",
    "# jl.dump(data, 'data/live_3sources.jl')\n",
    "\n",
    "# data.columns = ['ahrefs', 'majestic', 'google', 'domain', 'site']\n",
    "# for col in data.columns[:3]:\n",
    "#     data[col] = data[col].astype(int)\n",
    "    \n",
    "# for col in data.columns[3:]:\n",
    "#     data[col] = data[col].apply(lambda x: x.replace('\\n', '').strip())\n",
    "                                \n",
    "# data.head()\n",
    "\n",
    "# # jl.dump(data, 'data/backlinks_3sources.jl')\n",
    "# jl.dump(data, 'data/live_3sources.jl')"
   ]
  },
  {
   "cell_type": "code",
   "execution_count": 3,
   "metadata": {
    "collapsed": false
   },
   "outputs": [
    {
     "data": {
      "text/html": [
       "<div>\n",
       "<style scoped>\n",
       "    .dataframe tbody tr th:only-of-type {\n",
       "        vertical-align: middle;\n",
       "    }\n",
       "\n",
       "    .dataframe tbody tr th {\n",
       "        vertical-align: top;\n",
       "    }\n",
       "\n",
       "    .dataframe thead th {\n",
       "        text-align: right;\n",
       "    }\n",
       "</style>\n",
       "<table border=\"1\" class=\"dataframe\">\n",
       "  <thead>\n",
       "    <tr style=\"text-align: right;\">\n",
       "      <th></th>\n",
       "      <th>ahrefs</th>\n",
       "      <th>majestic</th>\n",
       "      <th>google</th>\n",
       "      <th>domain</th>\n",
       "      <th>site</th>\n",
       "    </tr>\n",
       "  </thead>\n",
       "  <tbody>\n",
       "    <tr>\n",
       "      <th>0</th>\n",
       "      <td>1</td>\n",
       "      <td>0</td>\n",
       "      <td>1</td>\n",
       "      <td>academicworks.com</td>\n",
       "      <td>10edges.com</td>\n",
       "    </tr>\n",
       "    <tr>\n",
       "      <th>1</th>\n",
       "      <td>0</td>\n",
       "      <td>0</td>\n",
       "      <td>0</td>\n",
       "      <td>alamatpon.com</td>\n",
       "      <td>10edges.com</td>\n",
       "    </tr>\n",
       "    <tr>\n",
       "      <th>2</th>\n",
       "      <td>1</td>\n",
       "      <td>0</td>\n",
       "      <td>0</td>\n",
       "      <td>allwomenstalk.com</td>\n",
       "      <td>10edges.com</td>\n",
       "    </tr>\n",
       "    <tr>\n",
       "      <th>3</th>\n",
       "      <td>0</td>\n",
       "      <td>1</td>\n",
       "      <td>0</td>\n",
       "      <td>americanbookreview.org</td>\n",
       "      <td>10edges.com</td>\n",
       "    </tr>\n",
       "    <tr>\n",
       "      <th>4</th>\n",
       "      <td>0</td>\n",
       "      <td>0</td>\n",
       "      <td>1</td>\n",
       "      <td>answers.com</td>\n",
       "      <td>10edges.com</td>\n",
       "    </tr>\n",
       "  </tbody>\n",
       "</table>\n",
       "</div>"
      ],
      "text/plain": [
       "   ahrefs  majestic  google                  domain         site\n",
       "0       1         0       1       academicworks.com  10edges.com\n",
       "1       0         0       0           alamatpon.com  10edges.com\n",
       "2       1         0       0       allwomenstalk.com  10edges.com\n",
       "3       0         1       0  americanbookreview.org  10edges.com\n",
       "4       0         0       1             answers.com  10edges.com"
      ]
     },
     "execution_count": 3,
     "metadata": {},
     "output_type": "execute_result"
    }
   ],
   "source": [
    "data_live = jl.load('data/backlinks_3sources.jl')\n",
    "data_live = data_live[data_live.domain != ''].reset_index(drop=True)\n",
    "data_live.head()"
   ]
  },
  {
   "cell_type": "code",
   "execution_count": 4,
   "metadata": {
    "collapsed": false
   },
   "outputs": [
    {
     "data": {
      "text/html": [
       "<div>\n",
       "<style scoped>\n",
       "    .dataframe tbody tr th:only-of-type {\n",
       "        vertical-align: middle;\n",
       "    }\n",
       "\n",
       "    .dataframe tbody tr th {\n",
       "        vertical-align: top;\n",
       "    }\n",
       "\n",
       "    .dataframe thead th {\n",
       "        text-align: right;\n",
       "    }\n",
       "</style>\n",
       "<table border=\"1\" class=\"dataframe\">\n",
       "  <thead>\n",
       "    <tr style=\"text-align: right;\">\n",
       "      <th></th>\n",
       "      <th>ahrefs</th>\n",
       "      <th>majestic</th>\n",
       "      <th>google</th>\n",
       "      <th>domain</th>\n",
       "      <th>site</th>\n",
       "    </tr>\n",
       "  </thead>\n",
       "  <tbody>\n",
       "    <tr>\n",
       "      <th>0</th>\n",
       "      <td>1</td>\n",
       "      <td>1</td>\n",
       "      <td>1</td>\n",
       "      <td>academicworks.com</td>\n",
       "      <td>10edges.com</td>\n",
       "    </tr>\n",
       "    <tr>\n",
       "      <th>1</th>\n",
       "      <td>1</td>\n",
       "      <td>0</td>\n",
       "      <td>0</td>\n",
       "      <td>alamatpon.com</td>\n",
       "      <td>10edges.com</td>\n",
       "    </tr>\n",
       "    <tr>\n",
       "      <th>2</th>\n",
       "      <td>1</td>\n",
       "      <td>0</td>\n",
       "      <td>1</td>\n",
       "      <td>allwomenstalk.com</td>\n",
       "      <td>10edges.com</td>\n",
       "    </tr>\n",
       "    <tr>\n",
       "      <th>3</th>\n",
       "      <td>0</td>\n",
       "      <td>1</td>\n",
       "      <td>0</td>\n",
       "      <td>americanbookreview.org</td>\n",
       "      <td>10edges.com</td>\n",
       "    </tr>\n",
       "    <tr>\n",
       "      <th>4</th>\n",
       "      <td>0</td>\n",
       "      <td>0</td>\n",
       "      <td>1</td>\n",
       "      <td>answers.com</td>\n",
       "      <td>10edges.com</td>\n",
       "    </tr>\n",
       "  </tbody>\n",
       "</table>\n",
       "</div>"
      ],
      "text/plain": [
       "   ahrefs  majestic  google                  domain         site\n",
       "0       1         1       1       academicworks.com  10edges.com\n",
       "1       1         0       0           alamatpon.com  10edges.com\n",
       "2       1         0       1       allwomenstalk.com  10edges.com\n",
       "3       0         1       0  americanbookreview.org  10edges.com\n",
       "4       0         0       1             answers.com  10edges.com"
      ]
     },
     "execution_count": 4,
     "metadata": {},
     "output_type": "execute_result"
    }
   ],
   "source": [
    "data_all = jl.load('data/live_3sources.jl')\n",
    "data_all = data_all[data_live.domain != ''].reset_index(drop=True)\n",
    "data_all.head()"
   ]
  },
  {
   "cell_type": "code",
   "execution_count": 5,
   "metadata": {
    "collapsed": false
   },
   "outputs": [
    {
     "data": {
      "text/plain": [
       "86720"
      ]
     },
     "execution_count": 5,
     "metadata": {},
     "output_type": "execute_result"
    }
   ],
   "source": [
    "len(data_all)"
   ]
  },
  {
   "cell_type": "code",
   "execution_count": 6,
   "metadata": {
    "collapsed": false
   },
   "outputs": [
    {
     "data": {
      "text/plain": [
       "86720"
      ]
     },
     "execution_count": 6,
     "metadata": {},
     "output_type": "execute_result"
    }
   ],
   "source": [
    "len(data_live)"
   ]
  },
  {
   "cell_type": "code",
   "execution_count": 13,
   "metadata": {
    "collapsed": false
   },
   "outputs": [
    {
     "data": {
      "text/plain": [
       "86720"
      ]
     },
     "execution_count": 13,
     "metadata": {},
     "output_type": "execute_result"
    }
   ],
   "source": [
    "len(data_all[~(data_all[['ahrefs', 'majestic', 'google']] == 0).all(axis=1)])"
   ]
  },
  {
   "cell_type": "code",
   "execution_count": 7,
   "metadata": {
    "collapsed": false
   },
   "outputs": [
    {
     "data": {
      "text/plain": [
       "47035"
      ]
     },
     "execution_count": 7,
     "metadata": {},
     "output_type": "execute_result"
    }
   ],
   "source": [
    "len(data_live[~(data_live[['ahrefs', 'majestic', 'google']] == 0).all(axis=1)])"
   ]
  },
  {
   "cell_type": "code",
   "execution_count": 29,
   "metadata": {
    "collapsed": false,
    "scrolled": true
   },
   "outputs": [
    {
     "data": {
      "text/html": [
       "<div>\n",
       "<style scoped>\n",
       "    .dataframe tbody tr th:only-of-type {\n",
       "        vertical-align: middle;\n",
       "    }\n",
       "\n",
       "    .dataframe tbody tr th {\n",
       "        vertical-align: top;\n",
       "    }\n",
       "\n",
       "    .dataframe thead th {\n",
       "        text-align: right;\n",
       "    }\n",
       "</style>\n",
       "<table border=\"1\" class=\"dataframe\">\n",
       "  <thead>\n",
       "    <tr style=\"text-align: right;\">\n",
       "      <th></th>\n",
       "      <th>site</th>\n",
       "      <th>ahrefs</th>\n",
       "      <th>majestic</th>\n",
       "      <th>google</th>\n",
       "    </tr>\n",
       "  </thead>\n",
       "  <tbody>\n",
       "    <tr>\n",
       "      <th>0</th>\n",
       "      <td>10edges.com</td>\n",
       "      <td>44</td>\n",
       "      <td>43</td>\n",
       "      <td>61</td>\n",
       "    </tr>\n",
       "    <tr>\n",
       "      <th>1</th>\n",
       "      <td>4quotes4me.co.uk</td>\n",
       "      <td>444</td>\n",
       "      <td>446</td>\n",
       "      <td>247</td>\n",
       "    </tr>\n",
       "    <tr>\n",
       "      <th>2</th>\n",
       "      <td>aaronneo.com.au</td>\n",
       "      <td>22</td>\n",
       "      <td>9</td>\n",
       "      <td>60</td>\n",
       "    </tr>\n",
       "    <tr>\n",
       "      <th>3</th>\n",
       "      <td>aionhill.com</td>\n",
       "      <td>555</td>\n",
       "      <td>300</td>\n",
       "      <td>547</td>\n",
       "    </tr>\n",
       "    <tr>\n",
       "      <th>4</th>\n",
       "      <td>antongorlin.com</td>\n",
       "      <td>393</td>\n",
       "      <td>233</td>\n",
       "      <td>481</td>\n",
       "    </tr>\n",
       "  </tbody>\n",
       "</table>\n",
       "</div>"
      ],
      "text/plain": [
       "               site  ahrefs  majestic  google\n",
       "0       10edges.com      44        43      61\n",
       "1  4quotes4me.co.uk     444       446     247\n",
       "2   aaronneo.com.au      22         9      60\n",
       "3      aionhill.com     555       300     547\n",
       "4   antongorlin.com     393       233     481"
      ]
     },
     "execution_count": 29,
     "metadata": {},
     "output_type": "execute_result"
    }
   ],
   "source": [
    "data_all_cnts = data_all.groupby(['site'], as_index=False).agg({'ahrefs': sum, \n",
    "                                            'majestic': sum, \n",
    "                                            'google': sum})\n",
    "data_all_cnts.head()"
   ]
  },
  {
   "cell_type": "code",
   "execution_count": 30,
   "metadata": {
    "collapsed": false
   },
   "outputs": [],
   "source": [
    "data_live = data_live[~(data_live[['ahrefs', 'majestic', 'google']] == 0).all(axis=1)]"
   ]
  },
  {
   "cell_type": "code",
   "execution_count": 31,
   "metadata": {
    "collapsed": false
   },
   "outputs": [
    {
     "data": {
      "text/html": [
       "<div>\n",
       "<style scoped>\n",
       "    .dataframe tbody tr th:only-of-type {\n",
       "        vertical-align: middle;\n",
       "    }\n",
       "\n",
       "    .dataframe tbody tr th {\n",
       "        vertical-align: top;\n",
       "    }\n",
       "\n",
       "    .dataframe thead th {\n",
       "        text-align: right;\n",
       "    }\n",
       "</style>\n",
       "<table border=\"1\" class=\"dataframe\">\n",
       "  <thead>\n",
       "    <tr style=\"text-align: right;\">\n",
       "      <th></th>\n",
       "      <th>site</th>\n",
       "      <th>ahrefs</th>\n",
       "      <th>majestic</th>\n",
       "      <th>google</th>\n",
       "    </tr>\n",
       "  </thead>\n",
       "  <tbody>\n",
       "    <tr>\n",
       "      <th>0</th>\n",
       "      <td>10edges.com</td>\n",
       "      <td>29</td>\n",
       "      <td>30</td>\n",
       "      <td>34</td>\n",
       "    </tr>\n",
       "    <tr>\n",
       "      <th>1</th>\n",
       "      <td>4quotes4me.co.uk</td>\n",
       "      <td>104</td>\n",
       "      <td>87</td>\n",
       "      <td>102</td>\n",
       "    </tr>\n",
       "    <tr>\n",
       "      <th>2</th>\n",
       "      <td>aaronneo.com.au</td>\n",
       "      <td>18</td>\n",
       "      <td>8</td>\n",
       "      <td>52</td>\n",
       "    </tr>\n",
       "    <tr>\n",
       "      <th>3</th>\n",
       "      <td>aionhill.com</td>\n",
       "      <td>222</td>\n",
       "      <td>170</td>\n",
       "      <td>257</td>\n",
       "    </tr>\n",
       "    <tr>\n",
       "      <th>4</th>\n",
       "      <td>antongorlin.com</td>\n",
       "      <td>306</td>\n",
       "      <td>201</td>\n",
       "      <td>353</td>\n",
       "    </tr>\n",
       "  </tbody>\n",
       "</table>\n",
       "</div>"
      ],
      "text/plain": [
       "               site  ahrefs  majestic  google\n",
       "0       10edges.com      29        30      34\n",
       "1  4quotes4me.co.uk     104        87     102\n",
       "2   aaronneo.com.au      18         8      52\n",
       "3      aionhill.com     222       170     257\n",
       "4   antongorlin.com     306       201     353"
      ]
     },
     "execution_count": 31,
     "metadata": {},
     "output_type": "execute_result"
    }
   ],
   "source": [
    "data_live_cnts = data_live.groupby(['site'], as_index=False).agg({'ahrefs': sum, \n",
    "                                            'majestic': sum, \n",
    "                                            'google': sum})\n",
    "data_live_cnts.head()"
   ]
  },
  {
   "cell_type": "markdown",
   "metadata": {},
   "source": [
    "## What % of referring domains is \"live\" in each of the three sources"
   ]
  },
  {
   "cell_type": "code",
   "execution_count": 35,
   "metadata": {
    "collapsed": false
   },
   "outputs": [
    {
     "data": {
      "text/html": [
       "<div>\n",
       "<style scoped>\n",
       "    .dataframe tbody tr th:only-of-type {\n",
       "        vertical-align: middle;\n",
       "    }\n",
       "\n",
       "    .dataframe tbody tr th {\n",
       "        vertical-align: top;\n",
       "    }\n",
       "\n",
       "    .dataframe thead th {\n",
       "        text-align: right;\n",
       "    }\n",
       "</style>\n",
       "<table border=\"1\" class=\"dataframe\">\n",
       "  <thead>\n",
       "    <tr style=\"text-align: right;\">\n",
       "      <th></th>\n",
       "      <th>site</th>\n",
       "      <th>ahrefs</th>\n",
       "      <th>majestic</th>\n",
       "      <th>google</th>\n",
       "    </tr>\n",
       "  </thead>\n",
       "  <tbody>\n",
       "    <tr>\n",
       "      <th>0</th>\n",
       "      <td>10edges.com</td>\n",
       "      <td>0.659091</td>\n",
       "      <td>0.697674</td>\n",
       "      <td>0.557377</td>\n",
       "    </tr>\n",
       "    <tr>\n",
       "      <th>1</th>\n",
       "      <td>4quotes4me.co.uk</td>\n",
       "      <td>0.234234</td>\n",
       "      <td>0.195067</td>\n",
       "      <td>0.412955</td>\n",
       "    </tr>\n",
       "    <tr>\n",
       "      <th>2</th>\n",
       "      <td>aaronneo.com.au</td>\n",
       "      <td>0.818182</td>\n",
       "      <td>0.888889</td>\n",
       "      <td>0.866667</td>\n",
       "    </tr>\n",
       "    <tr>\n",
       "      <th>3</th>\n",
       "      <td>aionhill.com</td>\n",
       "      <td>0.400000</td>\n",
       "      <td>0.566667</td>\n",
       "      <td>0.469835</td>\n",
       "    </tr>\n",
       "    <tr>\n",
       "      <th>4</th>\n",
       "      <td>antongorlin.com</td>\n",
       "      <td>0.778626</td>\n",
       "      <td>0.862661</td>\n",
       "      <td>0.733888</td>\n",
       "    </tr>\n",
       "  </tbody>\n",
       "</table>\n",
       "</div>"
      ],
      "text/plain": [
       "               site    ahrefs  majestic    google\n",
       "0       10edges.com  0.659091  0.697674  0.557377\n",
       "1  4quotes4me.co.uk  0.234234  0.195067  0.412955\n",
       "2   aaronneo.com.au  0.818182  0.888889  0.866667\n",
       "3      aionhill.com  0.400000  0.566667  0.469835\n",
       "4   antongorlin.com  0.778626  0.862661  0.733888"
      ]
     },
     "execution_count": 35,
     "metadata": {},
     "output_type": "execute_result"
    }
   ],
   "source": [
    "live_per_site = data_live_cnts.merge(data_all_cnts, on=['site'])\n",
    "live_per_site['ahrefs'] = live_per_site['ahrefs_x'] / live_per_site['ahrefs_y']\n",
    "live_per_site['majestic'] = live_per_site['majestic_x'] / live_per_site['majestic_y']\n",
    "live_per_site['google'] = live_per_site['google_x'] / live_per_site['google_y']\n",
    "live_per_site = live_per_site[['site','ahrefs', 'majestic', 'google']]\n",
    "live_per_site.head()"
   ]
  },
  {
   "cell_type": "code",
   "execution_count": 36,
   "metadata": {
    "collapsed": false
   },
   "outputs": [
    {
     "data": {
      "text/plain": [
       "104"
      ]
     },
     "execution_count": 36,
     "metadata": {},
     "output_type": "execute_result"
    }
   ],
   "source": [
    "len(live_per_site)"
   ]
  },
  {
   "cell_type": "markdown",
   "metadata": {},
   "source": [
    "### Calculate the numbers for each of 104 domains separately and then take the average"
   ]
  },
  {
   "cell_type": "code",
   "execution_count": 37,
   "metadata": {
    "collapsed": false
   },
   "outputs": [
    {
     "data": {
      "text/plain": [
       "ahrefs      0.687055\n",
       "majestic    0.686169\n",
       "google      0.696646\n",
       "dtype: float64"
      ]
     },
     "execution_count": 37,
     "metadata": {},
     "output_type": "execute_result"
    }
   ],
   "source": [
    "live_per_site.mean()"
   ]
  },
  {
   "cell_type": "markdown",
   "metadata": {},
   "source": [
    "### median"
   ]
  },
  {
   "cell_type": "code",
   "execution_count": 38,
   "metadata": {
    "collapsed": false
   },
   "outputs": [
    {
     "data": {
      "text/plain": [
       "ahrefs      0.756458\n",
       "majestic    0.743421\n",
       "google      0.736264\n",
       "dtype: float64"
      ]
     },
     "execution_count": 38,
     "metadata": {},
     "output_type": "execute_result"
    }
   ],
   "source": [
    "live_per_site.median()"
   ]
  },
  {
   "cell_type": "markdown",
   "metadata": {},
   "source": [
    "### consider those 104 domains as 1 and run this study across all data at once"
   ]
  },
  {
   "cell_type": "code",
   "execution_count": 45,
   "metadata": {
    "collapsed": false
   },
   "outputs": [
    {
     "data": {
      "text/plain": [
       "ahrefs      0.608831\n",
       "majestic    0.600990\n",
       "google      0.599185\n",
       "dtype: float64"
      ]
     },
     "execution_count": 45,
     "metadata": {},
     "output_type": "execute_result"
    }
   ],
   "source": [
    "data_live[['ahrefs', 'majestic', 'google']].sum() / data_all[['ahrefs', 'majestic', 'google']].sum()"
   ]
  },
  {
   "cell_type": "markdown",
   "metadata": {},
   "source": [
    "### If we consider all unique ref.domains found in 3 sources as 100%, then what % from all these ref.domains each individual source has found?"
   ]
  },
  {
   "cell_type": "markdown",
   "metadata": {},
   "source": [
    "### Method 1: calculate % of unique ref.domains for each of 104 sites separately, and then take the average and median values across all 104 sites"
   ]
  },
  {
   "cell_type": "code",
   "execution_count": 49,
   "metadata": {
    "collapsed": false
   },
   "outputs": [
    {
     "data": {
      "text/html": [
       "<div>\n",
       "<style scoped>\n",
       "    .dataframe tbody tr th:only-of-type {\n",
       "        vertical-align: middle;\n",
       "    }\n",
       "\n",
       "    .dataframe tbody tr th {\n",
       "        vertical-align: top;\n",
       "    }\n",
       "\n",
       "    .dataframe thead th {\n",
       "        text-align: right;\n",
       "    }\n",
       "</style>\n",
       "<table border=\"1\" class=\"dataframe\">\n",
       "  <thead>\n",
       "    <tr style=\"text-align: right;\">\n",
       "      <th></th>\n",
       "      <th>site</th>\n",
       "      <th>ahrefs</th>\n",
       "      <th>majestic</th>\n",
       "      <th>google</th>\n",
       "    </tr>\n",
       "  </thead>\n",
       "  <tbody>\n",
       "    <tr>\n",
       "      <th>0</th>\n",
       "      <td>10edges.com</td>\n",
       "      <td>0.478261</td>\n",
       "      <td>0.467391</td>\n",
       "      <td>0.663043</td>\n",
       "    </tr>\n",
       "    <tr>\n",
       "      <th>1</th>\n",
       "      <td>4quotes4me.co.uk</td>\n",
       "      <td>0.556391</td>\n",
       "      <td>0.558897</td>\n",
       "      <td>0.309524</td>\n",
       "    </tr>\n",
       "    <tr>\n",
       "      <th>2</th>\n",
       "      <td>aaronneo.com.au</td>\n",
       "      <td>0.318841</td>\n",
       "      <td>0.130435</td>\n",
       "      <td>0.869565</td>\n",
       "    </tr>\n",
       "    <tr>\n",
       "      <th>3</th>\n",
       "      <td>aionhill.com</td>\n",
       "      <td>0.598060</td>\n",
       "      <td>0.323276</td>\n",
       "      <td>0.589440</td>\n",
       "    </tr>\n",
       "    <tr>\n",
       "      <th>4</th>\n",
       "      <td>antongorlin.com</td>\n",
       "      <td>0.548117</td>\n",
       "      <td>0.324965</td>\n",
       "      <td>0.670851</td>\n",
       "    </tr>\n",
       "  </tbody>\n",
       "</table>\n",
       "</div>"
      ],
      "text/plain": [
       "               site    ahrefs  majestic    google\n",
       "0       10edges.com  0.478261  0.467391  0.663043\n",
       "1  4quotes4me.co.uk  0.556391  0.558897  0.309524\n",
       "2   aaronneo.com.au  0.318841  0.130435  0.869565\n",
       "3      aionhill.com  0.598060  0.323276  0.589440\n",
       "4   antongorlin.com  0.548117  0.324965  0.670851"
      ]
     },
     "execution_count": 49,
     "metadata": {},
     "output_type": "execute_result"
    }
   ],
   "source": [
    "found_doms1 = data_all.groupby(['site'], as_index=False).agg({'ahrefs': np.mean, \n",
    "                                            'majestic': np.mean, \n",
    "                                            'google': np.mean})\n",
    "found_doms1.head()"
   ]
  },
  {
   "cell_type": "markdown",
   "metadata": {},
   "source": [
    "### mean"
   ]
  },
  {
   "cell_type": "code",
   "execution_count": 50,
   "metadata": {
    "collapsed": false,
    "scrolled": true
   },
   "outputs": [
    {
     "data": {
      "text/plain": [
       "ahrefs      0.506517\n",
       "majestic    0.394779\n",
       "google      0.608244\n",
       "dtype: float64"
      ]
     },
     "execution_count": 50,
     "metadata": {},
     "output_type": "execute_result"
    }
   ],
   "source": [
    "found_doms1.mean()"
   ]
  },
  {
   "cell_type": "markdown",
   "metadata": {},
   "source": [
    "### median"
   ]
  },
  {
   "cell_type": "code",
   "execution_count": 51,
   "metadata": {
    "collapsed": false
   },
   "outputs": [
    {
     "data": {
      "text/plain": [
       "ahrefs      0.514431\n",
       "majestic    0.402381\n",
       "google      0.626293\n",
       "dtype: float64"
      ]
     },
     "execution_count": 51,
     "metadata": {},
     "output_type": "execute_result"
    }
   ],
   "source": [
    "found_doms1.median()"
   ]
  },
  {
   "cell_type": "markdown",
   "metadata": {},
   "source": [
    "### Live doms"
   ]
  },
  {
   "cell_type": "code",
   "execution_count": 52,
   "metadata": {
    "collapsed": false
   },
   "outputs": [
    {
     "data": {
      "text/html": [
       "<div>\n",
       "<style scoped>\n",
       "    .dataframe tbody tr th:only-of-type {\n",
       "        vertical-align: middle;\n",
       "    }\n",
       "\n",
       "    .dataframe tbody tr th {\n",
       "        vertical-align: top;\n",
       "    }\n",
       "\n",
       "    .dataframe thead th {\n",
       "        text-align: right;\n",
       "    }\n",
       "</style>\n",
       "<table border=\"1\" class=\"dataframe\">\n",
       "  <thead>\n",
       "    <tr style=\"text-align: right;\">\n",
       "      <th></th>\n",
       "      <th>site</th>\n",
       "      <th>ahrefs</th>\n",
       "      <th>majestic</th>\n",
       "      <th>google</th>\n",
       "    </tr>\n",
       "  </thead>\n",
       "  <tbody>\n",
       "    <tr>\n",
       "      <th>0</th>\n",
       "      <td>10edges.com</td>\n",
       "      <td>0.547170</td>\n",
       "      <td>0.566038</td>\n",
       "      <td>0.641509</td>\n",
       "    </tr>\n",
       "    <tr>\n",
       "      <th>1</th>\n",
       "      <td>4quotes4me.co.uk</td>\n",
       "      <td>0.533333</td>\n",
       "      <td>0.446154</td>\n",
       "      <td>0.523077</td>\n",
       "    </tr>\n",
       "    <tr>\n",
       "      <th>2</th>\n",
       "      <td>aaronneo.com.au</td>\n",
       "      <td>0.310345</td>\n",
       "      <td>0.137931</td>\n",
       "      <td>0.896552</td>\n",
       "    </tr>\n",
       "    <tr>\n",
       "      <th>3</th>\n",
       "      <td>aionhill.com</td>\n",
       "      <td>0.623596</td>\n",
       "      <td>0.477528</td>\n",
       "      <td>0.721910</td>\n",
       "    </tr>\n",
       "    <tr>\n",
       "      <th>4</th>\n",
       "      <td>antongorlin.com</td>\n",
       "      <td>0.573034</td>\n",
       "      <td>0.376404</td>\n",
       "      <td>0.661049</td>\n",
       "    </tr>\n",
       "  </tbody>\n",
       "</table>\n",
       "</div>"
      ],
      "text/plain": [
       "               site    ahrefs  majestic    google\n",
       "0       10edges.com  0.547170  0.566038  0.641509\n",
       "1  4quotes4me.co.uk  0.533333  0.446154  0.523077\n",
       "2   aaronneo.com.au  0.310345  0.137931  0.896552\n",
       "3      aionhill.com  0.623596  0.477528  0.721910\n",
       "4   antongorlin.com  0.573034  0.376404  0.661049"
      ]
     },
     "execution_count": 52,
     "metadata": {},
     "output_type": "execute_result"
    }
   ],
   "source": [
    "live_doms1 = data_live.groupby(['site'], as_index=False).agg({'ahrefs': np.mean, \n",
    "                                            'majestic': np.mean, \n",
    "                                            'google': np.mean})\n",
    "live_doms1.head()"
   ]
  },
  {
   "cell_type": "code",
   "execution_count": 53,
   "metadata": {
    "collapsed": false
   },
   "outputs": [
    {
     "data": {
      "text/plain": [
       "ahrefs      0.546705\n",
       "majestic    0.417289\n",
       "google      0.661572\n",
       "dtype: float64"
      ]
     },
     "execution_count": 53,
     "metadata": {},
     "output_type": "execute_result"
    }
   ],
   "source": [
    "#mean\n",
    "live_doms1.mean()"
   ]
  },
  {
   "cell_type": "code",
   "execution_count": 54,
   "metadata": {
    "collapsed": false
   },
   "outputs": [
    {
     "data": {
      "text/plain": [
       "ahrefs      0.562789\n",
       "majestic    0.423992\n",
       "google      0.708507\n",
       "dtype: float64"
      ]
     },
     "execution_count": 54,
     "metadata": {},
     "output_type": "execute_result"
    }
   ],
   "source": [
    "#median\n",
    "live_doms1.median()"
   ]
  },
  {
   "cell_type": "code",
   "execution_count": 88,
   "metadata": {
    "collapsed": false
   },
   "outputs": [
    {
     "data": {
      "text/html": [
       "<div>\n",
       "<style scoped>\n",
       "    .dataframe tbody tr th:only-of-type {\n",
       "        vertical-align: middle;\n",
       "    }\n",
       "\n",
       "    .dataframe tbody tr th {\n",
       "        vertical-align: top;\n",
       "    }\n",
       "\n",
       "    .dataframe thead th {\n",
       "        text-align: right;\n",
       "    }\n",
       "</style>\n",
       "<table border=\"1\" class=\"dataframe\">\n",
       "  <thead>\n",
       "    <tr style=\"text-align: right;\">\n",
       "      <th></th>\n",
       "      <th>domain</th>\n",
       "      <th>ahrefs</th>\n",
       "      <th>majestic</th>\n",
       "      <th>google</th>\n",
       "    </tr>\n",
       "  </thead>\n",
       "  <tbody>\n",
       "    <tr>\n",
       "      <th>0</th>\n",
       "      <td>0-21.co.uk</td>\n",
       "      <td>1</td>\n",
       "      <td>0</td>\n",
       "      <td>0</td>\n",
       "    </tr>\n",
       "    <tr>\n",
       "      <th>1</th>\n",
       "      <td>0-3-0.com</td>\n",
       "      <td>1</td>\n",
       "      <td>0</td>\n",
       "      <td>0</td>\n",
       "    </tr>\n",
       "    <tr>\n",
       "      <th>2</th>\n",
       "      <td>000.nl</td>\n",
       "      <td>1</td>\n",
       "      <td>1</td>\n",
       "      <td>1</td>\n",
       "    </tr>\n",
       "    <tr>\n",
       "      <th>3</th>\n",
       "      <td>000a.biz</td>\n",
       "      <td>0</td>\n",
       "      <td>0</td>\n",
       "      <td>1</td>\n",
       "    </tr>\n",
       "    <tr>\n",
       "      <th>4</th>\n",
       "      <td>000webhostapp.com</td>\n",
       "      <td>1</td>\n",
       "      <td>0</td>\n",
       "      <td>0</td>\n",
       "    </tr>\n",
       "  </tbody>\n",
       "</table>\n",
       "</div>"
      ],
      "text/plain": [
       "              domain  ahrefs  majestic  google\n",
       "0         0-21.co.uk       1         0       0\n",
       "1          0-3-0.com       1         0       0\n",
       "2             000.nl       1         1       1\n",
       "3           000a.biz       0         0       1\n",
       "4  000webhostapp.com       1         0       0"
      ]
     },
     "execution_count": 88,
     "metadata": {},
     "output_type": "execute_result"
    }
   ],
   "source": [
    "found_doms = data_all.groupby(['domain'], as_index=False).agg({'ahrefs': max, \n",
    "                                                            'majestic': max,\n",
    "                                                            'google': max})\n",
    "# found_doms = found_doms[~(found_doms[['ahrefs', 'majestic', 'google']] == 0).all(axis=1)]\n",
    "found_doms.head()"
   ]
  },
  {
   "cell_type": "code",
   "execution_count": 89,
   "metadata": {
    "collapsed": false
   },
   "outputs": [
    {
     "name": "stdout",
     "output_type": "stream",
     "text": [
      "All ref domains: 64194\n"
     ]
    }
   ],
   "source": [
    "print('All ref domains: {}'.format(len(found_doms)))"
   ]
  },
  {
   "cell_type": "markdown",
   "metadata": {},
   "source": [
    "### all ref domains"
   ]
  },
  {
   "cell_type": "code",
   "execution_count": 57,
   "metadata": {
    "collapsed": false
   },
   "outputs": [
    {
     "data": {
      "text/plain": [
       "ahrefs      0.568200\n",
       "majestic    0.533851\n",
       "google      0.582687\n",
       "dtype: float64"
      ]
     },
     "execution_count": 57,
     "metadata": {},
     "output_type": "execute_result"
    }
   ],
   "source": [
    "found_doms[['ahrefs', 'majestic', 'google']].mean()"
   ]
  },
  {
   "cell_type": "code",
   "execution_count": 73,
   "metadata": {
    "collapsed": false
   },
   "outputs": [],
   "source": [
    "live_doms = data_live.groupby(['domain'], as_index=False).agg({'ahrefs': max, \n",
    "                                                            'majestic': max,\n",
    "                                                            'google': max})\n",
    "# live_doms = live_doms[~(live_doms[['ahrefs', 'majestic', 'google']] == 0).all(axis=1)]"
   ]
  },
  {
   "cell_type": "code",
   "execution_count": 74,
   "metadata": {
    "collapsed": false
   },
   "outputs": [
    {
     "name": "stdout",
     "output_type": "stream",
     "text": [
      "All live ref domains: 34890\n"
     ]
    }
   ],
   "source": [
    "print('All live ref domains: {}'.format(len(live_doms)))"
   ]
  },
  {
   "cell_type": "markdown",
   "metadata": {},
   "source": [
    "### live ref domain"
   ]
  },
  {
   "cell_type": "code",
   "execution_count": 75,
   "metadata": {
    "collapsed": false
   },
   "outputs": [
    {
     "data": {
      "text/plain": [
       "ahrefs      0.652651\n",
       "majestic    0.604357\n",
       "google      0.645343\n",
       "dtype: float64"
      ]
     },
     "execution_count": 75,
     "metadata": {},
     "output_type": "execute_result"
    }
   ],
   "source": [
    "live_doms[['ahrefs', 'majestic', 'google']].mean()"
   ]
  },
  {
   "cell_type": "markdown",
   "metadata": {},
   "source": [
    "### all ref domain"
   ]
  },
  {
   "cell_type": "code",
   "execution_count": 76,
   "metadata": {
    "collapsed": false
   },
   "outputs": [
    {
     "data": {
      "text/plain": [
       "64194"
      ]
     },
     "execution_count": 76,
     "metadata": {},
     "output_type": "execute_result"
    }
   ],
   "source": [
    "all_ref_doms = len(found_doms)\n",
    "all_ref_doms"
   ]
  },
  {
   "cell_type": "code",
   "execution_count": 77,
   "metadata": {
    "collapsed": false
   },
   "outputs": [
    {
     "data": {
      "text/plain": [
       "34890"
      ]
     },
     "execution_count": 77,
     "metadata": {},
     "output_type": "execute_result"
    }
   ],
   "source": [
    "live_ref_doms = len(live_doms)\n",
    "live_ref_doms"
   ]
  },
  {
   "cell_type": "code",
   "execution_count": 78,
   "metadata": {
    "collapsed": false
   },
   "outputs": [
    {
     "name": "stdout",
     "output_type": "stream",
     "text": [
      "count ref domains reported by at least 1 of 3 sources: 64194\n",
      "unique to ahrefs: 9226\n",
      "unique to majestic: 9859\n",
      "unique to google: 13987\n",
      "ahrefs & majestic: 7704\n",
      "ahrefs & google: 6711\n",
      "majestic & google: 3873\n",
      "ahrefs & majestic & google: 12834\n"
     ]
    }
   ],
   "source": [
    "#count all ref domains found by at least one of the 3 sources\n",
    "print ('count ref domains reported by at least 1 of 3 sources: {}'.format(all_ref_doms))\n",
    "\n",
    "# unique to ahrefs\n",
    "print ('unique to ahrefs: {}'.format(len(found_doms[(found_doms.ahrefs == 1) &\\\n",
    "                                (found_doms.majestic == 0) &\\\n",
    "                                (found_doms.google == 0)])))\n",
    "\n",
    "# unique to majestic\n",
    "print ('unique to majestic: {}'.format(len(found_doms[(found_doms.ahrefs == 0) &\\\n",
    "                                          (found_doms.majestic == 1) &\\\n",
    "                                          (found_doms.google == 0)])))\n",
    "\n",
    "# unique to google\n",
    "print ('unique to google: {}'.format(len(found_doms[(found_doms.ahrefs == 0) &\\\n",
    "                                          (found_doms.majestic == 0) &\\\n",
    "                                          (found_doms.google == 1)])))\n",
    "\n",
    "# ahrefs and majestic\n",
    "print ('ahrefs & majestic: {}'.format(len(found_doms[(found_doms.ahrefs == 1) &\\\n",
    "                                                       (found_doms.majestic == 1) &\\\n",
    "                                                       (found_doms.google == 0)])))\n",
    "\n",
    "# ahrefs and google\n",
    "print ('ahrefs & google: {}'.format(len(found_doms[(found_doms.ahrefs == 1) &\\\n",
    "                                                     (found_doms.majestic == 0) &\\\n",
    "                                                     (found_doms.google == 1)])))\n",
    "\n",
    "# majestic and google\n",
    "print ('majestic & google: {}'.format(len(found_doms[(found_doms.ahrefs == 0) &\\\n",
    "                                                       (found_doms.majestic == 1) &\\\n",
    "                                                       (found_doms.google == 1)])))\n",
    "\n",
    "# ahrefs and majestic and google\n",
    "print ('ahrefs & majestic & google: {}'.format(len(found_doms[(found_doms.ahrefs == 1) &\\\n",
    "                                                              (found_doms.majestic == 1) &\\\n",
    "                                                              (found_doms.google == 1)])))"
   ]
  },
  {
   "cell_type": "markdown",
   "metadata": {},
   "source": [
    "### Live ref domains"
   ]
  },
  {
   "cell_type": "code",
   "execution_count": 79,
   "metadata": {
    "collapsed": false
   },
   "outputs": [
    {
     "name": "stdout",
     "output_type": "stream",
     "text": [
      "count ref domains reported by at least 1 of 3 sources: 34890\n",
      "unique to ahrefs: 3542\n",
      "unique to majestic: 3938\n",
      "unique to google: 6238\n",
      "ahrefs & majestic: 4894\n",
      "ahrefs & google: 4024\n",
      "majestic & google: 1943\n",
      "ahrefs & majestic & google: 10311\n"
     ]
    }
   ],
   "source": [
    "#count all ref domains found by at least one of the 3 sources\n",
    "print ('count ref domains reported by at least 1 of 3 sources: {}'.format(live_ref_doms))\n",
    "\n",
    "# unique to ahrefs\n",
    "print ('unique to ahrefs: {}'.format(len(live_doms[(live_doms.ahrefs == 1) &\\\n",
    "                                (live_doms.majestic == 0) &\\\n",
    "                                (live_doms.google == 0)])))\n",
    "\n",
    "# unique to majestic\n",
    "print ('unique to majestic: {}'.format(len(live_doms[(live_doms.ahrefs == 0) &\\\n",
    "                                          (live_doms.majestic == 1) &\\\n",
    "                                          (live_doms.google == 0)])))\n",
    "\n",
    "# unique to google\n",
    "print ('unique to google: {}'.format(len(live_doms[(live_doms.ahrefs == 0) &\\\n",
    "                                          (live_doms.majestic == 0) &\\\n",
    "                                          (live_doms.google == 1)])))\n",
    "\n",
    "# ahrefs and majestic\n",
    "print ('ahrefs & majestic: {}'.format(len(live_doms[(live_doms.ahrefs == 1) &\\\n",
    "                                                       (live_doms.majestic == 1) &\\\n",
    "                                                       (live_doms.google == 0)])))\n",
    "\n",
    "# ahrefs and google\n",
    "print ('ahrefs & google: {}'.format(len(live_doms[(live_doms.ahrefs == 1) &\\\n",
    "                                                     (live_doms.majestic == 0) &\\\n",
    "                                                     (live_doms.google == 1)])))\n",
    "\n",
    "# majestic and google\n",
    "print ('majestic & google: {}'.format(len(live_doms[(live_doms.ahrefs == 0) &\\\n",
    "                                                       (live_doms.majestic == 1) &\\\n",
    "                                                       (live_doms.google == 1)])))\n",
    "\n",
    "# ahrefs and majestic and google\n",
    "print ('ahrefs & majestic & google: {}'.format(len(live_doms[(live_doms.ahrefs == 1) &\\\n",
    "                                                              (live_doms.majestic == 1) &\\\n",
    "                                                              (live_doms.google == 1)])))"
   ]
  },
  {
   "cell_type": "code",
   "execution_count": 80,
   "metadata": {
    "collapsed": false
   },
   "outputs": [
    {
     "data": {
      "text/html": [
       "<div>\n",
       "<style scoped>\n",
       "    .dataframe tbody tr th:only-of-type {\n",
       "        vertical-align: middle;\n",
       "    }\n",
       "\n",
       "    .dataframe tbody tr th {\n",
       "        vertical-align: top;\n",
       "    }\n",
       "\n",
       "    .dataframe thead th {\n",
       "        text-align: right;\n",
       "    }\n",
       "</style>\n",
       "<table border=\"1\" class=\"dataframe\">\n",
       "  <thead>\n",
       "    <tr style=\"text-align: right;\">\n",
       "      <th></th>\n",
       "      <th>domain</th>\n",
       "      <th>source</th>\n",
       "    </tr>\n",
       "  </thead>\n",
       "  <tbody>\n",
       "    <tr>\n",
       "      <th>0</th>\n",
       "      <td>0-21.co.uk</td>\n",
       "      <td>AHREFS</td>\n",
       "    </tr>\n",
       "    <tr>\n",
       "      <th>1</th>\n",
       "      <td>0-3-0.com</td>\n",
       "      <td>AHREFS</td>\n",
       "    </tr>\n",
       "    <tr>\n",
       "      <th>2</th>\n",
       "      <td>000.nl</td>\n",
       "      <td>AHREFS</td>\n",
       "    </tr>\n",
       "    <tr>\n",
       "      <th>3</th>\n",
       "      <td>000webhostapp.com</td>\n",
       "      <td>AHREFS</td>\n",
       "    </tr>\n",
       "    <tr>\n",
       "      <th>4</th>\n",
       "      <td>001casino.com</td>\n",
       "      <td>AHREFS</td>\n",
       "    </tr>\n",
       "  </tbody>\n",
       "</table>\n",
       "</div>"
      ],
      "text/plain": [
       "              domain  source\n",
       "0         0-21.co.uk  AHREFS\n",
       "1          0-3-0.com  AHREFS\n",
       "2             000.nl  AHREFS\n",
       "3  000webhostapp.com  AHREFS\n",
       "4      001casino.com  AHREFS"
      ]
     },
     "execution_count": 80,
     "metadata": {},
     "output_type": "execute_result"
    }
   ],
   "source": [
    "ahrefs = found_doms[found_doms.ahrefs == 1][['domain']]\n",
    "ahrefs['source'] = 'AHREFS'\n",
    "\n",
    "majestic = found_doms[found_doms.majestic == 1][['domain']]\n",
    "majestic['source'] = 'MAJESTIC'\n",
    "\n",
    "google = found_doms[found_doms.google == 1][['domain']]\n",
    "google['source'] = 'GOOGLE'\n",
    "\n",
    "all_refdoms = pd.concat([ahrefs, majestic, google]).drop_duplicates().reset_index(drop=True)\n",
    "all_refdoms.head()"
   ]
  },
  {
   "cell_type": "code",
   "execution_count": 81,
   "metadata": {
    "collapsed": false
   },
   "outputs": [
    {
     "name": "stdout",
     "output_type": "stream",
     "text": [
      "total ahrefs: 36475\n",
      "total majestic: 34270\n",
      "total google: 37405\n"
     ]
    }
   ],
   "source": [
    "print('total ahrefs: {}'.format(len(ahrefs)))\n",
    "print('total majestic: {}'.format(len(majestic)))\n",
    "print('total google: {}'.format(len(google)))"
   ]
  },
  {
   "cell_type": "code",
   "execution_count": 82,
   "metadata": {
    "collapsed": false
   },
   "outputs": [
    {
     "data": {
      "text/plain": [
       "GOOGLE      37405\n",
       "AHREFS      36475\n",
       "MAJESTIC    34270\n",
       "Name: source, dtype: int64"
      ]
     },
     "execution_count": 82,
     "metadata": {},
     "output_type": "execute_result"
    }
   ],
   "source": [
    "all_refdoms.source.value_counts()"
   ]
  },
  {
   "cell_type": "code",
   "execution_count": 83,
   "metadata": {
    "collapsed": true
   },
   "outputs": [],
   "source": [
    "all_refdoms.to_csv('data/all_refdoms.csv')"
   ]
  },
  {
   "cell_type": "markdown",
   "metadata": {},
   "source": [
    "### live ref domain"
   ]
  },
  {
   "cell_type": "code",
   "execution_count": 84,
   "metadata": {
    "collapsed": false
   },
   "outputs": [
    {
     "data": {
      "text/html": [
       "<div>\n",
       "<style scoped>\n",
       "    .dataframe tbody tr th:only-of-type {\n",
       "        vertical-align: middle;\n",
       "    }\n",
       "\n",
       "    .dataframe tbody tr th {\n",
       "        vertical-align: top;\n",
       "    }\n",
       "\n",
       "    .dataframe thead th {\n",
       "        text-align: right;\n",
       "    }\n",
       "</style>\n",
       "<table border=\"1\" class=\"dataframe\">\n",
       "  <thead>\n",
       "    <tr style=\"text-align: right;\">\n",
       "      <th></th>\n",
       "      <th>domain</th>\n",
       "      <th>source</th>\n",
       "    </tr>\n",
       "  </thead>\n",
       "  <tbody>\n",
       "    <tr>\n",
       "      <th>0</th>\n",
       "      <td>000.nl</td>\n",
       "      <td>AHREFS</td>\n",
       "    </tr>\n",
       "    <tr>\n",
       "      <th>1</th>\n",
       "      <td>015.by</td>\n",
       "      <td>AHREFS</td>\n",
       "    </tr>\n",
       "    <tr>\n",
       "      <th>2</th>\n",
       "      <td>01net.it</td>\n",
       "      <td>AHREFS</td>\n",
       "    </tr>\n",
       "    <tr>\n",
       "      <th>3</th>\n",
       "      <td>020.co.uk</td>\n",
       "      <td>AHREFS</td>\n",
       "    </tr>\n",
       "    <tr>\n",
       "      <th>4</th>\n",
       "      <td>0345-number.uk</td>\n",
       "      <td>AHREFS</td>\n",
       "    </tr>\n",
       "  </tbody>\n",
       "</table>\n",
       "</div>"
      ],
      "text/plain": [
       "           domain  source\n",
       "0          000.nl  AHREFS\n",
       "1          015.by  AHREFS\n",
       "2        01net.it  AHREFS\n",
       "3       020.co.uk  AHREFS\n",
       "4  0345-number.uk  AHREFS"
      ]
     },
     "execution_count": 84,
     "metadata": {},
     "output_type": "execute_result"
    }
   ],
   "source": [
    "ahrefs = live_doms[live_doms.ahrefs == 1][['domain']]\n",
    "ahrefs['source'] = 'AHREFS'\n",
    "\n",
    "majestic = live_doms[live_doms.majestic == 1][['domain']]\n",
    "majestic['source'] = 'MAJESTIC'\n",
    "\n",
    "google = live_doms[live_doms.google == 1][['domain']]\n",
    "google['source'] = 'GOOGLE'\n",
    "\n",
    "live_refdoms = pd.concat([ahrefs, majestic, google]).drop_duplicates().reset_index(drop=True)\n",
    "live_refdoms.head()"
   ]
  },
  {
   "cell_type": "code",
   "execution_count": 85,
   "metadata": {
    "collapsed": true
   },
   "outputs": [],
   "source": [
    "live_refdoms.to_csv('data/live_refdoms.csv')"
   ]
  },
  {
   "cell_type": "code",
   "execution_count": 86,
   "metadata": {
    "collapsed": false
   },
   "outputs": [
    {
     "name": "stdout",
     "output_type": "stream",
     "text": [
      "total ahrefs: 22771\n",
      "total majestic: 21086\n",
      "total google: 22516\n"
     ]
    }
   ],
   "source": [
    "print('total ahrefs: {}'.format(len(ahrefs)))\n",
    "print('total majestic: {}'.format(len(majestic)))\n",
    "print('total google: {}'.format(len(google)))"
   ]
  },
  {
   "cell_type": "code",
   "execution_count": 87,
   "metadata": {
    "collapsed": false
   },
   "outputs": [
    {
     "data": {
      "text/plain": [
       "AHREFS      22771\n",
       "GOOGLE      22516\n",
       "MAJESTIC    21086\n",
       "Name: source, dtype: int64"
      ]
     },
     "execution_count": 87,
     "metadata": {},
     "output_type": "execute_result"
    }
   ],
   "source": [
    "live_refdoms.source.value_counts()"
   ]
  },
  {
   "cell_type": "code",
   "execution_count": null,
   "metadata": {
    "collapsed": true
   },
   "outputs": [],
   "source": []
  }
 ],
 "metadata": {
  "anaconda-cloud": {},
  "kernelspec": {
   "display_name": "Python [conda env:py35]",
   "language": "python",
   "name": "conda-env-py35-py"
  },
  "language_info": {
   "codemirror_mode": {
    "name": "ipython",
    "version": 3
   },
   "file_extension": ".py",
   "mimetype": "text/x-python",
   "name": "python",
   "nbconvert_exporter": "python",
   "pygments_lexer": "ipython3",
   "version": "3.5.4"
  }
 },
 "nbformat": 4,
 "nbformat_minor": 1
}
