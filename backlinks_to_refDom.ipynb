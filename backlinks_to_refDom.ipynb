{
 "cells": [
  {
   "cell_type": "code",
   "execution_count": 1,
   "metadata": {
    "collapsed": false
   },
   "outputs": [],
   "source": [
    "import pandas as pd\n",
    "import glob\n",
    "from sklearn.externals import joblib as jl\n",
    "import os\n",
    "from urllib.parse import urlparse\n",
    "import numpy as np\n",
    "import tldextract\n",
    "\n",
    "%matplotlib inline"
   ]
  },
  {
   "cell_type": "code",
   "execution_count": 2,
   "metadata": {
    "collapsed": false
   },
   "outputs": [],
   "source": [
    "def ref_domains_extract(data_path):\n",
    "    domains = os.listdir(data_path)\n",
    "    data = pd.DataFrame(columns=['domain', 'ref_domain', 'source'])\n",
    "    doms =[]\n",
    "    print('Done:')\n",
    "    for dom in domains:\n",
    "        files = glob.glob(\"{}/{}/*.csv\".format(data_path, dom))\n",
    "        for f in files:\n",
    "            if 'backlinks-subdomains-recent' in f:\n",
    "                links = pd.read_csv(f, usecols=['Referring Page URL'], sep='\\t', encoding='utf-16')['Referring Page URL']\n",
    "                source = 'AHREFS'\n",
    "\n",
    "            if 'download_fresh_' in f:\n",
    "                links = pd.read_csv(f, usecols=['Source URL'])['Source URL']\n",
    "                source = 'MAJESTIC'\n",
    "\n",
    "            if 'ExternalLinks_SampleLinks' in f:\n",
    "                links = pd.read_csv(f, usecols=['Links'])['Links']\n",
    "                source = 'GOOGLE'\n",
    "            \n",
    "            links = links.apply(lambda x: '{uri.netloc}'.format(uri=urlparse(x)))\n",
    "#             links = links.apply(lambda x: tldextract.extract(x).registered_domain)\n",
    "            df = pd.DataFrame({'ref_domain': links.unique()})\n",
    "            df['domain'] = dom\n",
    "            df['source'] = source\n",
    "            data = data.append(df, ignore_index=True)\n",
    "    \n",
    "        doms.append(dom)\n",
    "    print(len(doms))\n",
    "    jl.dump(data, 'data/ref_domains_crawl2.jl')"
   ]
  },
  {
   "cell_type": "code",
   "execution_count": 3,
   "metadata": {
    "collapsed": false,
    "scrolled": true
   },
   "outputs": [
    {
     "name": "stdout",
     "output_type": "stream",
     "text": [
      "Done:\n",
      "104\n",
      "Wall time: 9min 58s\n"
     ]
    }
   ],
   "source": [
    "# %%time\n",
    "# data_path = 'data/GSC Ahrefs Majestic'\n",
    "# ref_domains_extract(data_path)"
   ]
  },
  {
   "cell_type": "code",
   "execution_count": null,
   "metadata": {
    "collapsed": false
   },
   "outputs": [],
   "source": [
    "# data0 = jl.load('data/ref_domains_crawl2.jl').drop_duplicates().reset_index(drop=True)\n",
    "# data0 = data0[data0.ref_domain != '']\n",
    "# data0.head()"
   ]
  },
  {
   "cell_type": "code",
   "execution_count": 4,
   "metadata": {
    "collapsed": true
   },
   "outputs": [],
   "source": [
    "# data0.to_csv('data/data0.csv')"
   ]
  },
  {
   "cell_type": "code",
   "execution_count": 2,
   "metadata": {
    "collapsed": false
   },
   "outputs": [
    {
     "data": {
      "text/html": [
       "<div>\n",
       "<style scoped>\n",
       "    .dataframe tbody tr th:only-of-type {\n",
       "        vertical-align: middle;\n",
       "    }\n",
       "\n",
       "    .dataframe tbody tr th {\n",
       "        vertical-align: top;\n",
       "    }\n",
       "\n",
       "    .dataframe thead th {\n",
       "        text-align: right;\n",
       "    }\n",
       "</style>\n",
       "<table border=\"1\" class=\"dataframe\">\n",
       "  <thead>\n",
       "    <tr style=\"text-align: right;\">\n",
       "      <th></th>\n",
       "      <th>domain</th>\n",
       "      <th>ref_domain</th>\n",
       "      <th>source</th>\n",
       "      <th>ref_domain.1</th>\n",
       "      <th>Unnamed: 5</th>\n",
       "      <th>ref_domain.2</th>\n",
       "    </tr>\n",
       "  </thead>\n",
       "  <tbody>\n",
       "    <tr>\n",
       "      <th>0</th>\n",
       "      <td>10edges.com</td>\n",
       "      <td>3dprintingninja.blogspot.com.ee</td>\n",
       "      <td>GOOGLE</td>\n",
       "      <td>3dprintingninja.blogspot.com.ee</td>\n",
       "      <td>3dprintingninja.blogspot</td>\n",
       "      <td>com.ee</td>\n",
       "    </tr>\n",
       "    <tr>\n",
       "      <th>1</th>\n",
       "      <td>10edges.com</td>\n",
       "      <td>3dprintingninja.blogspot.com</td>\n",
       "      <td>GOOGLE</td>\n",
       "      <td>3dprintingninja.blogspot.com</td>\n",
       "      <td>3dprintingninja.blogspot</td>\n",
       "      <td>com</td>\n",
       "    </tr>\n",
       "    <tr>\n",
       "      <th>2</th>\n",
       "      <td>10edges.com</td>\n",
       "      <td>3dprintingninja.blogspot.fr</td>\n",
       "      <td>GOOGLE</td>\n",
       "      <td>3dprintingninja.blogspot.fr</td>\n",
       "      <td>3dprintingninja.blogspot</td>\n",
       "      <td>fr</td>\n",
       "    </tr>\n",
       "    <tr>\n",
       "      <th>3</th>\n",
       "      <td>10edges.com</td>\n",
       "      <td>3dprintingninja.blogspot.in</td>\n",
       "      <td>GOOGLE</td>\n",
       "      <td>3dprintingninja.blogspot.in</td>\n",
       "      <td>3dprintingninja.blogspot</td>\n",
       "      <td>in</td>\n",
       "    </tr>\n",
       "    <tr>\n",
       "      <th>4</th>\n",
       "      <td>10edges.com</td>\n",
       "      <td>3dprintingninja.blogspot.nl</td>\n",
       "      <td>GOOGLE</td>\n",
       "      <td>3dprintingninja.blogspot.nl</td>\n",
       "      <td>3dprintingninja.blogspot</td>\n",
       "      <td>nl</td>\n",
       "    </tr>\n",
       "  </tbody>\n",
       "</table>\n",
       "</div>"
      ],
      "text/plain": [
       "        domain                       ref_domain  source  \\\n",
       "0  10edges.com  3dprintingninja.blogspot.com.ee  GOOGLE   \n",
       "1  10edges.com     3dprintingninja.blogspot.com  GOOGLE   \n",
       "2  10edges.com      3dprintingninja.blogspot.fr  GOOGLE   \n",
       "3  10edges.com      3dprintingninja.blogspot.in  GOOGLE   \n",
       "4  10edges.com      3dprintingninja.blogspot.nl  GOOGLE   \n",
       "\n",
       "                      ref_domain.1                Unnamed: 5 ref_domain.2  \n",
       "0  3dprintingninja.blogspot.com.ee  3dprintingninja.blogspot       com.ee  \n",
       "1     3dprintingninja.blogspot.com  3dprintingninja.blogspot          com  \n",
       "2      3dprintingninja.blogspot.fr  3dprintingninja.blogspot           fr  \n",
       "3      3dprintingninja.blogspot.in  3dprintingninja.blogspot           in  \n",
       "4      3dprintingninja.blogspot.nl  3dprintingninja.blogspot           nl  "
      ]
     },
     "execution_count": 2,
     "metadata": {},
     "output_type": "execute_result"
    }
   ],
   "source": [
    "pd.read_csv('data/out.csv', header=1, index_col=0).head()"
   ]
  },
  {
   "cell_type": "code",
   "execution_count": 3,
   "metadata": {
    "collapsed": false
   },
   "outputs": [
    {
     "data": {
      "text/html": [
       "<div>\n",
       "<style scoped>\n",
       "    .dataframe tbody tr th:only-of-type {\n",
       "        vertical-align: middle;\n",
       "    }\n",
       "\n",
       "    .dataframe tbody tr th {\n",
       "        vertical-align: top;\n",
       "    }\n",
       "\n",
       "    .dataframe thead th {\n",
       "        text-align: right;\n",
       "    }\n",
       "</style>\n",
       "<table border=\"1\" class=\"dataframe\">\n",
       "  <thead>\n",
       "    <tr style=\"text-align: right;\">\n",
       "      <th></th>\n",
       "      <th>domain</th>\n",
       "      <th>ref_domain</th>\n",
       "      <th>source</th>\n",
       "    </tr>\n",
       "  </thead>\n",
       "  <tbody>\n",
       "    <tr>\n",
       "      <th>0</th>\n",
       "      <td>10edges.com</td>\n",
       "      <td>3dprintingninja.blogspot.com.ee</td>\n",
       "      <td>GOOGLE</td>\n",
       "    </tr>\n",
       "    <tr>\n",
       "      <th>1</th>\n",
       "      <td>10edges.com</td>\n",
       "      <td>3dprintingninja.blogspot.com</td>\n",
       "      <td>GOOGLE</td>\n",
       "    </tr>\n",
       "    <tr>\n",
       "      <th>2</th>\n",
       "      <td>10edges.com</td>\n",
       "      <td>3dprintingninja.blogspot.fr</td>\n",
       "      <td>GOOGLE</td>\n",
       "    </tr>\n",
       "    <tr>\n",
       "      <th>3</th>\n",
       "      <td>10edges.com</td>\n",
       "      <td>3dprintingninja.blogspot.in</td>\n",
       "      <td>GOOGLE</td>\n",
       "    </tr>\n",
       "    <tr>\n",
       "      <th>4</th>\n",
       "      <td>10edges.com</td>\n",
       "      <td>3dprintingninja.blogspot.nl</td>\n",
       "      <td>GOOGLE</td>\n",
       "    </tr>\n",
       "  </tbody>\n",
       "</table>\n",
       "</div>"
      ],
      "text/plain": [
       "        domain                       ref_domain  source\n",
       "0  10edges.com  3dprintingninja.blogspot.com.ee  GOOGLE\n",
       "1  10edges.com     3dprintingninja.blogspot.com  GOOGLE\n",
       "2  10edges.com      3dprintingninja.blogspot.fr  GOOGLE\n",
       "3  10edges.com      3dprintingninja.blogspot.in  GOOGLE\n",
       "4  10edges.com      3dprintingninja.blogspot.nl  GOOGLE"
      ]
     },
     "execution_count": 3,
     "metadata": {},
     "output_type": "execute_result"
    }
   ],
   "source": [
    "data0 = pd.read_csv('data/out.csv', header=1, index_col=0)[['domain', 'ref_domain.1', 'source']]\n",
    "data0.rename(columns={'ref_domain.1': 'ref_domain'}, inplace=True)\n",
    "data0.head()"
   ]
  },
  {
   "cell_type": "code",
   "execution_count": 4,
   "metadata": {
    "collapsed": false
   },
   "outputs": [
    {
     "data": {
      "text/html": [
       "<div>\n",
       "<style scoped>\n",
       "    .dataframe tbody tr th:only-of-type {\n",
       "        vertical-align: middle;\n",
       "    }\n",
       "\n",
       "    .dataframe tbody tr th {\n",
       "        vertical-align: top;\n",
       "    }\n",
       "\n",
       "    .dataframe thead th {\n",
       "        text-align: right;\n",
       "    }\n",
       "</style>\n",
       "<table border=\"1\" class=\"dataframe\">\n",
       "  <thead>\n",
       "    <tr style=\"text-align: right;\">\n",
       "      <th></th>\n",
       "      <th>domain</th>\n",
       "      <th>ref_domain</th>\n",
       "      <th>source</th>\n",
       "    </tr>\n",
       "  </thead>\n",
       "  <tbody>\n",
       "    <tr>\n",
       "      <th>0</th>\n",
       "      <td>10edges.com</td>\n",
       "      <td>3dprintingninja.blogspot.com.ee</td>\n",
       "      <td>GOOGLE</td>\n",
       "    </tr>\n",
       "    <tr>\n",
       "      <th>1</th>\n",
       "      <td>10edges.com</td>\n",
       "      <td>3dprintingninja.blogspot.com</td>\n",
       "      <td>GOOGLE</td>\n",
       "    </tr>\n",
       "    <tr>\n",
       "      <th>2</th>\n",
       "      <td>10edges.com</td>\n",
       "      <td>3dprintingninja.blogspot.fr</td>\n",
       "      <td>GOOGLE</td>\n",
       "    </tr>\n",
       "    <tr>\n",
       "      <th>3</th>\n",
       "      <td>10edges.com</td>\n",
       "      <td>3dprintingninja.blogspot.in</td>\n",
       "      <td>GOOGLE</td>\n",
       "    </tr>\n",
       "    <tr>\n",
       "      <th>4</th>\n",
       "      <td>10edges.com</td>\n",
       "      <td>3dprintingninja.blogspot.nl</td>\n",
       "      <td>GOOGLE</td>\n",
       "    </tr>\n",
       "    <tr>\n",
       "      <th>13</th>\n",
       "      <td>10edges.com</td>\n",
       "      <td>carthage.edu</td>\n",
       "      <td>GOOGLE</td>\n",
       "    </tr>\n",
       "    <tr>\n",
       "      <th>36</th>\n",
       "      <td>10edges.com</td>\n",
       "      <td>dcc.edu</td>\n",
       "      <td>GOOGLE</td>\n",
       "    </tr>\n",
       "    <tr>\n",
       "      <th>37</th>\n",
       "      <td>10edges.com</td>\n",
       "      <td>droneflyers.com</td>\n",
       "      <td>GOOGLE</td>\n",
       "    </tr>\n",
       "    <tr>\n",
       "      <th>38</th>\n",
       "      <td>10edges.com</td>\n",
       "      <td>ec.edu</td>\n",
       "      <td>GOOGLE</td>\n",
       "    </tr>\n",
       "    <tr>\n",
       "      <th>39</th>\n",
       "      <td>10edges.com</td>\n",
       "      <td>financeservicesfinder.com</td>\n",
       "      <td>GOOGLE</td>\n",
       "    </tr>\n",
       "  </tbody>\n",
       "</table>\n",
       "</div>"
      ],
      "text/plain": [
       "         domain                       ref_domain  source\n",
       "0   10edges.com  3dprintingninja.blogspot.com.ee  GOOGLE\n",
       "1   10edges.com     3dprintingninja.blogspot.com  GOOGLE\n",
       "2   10edges.com      3dprintingninja.blogspot.fr  GOOGLE\n",
       "3   10edges.com      3dprintingninja.blogspot.in  GOOGLE\n",
       "4   10edges.com      3dprintingninja.blogspot.nl  GOOGLE\n",
       "13  10edges.com                     carthage.edu  GOOGLE\n",
       "36  10edges.com                          dcc.edu  GOOGLE\n",
       "37  10edges.com                  droneflyers.com  GOOGLE\n",
       "38  10edges.com                           ec.edu  GOOGLE\n",
       "39  10edges.com        financeservicesfinder.com  GOOGLE"
      ]
     },
     "execution_count": 4,
     "metadata": {},
     "output_type": "execute_result"
    }
   ],
   "source": [
    "data0.loc[[0,1,2,3,4,13, 36, 37, 38, 39]]"
   ]
  },
  {
   "cell_type": "markdown",
   "metadata": {},
   "source": [
    "### consider all unique ref.domains found in 3 sources as 100%, then what % from all these ref.domains each individual source has found?"
   ]
  },
  {
   "cell_type": "markdown",
   "metadata": {},
   "source": [
    "Method 1: calculate % of unique ref.domains for each of 104 sites separately, and then take the average and median values across all 104 sites"
   ]
  },
  {
   "cell_type": "code",
   "execution_count": 5,
   "metadata": {
    "collapsed": false
   },
   "outputs": [
    {
     "data": {
      "text/html": [
       "<div>\n",
       "<style scoped>\n",
       "    .dataframe tbody tr th:only-of-type {\n",
       "        vertical-align: middle;\n",
       "    }\n",
       "\n",
       "    .dataframe tbody tr th {\n",
       "        vertical-align: top;\n",
       "    }\n",
       "\n",
       "    .dataframe thead th {\n",
       "        text-align: right;\n",
       "    }\n",
       "</style>\n",
       "<table border=\"1\" class=\"dataframe\">\n",
       "  <thead>\n",
       "    <tr style=\"text-align: right;\">\n",
       "      <th></th>\n",
       "      <th>domain</th>\n",
       "      <th>ref_domain</th>\n",
       "      <th>AHREFS</th>\n",
       "      <th>GOOGLE</th>\n",
       "      <th>MAJESTIC</th>\n",
       "    </tr>\n",
       "  </thead>\n",
       "  <tbody>\n",
       "    <tr>\n",
       "      <th>0</th>\n",
       "      <td>10edges.com</td>\n",
       "      <td>3dprintingninja.blogspot.com.ee</td>\n",
       "      <td>0</td>\n",
       "      <td>1</td>\n",
       "      <td>0</td>\n",
       "    </tr>\n",
       "    <tr>\n",
       "      <th>1</th>\n",
       "      <td>10edges.com</td>\n",
       "      <td>3dprintingninja.blogspot.com</td>\n",
       "      <td>0</td>\n",
       "      <td>1</td>\n",
       "      <td>0</td>\n",
       "    </tr>\n",
       "    <tr>\n",
       "      <th>2</th>\n",
       "      <td>10edges.com</td>\n",
       "      <td>3dprintingninja.blogspot.fr</td>\n",
       "      <td>0</td>\n",
       "      <td>1</td>\n",
       "      <td>0</td>\n",
       "    </tr>\n",
       "    <tr>\n",
       "      <th>3</th>\n",
       "      <td>10edges.com</td>\n",
       "      <td>3dprintingninja.blogspot.in</td>\n",
       "      <td>0</td>\n",
       "      <td>1</td>\n",
       "      <td>0</td>\n",
       "    </tr>\n",
       "    <tr>\n",
       "      <th>4</th>\n",
       "      <td>10edges.com</td>\n",
       "      <td>3dprintingninja.blogspot.nl</td>\n",
       "      <td>0</td>\n",
       "      <td>1</td>\n",
       "      <td>0</td>\n",
       "    </tr>\n",
       "  </tbody>\n",
       "</table>\n",
       "</div>"
      ],
      "text/plain": [
       "        domain                       ref_domain  AHREFS  GOOGLE  MAJESTIC\n",
       "0  10edges.com  3dprintingninja.blogspot.com.ee       0       1         0\n",
       "1  10edges.com     3dprintingninja.blogspot.com       0       1         0\n",
       "2  10edges.com      3dprintingninja.blogspot.fr       0       1         0\n",
       "3  10edges.com      3dprintingninja.blogspot.in       0       1         0\n",
       "4  10edges.com      3dprintingninja.blogspot.nl       0       1         0"
      ]
     },
     "execution_count": 5,
     "metadata": {},
     "output_type": "execute_result"
    }
   ],
   "source": [
    "binarize = pd.get_dummies(data0['source'])\n",
    "data = pd.concat([data0, binarize], axis=1).drop(['source'], axis=1)\n",
    "data.head()"
   ]
  },
  {
   "cell_type": "code",
   "execution_count": 6,
   "metadata": {
    "collapsed": false
   },
   "outputs": [
    {
     "name": "stdout",
     "output_type": "stream",
     "text": [
      "<class 'pandas.core.frame.DataFrame'>\n",
      "Int64Index: 169424 entries, 0 to 169423\n",
      "Data columns (total 5 columns):\n",
      "domain        169424 non-null object\n",
      "ref_domain    169424 non-null object\n",
      "AHREFS        169424 non-null uint8\n",
      "GOOGLE        169424 non-null uint8\n",
      "MAJESTIC      169424 non-null uint8\n",
      "dtypes: object(2), uint8(3)\n",
      "memory usage: 9.4+ MB\n"
     ]
    }
   ],
   "source": [
    "data.info()"
   ]
  },
  {
   "cell_type": "code",
   "execution_count": 7,
   "metadata": {
    "collapsed": false
   },
   "outputs": [
    {
     "name": "stdout",
     "output_type": "stream",
     "text": [
      "<class 'pandas.core.frame.DataFrame'>\n",
      "Int64Index: 94600 entries, 0 to 94599\n",
      "Data columns (total 5 columns):\n",
      "domain        94600 non-null object\n",
      "ref_domain    94600 non-null object\n",
      "MAJESTIC      94600 non-null uint8\n",
      "AHREFS        94600 non-null uint8\n",
      "GOOGLE        94600 non-null uint8\n",
      "dtypes: object(2), uint8(3)\n",
      "memory usage: 2.4+ MB\n"
     ]
    }
   ],
   "source": [
    "data = data.groupby(['domain', 'ref_domain'], as_index=False).agg({'AHREFS': max,\n",
    "                                                                   'GOOGLE': max,\n",
    "                                                                   'MAJESTIC': max})\n",
    "data.info()"
   ]
  },
  {
   "cell_type": "code",
   "execution_count": 8,
   "metadata": {
    "collapsed": false
   },
   "outputs": [
    {
     "data": {
      "text/html": [
       "<div>\n",
       "<style scoped>\n",
       "    .dataframe tbody tr th:only-of-type {\n",
       "        vertical-align: middle;\n",
       "    }\n",
       "\n",
       "    .dataframe tbody tr th {\n",
       "        vertical-align: top;\n",
       "    }\n",
       "\n",
       "    .dataframe thead th {\n",
       "        text-align: right;\n",
       "    }\n",
       "</style>\n",
       "<table border=\"1\" class=\"dataframe\">\n",
       "  <thead>\n",
       "    <tr style=\"text-align: right;\">\n",
       "      <th></th>\n",
       "      <th>domain</th>\n",
       "      <th>ref_domain</th>\n",
       "      <th>MAJESTIC</th>\n",
       "      <th>AHREFS</th>\n",
       "      <th>GOOGLE</th>\n",
       "    </tr>\n",
       "  </thead>\n",
       "  <tbody>\n",
       "    <tr>\n",
       "      <th>0</th>\n",
       "      <td>10edges.com</td>\n",
       "      <td>3dprintingninja.blogspot.com</td>\n",
       "      <td>0</td>\n",
       "      <td>0</td>\n",
       "      <td>1</td>\n",
       "    </tr>\n",
       "    <tr>\n",
       "      <th>1</th>\n",
       "      <td>10edges.com</td>\n",
       "      <td>3dprintingninja.blogspot.com.ee</td>\n",
       "      <td>0</td>\n",
       "      <td>0</td>\n",
       "      <td>1</td>\n",
       "    </tr>\n",
       "    <tr>\n",
       "      <th>2</th>\n",
       "      <td>10edges.com</td>\n",
       "      <td>3dprintingninja.blogspot.fr</td>\n",
       "      <td>0</td>\n",
       "      <td>0</td>\n",
       "      <td>1</td>\n",
       "    </tr>\n",
       "    <tr>\n",
       "      <th>3</th>\n",
       "      <td>10edges.com</td>\n",
       "      <td>3dprintingninja.blogspot.in</td>\n",
       "      <td>0</td>\n",
       "      <td>0</td>\n",
       "      <td>1</td>\n",
       "    </tr>\n",
       "    <tr>\n",
       "      <th>4</th>\n",
       "      <td>10edges.com</td>\n",
       "      <td>3dprintingninja.blogspot.nl</td>\n",
       "      <td>0</td>\n",
       "      <td>0</td>\n",
       "      <td>1</td>\n",
       "    </tr>\n",
       "  </tbody>\n",
       "</table>\n",
       "</div>"
      ],
      "text/plain": [
       "        domain                       ref_domain  MAJESTIC  AHREFS  GOOGLE\n",
       "0  10edges.com     3dprintingninja.blogspot.com         0       0       1\n",
       "1  10edges.com  3dprintingninja.blogspot.com.ee         0       0       1\n",
       "2  10edges.com      3dprintingninja.blogspot.fr         0       0       1\n",
       "3  10edges.com      3dprintingninja.blogspot.in         0       0       1\n",
       "4  10edges.com      3dprintingninja.blogspot.nl         0       0       1"
      ]
     },
     "execution_count": 8,
     "metadata": {},
     "output_type": "execute_result"
    }
   ],
   "source": [
    "data.head()"
   ]
  },
  {
   "cell_type": "code",
   "execution_count": 9,
   "metadata": {
    "collapsed": false
   },
   "outputs": [
    {
     "data": {
      "text/html": [
       "<div>\n",
       "<style scoped>\n",
       "    .dataframe tbody tr th:only-of-type {\n",
       "        vertical-align: middle;\n",
       "    }\n",
       "\n",
       "    .dataframe tbody tr th {\n",
       "        vertical-align: top;\n",
       "    }\n",
       "\n",
       "    .dataframe thead th {\n",
       "        text-align: right;\n",
       "    }\n",
       "</style>\n",
       "<table border=\"1\" class=\"dataframe\">\n",
       "  <thead>\n",
       "    <tr style=\"text-align: right;\">\n",
       "      <th></th>\n",
       "      <th>MAJESTIC</th>\n",
       "      <th>AHREFS</th>\n",
       "      <th>GOOGLE</th>\n",
       "    </tr>\n",
       "    <tr>\n",
       "      <th>domain</th>\n",
       "      <th></th>\n",
       "      <th></th>\n",
       "      <th></th>\n",
       "    </tr>\n",
       "  </thead>\n",
       "  <tbody>\n",
       "    <tr>\n",
       "      <th>10edges.com</th>\n",
       "      <td>0.390909</td>\n",
       "      <td>0.490909</td>\n",
       "      <td>0.709091</td>\n",
       "    </tr>\n",
       "    <tr>\n",
       "      <th>4quotes4me.co.uk</th>\n",
       "      <td>0.511468</td>\n",
       "      <td>0.582569</td>\n",
       "      <td>0.324541</td>\n",
       "    </tr>\n",
       "    <tr>\n",
       "      <th>Exploringthisrock.com</th>\n",
       "      <td>0.383333</td>\n",
       "      <td>0.405556</td>\n",
       "      <td>0.538889</td>\n",
       "    </tr>\n",
       "    <tr>\n",
       "      <th>aaronneo.com.au</th>\n",
       "      <td>0.121622</td>\n",
       "      <td>0.378378</td>\n",
       "      <td>0.810811</td>\n",
       "    </tr>\n",
       "    <tr>\n",
       "      <th>aionhill.com</th>\n",
       "      <td>0.317895</td>\n",
       "      <td>0.601053</td>\n",
       "      <td>0.587368</td>\n",
       "    </tr>\n",
       "  </tbody>\n",
       "</table>\n",
       "</div>"
      ],
      "text/plain": [
       "                       MAJESTIC    AHREFS    GOOGLE\n",
       "domain                                             \n",
       "10edges.com            0.390909  0.490909  0.709091\n",
       "4quotes4me.co.uk       0.511468  0.582569  0.324541\n",
       "Exploringthisrock.com  0.383333  0.405556  0.538889\n",
       "aaronneo.com.au        0.121622  0.378378  0.810811\n",
       "aionhill.com           0.317895  0.601053  0.587368"
      ]
     },
     "execution_count": 9,
     "metadata": {},
     "output_type": "execute_result"
    }
   ],
   "source": [
    "domain_ave = data.groupby(['domain']).agg({'AHREFS': np.mean,\n",
    "                                            'GOOGLE': np.mean,\n",
    "                                            'MAJESTIC': np.mean})\n",
    "domain_ave.head()"
   ]
  },
  {
   "cell_type": "code",
   "execution_count": 10,
   "metadata": {
    "collapsed": false
   },
   "outputs": [
    {
     "data": {
      "text/html": [
       "<div>\n",
       "<style scoped>\n",
       "    .dataframe tbody tr th:only-of-type {\n",
       "        vertical-align: middle;\n",
       "    }\n",
       "\n",
       "    .dataframe tbody tr th {\n",
       "        vertical-align: top;\n",
       "    }\n",
       "\n",
       "    .dataframe thead th {\n",
       "        text-align: right;\n",
       "    }\n",
       "</style>\n",
       "<table border=\"1\" class=\"dataframe\">\n",
       "  <thead>\n",
       "    <tr style=\"text-align: right;\">\n",
       "      <th></th>\n",
       "      <th>mean</th>\n",
       "      <th>median</th>\n",
       "    </tr>\n",
       "  </thead>\n",
       "  <tbody>\n",
       "    <tr>\n",
       "      <th>AHREFS</th>\n",
       "      <td>0.516592</td>\n",
       "      <td>0.521605</td>\n",
       "    </tr>\n",
       "    <tr>\n",
       "      <th>GOOGLE</th>\n",
       "      <td>0.606202</td>\n",
       "      <td>0.632843</td>\n",
       "    </tr>\n",
       "    <tr>\n",
       "      <th>MAJESTIC</th>\n",
       "      <td>0.374908</td>\n",
       "      <td>0.382015</td>\n",
       "    </tr>\n",
       "  </tbody>\n",
       "</table>\n",
       "</div>"
      ],
      "text/plain": [
       "              mean    median\n",
       "AHREFS    0.516592  0.521605\n",
       "GOOGLE    0.606202  0.632843\n",
       "MAJESTIC  0.374908  0.382015"
      ]
     },
     "execution_count": 10,
     "metadata": {},
     "output_type": "execute_result"
    }
   ],
   "source": [
    "domain_ave.mean().to_frame('mean').join(domain_ave.median().to_frame('median')).sort_index()"
   ]
  },
  {
   "cell_type": "markdown",
   "metadata": {},
   "source": [
    "Method 2: consider all 104 domains as one website, and calculate the totals from all data that we have"
   ]
  },
  {
   "cell_type": "code",
   "execution_count": 11,
   "metadata": {
    "collapsed": false
   },
   "outputs": [
    {
     "data": {
      "text/html": [
       "<div>\n",
       "<style scoped>\n",
       "    .dataframe tbody tr th:only-of-type {\n",
       "        vertical-align: middle;\n",
       "    }\n",
       "\n",
       "    .dataframe tbody tr th {\n",
       "        vertical-align: top;\n",
       "    }\n",
       "\n",
       "    .dataframe thead th {\n",
       "        text-align: right;\n",
       "    }\n",
       "</style>\n",
       "<table border=\"1\" class=\"dataframe\">\n",
       "  <thead>\n",
       "    <tr style=\"text-align: right;\">\n",
       "      <th></th>\n",
       "      <th>MAJESTIC</th>\n",
       "      <th>AHREFS</th>\n",
       "      <th>GOOGLE</th>\n",
       "    </tr>\n",
       "    <tr>\n",
       "      <th>ref_domain</th>\n",
       "      <th></th>\n",
       "      <th></th>\n",
       "      <th></th>\n",
       "    </tr>\n",
       "  </thead>\n",
       "  <tbody>\n",
       "    <tr>\n",
       "      <th>0-21.co.uk</th>\n",
       "      <td>0</td>\n",
       "      <td>1</td>\n",
       "      <td>0</td>\n",
       "    </tr>\n",
       "    <tr>\n",
       "      <th>0-3-0.com</th>\n",
       "      <td>0</td>\n",
       "      <td>1</td>\n",
       "      <td>0</td>\n",
       "    </tr>\n",
       "    <tr>\n",
       "      <th>000.nl</th>\n",
       "      <td>1</td>\n",
       "      <td>1</td>\n",
       "      <td>1</td>\n",
       "    </tr>\n",
       "    <tr>\n",
       "      <th>000a.biz</th>\n",
       "      <td>0</td>\n",
       "      <td>0</td>\n",
       "      <td>1</td>\n",
       "    </tr>\n",
       "    <tr>\n",
       "      <th>000webhostapp.com</th>\n",
       "      <td>0</td>\n",
       "      <td>1</td>\n",
       "      <td>0</td>\n",
       "    </tr>\n",
       "  </tbody>\n",
       "</table>\n",
       "</div>"
      ],
      "text/plain": [
       "                   MAJESTIC  AHREFS  GOOGLE\n",
       "ref_domain                                 \n",
       "0-21.co.uk                0       1       0\n",
       "0-3-0.com                 0       1       0\n",
       "000.nl                    1       1       1\n",
       "000a.biz                  0       0       1\n",
       "000webhostapp.com         0       1       0"
      ]
     },
     "execution_count": 11,
     "metadata": {},
     "output_type": "execute_result"
    }
   ],
   "source": [
    "data_one = data.groupby(['ref_domain']).agg({'AHREFS': max,\n",
    "                                             'GOOGLE': max,\n",
    "                                             'MAJESTIC': max})\n",
    "data_one.head()"
   ]
  },
  {
   "cell_type": "code",
   "execution_count": 12,
   "metadata": {
    "collapsed": false
   },
   "outputs": [
    {
     "data": {
      "text/html": [
       "<div>\n",
       "<style scoped>\n",
       "    .dataframe tbody tr th:only-of-type {\n",
       "        vertical-align: middle;\n",
       "    }\n",
       "\n",
       "    .dataframe tbody tr th {\n",
       "        vertical-align: top;\n",
       "    }\n",
       "\n",
       "    .dataframe thead th {\n",
       "        text-align: right;\n",
       "    }\n",
       "</style>\n",
       "<table border=\"1\" class=\"dataframe\">\n",
       "  <thead>\n",
       "    <tr style=\"text-align: right;\">\n",
       "      <th></th>\n",
       "      <th>mean</th>\n",
       "    </tr>\n",
       "  </thead>\n",
       "  <tbody>\n",
       "    <tr>\n",
       "      <th>AHREFS</th>\n",
       "      <td>0.582489</td>\n",
       "    </tr>\n",
       "    <tr>\n",
       "      <th>GOOGLE</th>\n",
       "      <td>0.581244</td>\n",
       "    </tr>\n",
       "    <tr>\n",
       "      <th>MAJESTIC</th>\n",
       "      <td>0.475362</td>\n",
       "    </tr>\n",
       "  </tbody>\n",
       "</table>\n",
       "</div>"
      ],
      "text/plain": [
       "              mean\n",
       "AHREFS    0.582489\n",
       "GOOGLE    0.581244\n",
       "MAJESTIC  0.475362"
      ]
     },
     "execution_count": 12,
     "metadata": {},
     "output_type": "execute_result"
    }
   ],
   "source": [
    "data_one.mean().sort_index().to_frame('mean')"
   ]
  },
  {
   "cell_type": "markdown",
   "metadata": {},
   "source": [
    "### Intersections for Venn"
   ]
  },
  {
   "cell_type": "code",
   "execution_count": 13,
   "metadata": {
    "collapsed": false
   },
   "outputs": [],
   "source": [
    "venn = data0.drop(['domain'], axis=1).drop_duplicates().reset_index(drop=True)"
   ]
  },
  {
   "cell_type": "code",
   "execution_count": 14,
   "metadata": {
    "collapsed": false
   },
   "outputs": [
    {
     "data": {
      "text/plain": [
       "118518"
      ]
     },
     "execution_count": 14,
     "metadata": {},
     "output_type": "execute_result"
    }
   ],
   "source": [
    "len(venn)"
   ]
  },
  {
   "cell_type": "code",
   "execution_count": 15,
   "metadata": {
    "collapsed": false
   },
   "outputs": [
    {
     "data": {
      "text/plain": [
       "AHREFS      42118\n",
       "GOOGLE      42028\n",
       "MAJESTIC    34372\n",
       "Name: source, dtype: int64"
      ]
     },
     "execution_count": 15,
     "metadata": {},
     "output_type": "execute_result"
    }
   ],
   "source": [
    "venn.source.value_counts().sort_index()"
   ]
  },
  {
   "cell_type": "code",
   "execution_count": 16,
   "metadata": {
    "collapsed": true
   },
   "outputs": [],
   "source": [
    "venn.to_csv('data/for_venn.csv')"
   ]
  },
  {
   "cell_type": "code",
   "execution_count": 17,
   "metadata": {
    "collapsed": false
   },
   "outputs": [
    {
     "name": "stdout",
     "output_type": "stream",
     "text": [
      "unique to AHREFS: 19043\n",
      "unique to MAJESTIC: 14271\n",
      "unique to GOOGLE: 23730\n",
      "AHREFS & MAJESTIC: 10036\n",
      "AHREFS & GOOGLE: 9968\n",
      "MAJESTIC & GOOGLE: 3951\n",
      "AHREFS & MAJESTIC & GOOGLE: 13601\n"
     ]
    }
   ],
   "source": [
    "# unique to AHREFS\n",
    "print ('unique to AHREFS: {}'.format(len(data[(data.AHREFS == 1) &\\\n",
    "                                (data.MAJESTIC == 0) &\\\n",
    "                                (data.GOOGLE == 0)])))\n",
    "\n",
    "# unique to MAJESTIC\n",
    "print ('unique to MAJESTIC: {}'.format(len(data[(data.AHREFS == 0) &\\\n",
    "                                          (data.MAJESTIC == 1) &\\\n",
    "                                          (data.GOOGLE == 0)])))\n",
    "\n",
    "# unique to GOOGLE\n",
    "print ('unique to GOOGLE: {}'.format(len(data[(data.AHREFS == 0) &\\\n",
    "                                          (data.MAJESTIC == 0) &\\\n",
    "                                          (data.GOOGLE == 1)])))\n",
    "\n",
    "# AHREFS and MAJESTIC\n",
    "print ('AHREFS & MAJESTIC: {}'.format(len(data[(data.AHREFS == 1) &\\\n",
    "                                                       (data.MAJESTIC == 1) &\\\n",
    "                                                       (data.GOOGLE == 0)])))\n",
    "\n",
    "# AHREFS and GOOGLE\n",
    "print ('AHREFS & GOOGLE: {}'.format(len(data[(data.AHREFS == 1) &\\\n",
    "                                                     (data.MAJESTIC == 0) &\\\n",
    "                                                     (data.GOOGLE == 1)])))\n",
    "\n",
    "# MAJESTIC and GOOGLE\n",
    "print ('MAJESTIC & GOOGLE: {}'.format(len(data[(data.AHREFS == 0) &\\\n",
    "                                                       (data.MAJESTIC == 1) &\\\n",
    "                                                       (data.GOOGLE == 1)])))\n",
    "\n",
    "# AHREFS and MAJESTIC and GOOGLE\n",
    "print ('AHREFS & MAJESTIC & GOOGLE: {}'.format(len(data[(data.AHREFS == 1) &\\\n",
    "                                                              (data.MAJESTIC == 1) &\\\n",
    "                                                              (data.GOOGLE == 1)])))"
   ]
  },
  {
   "cell_type": "code",
   "execution_count": 18,
   "metadata": {
    "collapsed": false
   },
   "outputs": [
    {
     "data": {
      "text/plain": [
       "AHREFS      42118\n",
       "GOOGLE      42028\n",
       "MAJESTIC    34372\n",
       "dtype: int64"
      ]
     },
     "execution_count": 18,
     "metadata": {},
     "output_type": "execute_result"
    }
   ],
   "source": [
    "data_one.sum().sort_index()"
   ]
  },
  {
   "cell_type": "code",
   "execution_count": 19,
   "metadata": {
    "collapsed": false
   },
   "outputs": [
    {
     "data": {
      "text/html": [
       "<div>\n",
       "<style scoped>\n",
       "    .dataframe tbody tr th:only-of-type {\n",
       "        vertical-align: middle;\n",
       "    }\n",
       "\n",
       "    .dataframe tbody tr th {\n",
       "        vertical-align: top;\n",
       "    }\n",
       "\n",
       "    .dataframe thead th {\n",
       "        text-align: right;\n",
       "    }\n",
       "</style>\n",
       "<table border=\"1\" class=\"dataframe\">\n",
       "  <thead>\n",
       "    <tr style=\"text-align: right;\">\n",
       "      <th></th>\n",
       "      <th>domain</th>\n",
       "      <th>ref_domain</th>\n",
       "    </tr>\n",
       "  </thead>\n",
       "  <tbody>\n",
       "    <tr>\n",
       "      <th>0</th>\n",
       "      <td>10edges.com</td>\n",
       "      <td>3dprintingninja.blogspot.com</td>\n",
       "    </tr>\n",
       "    <tr>\n",
       "      <th>1</th>\n",
       "      <td>10edges.com</td>\n",
       "      <td>3dprintingninja.blogspot.com.ee</td>\n",
       "    </tr>\n",
       "    <tr>\n",
       "      <th>2</th>\n",
       "      <td>10edges.com</td>\n",
       "      <td>3dprintingninja.blogspot.fr</td>\n",
       "    </tr>\n",
       "    <tr>\n",
       "      <th>3</th>\n",
       "      <td>10edges.com</td>\n",
       "      <td>3dprintingninja.blogspot.in</td>\n",
       "    </tr>\n",
       "    <tr>\n",
       "      <th>4</th>\n",
       "      <td>10edges.com</td>\n",
       "      <td>3dprintingninja.blogspot.nl</td>\n",
       "    </tr>\n",
       "  </tbody>\n",
       "</table>\n",
       "</div>"
      ],
      "text/plain": [
       "        domain                       ref_domain\n",
       "0  10edges.com     3dprintingninja.blogspot.com\n",
       "1  10edges.com  3dprintingninja.blogspot.com.ee\n",
       "2  10edges.com      3dprintingninja.blogspot.fr\n",
       "3  10edges.com      3dprintingninja.blogspot.in\n",
       "4  10edges.com      3dprintingninja.blogspot.nl"
      ]
     },
     "execution_count": 19,
     "metadata": {},
     "output_type": "execute_result"
    }
   ],
   "source": [
    "ingoogle = data[(data.AHREFS == 0) & (data.GOOGLE == 1)].drop(['MAJESTIC', 'GOOGLE', 'AHREFS'], axis=1)\n",
    "ingoogle.head()"
   ]
  },
  {
   "cell_type": "code",
   "execution_count": 20,
   "metadata": {
    "collapsed": false
   },
   "outputs": [
    {
     "data": {
      "text/html": [
       "<div>\n",
       "<style scoped>\n",
       "    .dataframe tbody tr th:only-of-type {\n",
       "        vertical-align: middle;\n",
       "    }\n",
       "\n",
       "    .dataframe tbody tr th {\n",
       "        vertical-align: top;\n",
       "    }\n",
       "\n",
       "    .dataframe thead th {\n",
       "        text-align: right;\n",
       "    }\n",
       "</style>\n",
       "<table border=\"1\" class=\"dataframe\">\n",
       "  <thead>\n",
       "    <tr style=\"text-align: right;\">\n",
       "      <th></th>\n",
       "      <th>domain</th>\n",
       "      <th>ref_domain</th>\n",
       "    </tr>\n",
       "  </thead>\n",
       "  <tbody>\n",
       "    <tr>\n",
       "      <th>9</th>\n",
       "      <td>10edges.com</td>\n",
       "      <td>americanbookreview.org</td>\n",
       "    </tr>\n",
       "    <tr>\n",
       "      <th>16</th>\n",
       "      <td>10edges.com</td>\n",
       "      <td>bju.edu</td>\n",
       "    </tr>\n",
       "    <tr>\n",
       "      <th>20</th>\n",
       "      <td>10edges.com</td>\n",
       "      <td>carthage.edu</td>\n",
       "    </tr>\n",
       "    <tr>\n",
       "      <th>23</th>\n",
       "      <td>10edges.com</td>\n",
       "      <td>coolpot.com</td>\n",
       "    </tr>\n",
       "    <tr>\n",
       "      <th>29</th>\n",
       "      <td>10edges.com</td>\n",
       "      <td>dronestoriesetc.com</td>\n",
       "    </tr>\n",
       "  </tbody>\n",
       "</table>\n",
       "</div>"
      ],
      "text/plain": [
       "         domain              ref_domain\n",
       "9   10edges.com  americanbookreview.org\n",
       "16  10edges.com                 bju.edu\n",
       "20  10edges.com            carthage.edu\n",
       "23  10edges.com             coolpot.com\n",
       "29  10edges.com     dronestoriesetc.com"
      ]
     },
     "execution_count": 20,
     "metadata": {},
     "output_type": "execute_result"
    }
   ],
   "source": [
    "inmajestic = data[(data.AHREFS == 0) & (data.MAJESTIC == 1)].drop(['MAJESTIC', 'GOOGLE', 'AHREFS'], axis=1)\n",
    "inmajestic.head()"
   ]
  },
  {
   "cell_type": "code",
   "execution_count": 21,
   "metadata": {
    "collapsed": false
   },
   "outputs": [],
   "source": [
    "ingoogle.to_csv('data/ingoogle.csv',index=False)\n",
    "inmajestic.to_csv('data/inmajestic.csv',index=False)"
   ]
  },
  {
   "cell_type": "code",
   "execution_count": null,
   "metadata": {
    "collapsed": true
   },
   "outputs": [],
   "source": []
  }
 ],
 "metadata": {
  "anaconda-cloud": {},
  "kernelspec": {
   "display_name": "Python [conda env:py35]",
   "language": "python",
   "name": "conda-env-py35-py"
  },
  "language_info": {
   "codemirror_mode": {
    "name": "ipython",
    "version": 3
   },
   "file_extension": ".py",
   "mimetype": "text/x-python",
   "name": "python",
   "nbconvert_exporter": "python",
   "pygments_lexer": "ipython3",
   "version": "3.5.4"
  }
 },
 "nbformat": 4,
 "nbformat_minor": 2
}
