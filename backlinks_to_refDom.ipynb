{
 "cells": [
  {
   "cell_type": "code",
   "execution_count": 1,
   "metadata": {
    "collapsed": false
   },
   "outputs": [],
   "source": [
    "import pandas as pd\n",
    "import glob\n",
    "from sklearn.externals import joblib as jl\n",
    "import os\n",
    "from urllib.parse import urlparse\n",
    "import numpy as np\n",
    "import tldextract\n",
    "\n",
    "%matplotlib inline"
   ]
  },
  {
   "cell_type": "code",
   "execution_count": 2,
   "metadata": {
    "collapsed": false
   },
   "outputs": [],
   "source": [
    "def ref_domains_extract(data_path):\n",
    "    domains = os.listdir(data_path)\n",
    "    data = pd.DataFrame(columns=['domain', 'ref_domain', 'source'])\n",
    "    doms =[]\n",
    "    print('Done:')\n",
    "    for dom in domains:\n",
    "        files = glob.glob(\"{}/{}/*.csv\".format(data_path, dom))\n",
    "        for f in files:\n",
    "            if 'backlinks-subdomains-recent' in f:\n",
    "                links = pd.read_csv(f, usecols=['Referring Page URL'], sep='\\t', encoding='utf-16')['Referring Page URL']\n",
    "                source = 'AHREFS'\n",
    "\n",
    "            if 'download_fresh_' in f:\n",
    "                links = pd.read_csv(f, usecols=['Source URL'])['Source URL']\n",
    "                source = 'MAJESTIC'\n",
    "\n",
    "            if 'ExternalLinks_SampleLinks' in f:\n",
    "                links = pd.read_csv(f, usecols=['Links'])['Links']\n",
    "                source = 'GOOGLE'\n",
    "            \n",
    "#             links = links.apply(lambda x: '{uri.scheme}://{uri.netloc}'.format(uri=urlparse(x)))\n",
    "            links = links.apply(lambda x: tldextract.extract(x).registered_domain)\n",
    "            df = pd.DataFrame({'ref_domain': links.unique()})\n",
    "            df['domain'] = dom\n",
    "            df['source'] = source\n",
    "            data = data.append(df, ignore_index=True)\n",
    "    \n",
    "        doms.append(dom)\n",
    "    print(len(doms))\n",
    "    jl.dump(data, 'data/ref_domains_crawl2.jl')"
   ]
  },
  {
   "cell_type": "code",
   "execution_count": 3,
   "metadata": {
    "collapsed": false,
    "scrolled": true
   },
   "outputs": [
    {
     "name": "stdout",
     "output_type": "stream",
     "text": [
      "Done:\n",
      "104\n",
      "Wall time: 14min 36s\n"
     ]
    }
   ],
   "source": [
    "# %%time\n",
    "# data_path = 'data/GSC Ahrefs Majestic'\n",
    "# ref_domains_extract(data_path)"
   ]
  },
  {
   "cell_type": "code",
   "execution_count": 6,
   "metadata": {
    "collapsed": false
   },
   "outputs": [
    {
     "data": {
      "text/plain": [
       "'blogspot.com.ee'"
      ]
     },
     "execution_count": 6,
     "metadata": {},
     "output_type": "execute_result"
    }
   ],
   "source": [
    "ext = tldextract.extract('3dprintingninja.blogspot.com.ee')\n",
    "ext.registered_domain"
   ]
  },
  {
   "cell_type": "code",
   "execution_count": 7,
   "metadata": {
    "collapsed": true
   },
   "outputs": [],
   "source": [
    "data0 = jl.load('data/ref_domains_crawl.jl').drop_duplicates().reset_index(drop=True)"
   ]
  },
  {
   "cell_type": "code",
   "execution_count": null,
   "metadata": {
    "collapsed": false
   },
   "outputs": [],
   "source": [
    "import re\n",
    "\n",
    "pat = re.compile(\"^\\d{1,3}\\.\\d{1,3}\\.\\d{1,3}\\.\\d{1,3}$\")\n",
    "data0[data0.ref_domain.apply(lambda x: pat.search(x)) == True]"
   ]
  },
  {
   "cell_type": "code",
   "execution_count": 2,
   "metadata": {
    "collapsed": false
   },
   "outputs": [
    {
     "data": {
      "text/html": [
       "<div>\n",
       "<style scoped>\n",
       "    .dataframe tbody tr th:only-of-type {\n",
       "        vertical-align: middle;\n",
       "    }\n",
       "\n",
       "    .dataframe tbody tr th {\n",
       "        vertical-align: top;\n",
       "    }\n",
       "\n",
       "    .dataframe thead th {\n",
       "        text-align: right;\n",
       "    }\n",
       "</style>\n",
       "<table border=\"1\" class=\"dataframe\">\n",
       "  <thead>\n",
       "    <tr style=\"text-align: right;\">\n",
       "      <th></th>\n",
       "      <th>domain</th>\n",
       "      <th>ref_domain</th>\n",
       "      <th>source</th>\n",
       "    </tr>\n",
       "  </thead>\n",
       "  <tbody>\n",
       "    <tr>\n",
       "      <th>0</th>\n",
       "      <td>10edges.com</td>\n",
       "      <td>blogspot.com.ee</td>\n",
       "      <td>GOOGLE</td>\n",
       "    </tr>\n",
       "    <tr>\n",
       "      <th>1</th>\n",
       "      <td>10edges.com</td>\n",
       "      <td>blogspot.com</td>\n",
       "      <td>GOOGLE</td>\n",
       "    </tr>\n",
       "    <tr>\n",
       "      <th>2</th>\n",
       "      <td>10edges.com</td>\n",
       "      <td>blogspot.fr</td>\n",
       "      <td>GOOGLE</td>\n",
       "    </tr>\n",
       "    <tr>\n",
       "      <th>3</th>\n",
       "      <td>10edges.com</td>\n",
       "      <td>blogspot.in</td>\n",
       "      <td>GOOGLE</td>\n",
       "    </tr>\n",
       "    <tr>\n",
       "      <th>4</th>\n",
       "      <td>10edges.com</td>\n",
       "      <td>blogspot.nl</td>\n",
       "      <td>GOOGLE</td>\n",
       "    </tr>\n",
       "  </tbody>\n",
       "</table>\n",
       "</div>"
      ],
      "text/plain": [
       "        domain       ref_domain  source\n",
       "0  10edges.com  blogspot.com.ee  GOOGLE\n",
       "1  10edges.com     blogspot.com  GOOGLE\n",
       "2  10edges.com      blogspot.fr  GOOGLE\n",
       "3  10edges.com      blogspot.in  GOOGLE\n",
       "4  10edges.com      blogspot.nl  GOOGLE"
      ]
     },
     "execution_count": 2,
     "metadata": {},
     "output_type": "execute_result"
    }
   ],
   "source": [
    "data0 = jl.load('data/ref_domains_crawl2.jl').drop_duplicates().reset_index(drop=True)\n",
    "# data0['ref_domain'] = data0.ref_domain.str.rstrip('//')\n",
    "# data0['ref_domain'] = data0.ref_domain.apply(lambda x: '{uri.netloc}'.format(uri=urlparse(x)))\n",
    "data0.head()"
   ]
  },
  {
   "cell_type": "markdown",
   "metadata": {},
   "source": [
    "### consider all unique ref.domains found in 3 sources as 100%, then what % from all these ref.domains each individual source has found?"
   ]
  },
  {
   "cell_type": "markdown",
   "metadata": {},
   "source": [
    "Method 1: calculate % of unique ref.domains for each of 104 sites separately, and then take the average and median values across all 104 sites"
   ]
  },
  {
   "cell_type": "code",
   "execution_count": 3,
   "metadata": {
    "collapsed": false
   },
   "outputs": [
    {
     "data": {
      "text/html": [
       "<div>\n",
       "<style scoped>\n",
       "    .dataframe tbody tr th:only-of-type {\n",
       "        vertical-align: middle;\n",
       "    }\n",
       "\n",
       "    .dataframe tbody tr th {\n",
       "        vertical-align: top;\n",
       "    }\n",
       "\n",
       "    .dataframe thead th {\n",
       "        text-align: right;\n",
       "    }\n",
       "</style>\n",
       "<table border=\"1\" class=\"dataframe\">\n",
       "  <thead>\n",
       "    <tr style=\"text-align: right;\">\n",
       "      <th></th>\n",
       "      <th>domain</th>\n",
       "      <th>ref_domain</th>\n",
       "      <th>AHREFS</th>\n",
       "      <th>GOOGLE</th>\n",
       "      <th>MAJESTIC</th>\n",
       "    </tr>\n",
       "  </thead>\n",
       "  <tbody>\n",
       "    <tr>\n",
       "      <th>0</th>\n",
       "      <td>10edges.com</td>\n",
       "      <td>blogspot.com.ee</td>\n",
       "      <td>0</td>\n",
       "      <td>1</td>\n",
       "      <td>0</td>\n",
       "    </tr>\n",
       "    <tr>\n",
       "      <th>1</th>\n",
       "      <td>10edges.com</td>\n",
       "      <td>blogspot.com</td>\n",
       "      <td>0</td>\n",
       "      <td>1</td>\n",
       "      <td>0</td>\n",
       "    </tr>\n",
       "    <tr>\n",
       "      <th>2</th>\n",
       "      <td>10edges.com</td>\n",
       "      <td>blogspot.fr</td>\n",
       "      <td>0</td>\n",
       "      <td>1</td>\n",
       "      <td>0</td>\n",
       "    </tr>\n",
       "    <tr>\n",
       "      <th>3</th>\n",
       "      <td>10edges.com</td>\n",
       "      <td>blogspot.in</td>\n",
       "      <td>0</td>\n",
       "      <td>1</td>\n",
       "      <td>0</td>\n",
       "    </tr>\n",
       "    <tr>\n",
       "      <th>4</th>\n",
       "      <td>10edges.com</td>\n",
       "      <td>blogspot.nl</td>\n",
       "      <td>0</td>\n",
       "      <td>1</td>\n",
       "      <td>0</td>\n",
       "    </tr>\n",
       "  </tbody>\n",
       "</table>\n",
       "</div>"
      ],
      "text/plain": [
       "        domain       ref_domain  AHREFS  GOOGLE  MAJESTIC\n",
       "0  10edges.com  blogspot.com.ee       0       1         0\n",
       "1  10edges.com     blogspot.com       0       1         0\n",
       "2  10edges.com      blogspot.fr       0       1         0\n",
       "3  10edges.com      blogspot.in       0       1         0\n",
       "4  10edges.com      blogspot.nl       0       1         0"
      ]
     },
     "execution_count": 3,
     "metadata": {},
     "output_type": "execute_result"
    }
   ],
   "source": [
    "binarize = pd.get_dummies(data0['source'])\n",
    "data = pd.concat([data0, binarize], axis=1).drop(['source'], axis=1)\n",
    "data.head()"
   ]
  },
  {
   "cell_type": "code",
   "execution_count": 4,
   "metadata": {
    "collapsed": false
   },
   "outputs": [
    {
     "name": "stdout",
     "output_type": "stream",
     "text": [
      "<class 'pandas.core.frame.DataFrame'>\n",
      "RangeIndex: 136262 entries, 0 to 136261\n",
      "Data columns (total 5 columns):\n",
      "domain        136262 non-null object\n",
      "ref_domain    136262 non-null object\n",
      "AHREFS        136262 non-null uint8\n",
      "GOOGLE        136262 non-null uint8\n",
      "MAJESTIC      136262 non-null uint8\n",
      "dtypes: object(2), uint8(3)\n",
      "memory usage: 2.5+ MB\n"
     ]
    }
   ],
   "source": [
    "data.info()"
   ]
  },
  {
   "cell_type": "code",
   "execution_count": 5,
   "metadata": {
    "collapsed": false
   },
   "outputs": [
    {
     "name": "stdout",
     "output_type": "stream",
     "text": [
      "<class 'pandas.core.frame.DataFrame'>\n",
      "Int64Index: 86831 entries, 0 to 86830\n",
      "Data columns (total 5 columns):\n",
      "domain        86831 non-null object\n",
      "ref_domain    86831 non-null object\n",
      "AHREFS        86831 non-null uint8\n",
      "GOOGLE        86831 non-null uint8\n",
      "MAJESTIC      86831 non-null uint8\n",
      "dtypes: object(2), uint8(3)\n",
      "memory usage: 2.2+ MB\n"
     ]
    }
   ],
   "source": [
    "data = data.groupby(['domain', 'ref_domain'], as_index=False).agg({'AHREFS': max,\n",
    "                                                                   'GOOGLE': max,\n",
    "                                                                   'MAJESTIC': max})\n",
    "data.info()"
   ]
  },
  {
   "cell_type": "code",
   "execution_count": 6,
   "metadata": {
    "collapsed": false
   },
   "outputs": [
    {
     "data": {
      "text/html": [
       "<div>\n",
       "<style scoped>\n",
       "    .dataframe tbody tr th:only-of-type {\n",
       "        vertical-align: middle;\n",
       "    }\n",
       "\n",
       "    .dataframe tbody tr th {\n",
       "        vertical-align: top;\n",
       "    }\n",
       "\n",
       "    .dataframe thead th {\n",
       "        text-align: right;\n",
       "    }\n",
       "</style>\n",
       "<table border=\"1\" class=\"dataframe\">\n",
       "  <thead>\n",
       "    <tr style=\"text-align: right;\">\n",
       "      <th></th>\n",
       "      <th>domain</th>\n",
       "      <th>ref_domain</th>\n",
       "      <th>AHREFS</th>\n",
       "      <th>GOOGLE</th>\n",
       "      <th>MAJESTIC</th>\n",
       "    </tr>\n",
       "  </thead>\n",
       "  <tbody>\n",
       "    <tr>\n",
       "      <th>0</th>\n",
       "      <td>10edges.com</td>\n",
       "      <td>academicworks.com</td>\n",
       "      <td>1</td>\n",
       "      <td>1</td>\n",
       "      <td>1</td>\n",
       "    </tr>\n",
       "    <tr>\n",
       "      <th>1</th>\n",
       "      <td>10edges.com</td>\n",
       "      <td>alamatpon.com</td>\n",
       "      <td>1</td>\n",
       "      <td>0</td>\n",
       "      <td>0</td>\n",
       "    </tr>\n",
       "    <tr>\n",
       "      <th>2</th>\n",
       "      <td>10edges.com</td>\n",
       "      <td>allwomenstalk.com</td>\n",
       "      <td>1</td>\n",
       "      <td>1</td>\n",
       "      <td>0</td>\n",
       "    </tr>\n",
       "    <tr>\n",
       "      <th>3</th>\n",
       "      <td>10edges.com</td>\n",
       "      <td>americanbookreview.org</td>\n",
       "      <td>0</td>\n",
       "      <td>0</td>\n",
       "      <td>1</td>\n",
       "    </tr>\n",
       "    <tr>\n",
       "      <th>4</th>\n",
       "      <td>10edges.com</td>\n",
       "      <td>answers.com</td>\n",
       "      <td>0</td>\n",
       "      <td>1</td>\n",
       "      <td>0</td>\n",
       "    </tr>\n",
       "  </tbody>\n",
       "</table>\n",
       "</div>"
      ],
      "text/plain": [
       "        domain              ref_domain  AHREFS  GOOGLE  MAJESTIC\n",
       "0  10edges.com       academicworks.com       1       1         1\n",
       "1  10edges.com           alamatpon.com       1       0         0\n",
       "2  10edges.com       allwomenstalk.com       1       1         0\n",
       "3  10edges.com  americanbookreview.org       0       0         1\n",
       "4  10edges.com             answers.com       0       1         0"
      ]
     },
     "execution_count": 6,
     "metadata": {},
     "output_type": "execute_result"
    }
   ],
   "source": [
    "data.head()"
   ]
  },
  {
   "cell_type": "code",
   "execution_count": 7,
   "metadata": {
    "collapsed": false
   },
   "outputs": [
    {
     "data": {
      "text/html": [
       "<div>\n",
       "<style scoped>\n",
       "    .dataframe tbody tr th:only-of-type {\n",
       "        vertical-align: middle;\n",
       "    }\n",
       "\n",
       "    .dataframe tbody tr th {\n",
       "        vertical-align: top;\n",
       "    }\n",
       "\n",
       "    .dataframe thead th {\n",
       "        text-align: right;\n",
       "    }\n",
       "</style>\n",
       "<table border=\"1\" class=\"dataframe\">\n",
       "  <thead>\n",
       "    <tr style=\"text-align: right;\">\n",
       "      <th></th>\n",
       "      <th>AHREFS</th>\n",
       "      <th>GOOGLE</th>\n",
       "      <th>MAJESTIC</th>\n",
       "    </tr>\n",
       "    <tr>\n",
       "      <th>domain</th>\n",
       "      <th></th>\n",
       "      <th></th>\n",
       "      <th></th>\n",
       "    </tr>\n",
       "  </thead>\n",
       "  <tbody>\n",
       "    <tr>\n",
       "      <th>10edges.com</th>\n",
       "      <td>0.489130</td>\n",
       "      <td>0.663043</td>\n",
       "      <td>0.467391</td>\n",
       "    </tr>\n",
       "    <tr>\n",
       "      <th>4quotes4me.co.uk</th>\n",
       "      <td>0.568210</td>\n",
       "      <td>0.306633</td>\n",
       "      <td>0.558198</td>\n",
       "    </tr>\n",
       "    <tr>\n",
       "      <th>Exploringthisrock.com</th>\n",
       "      <td>0.405556</td>\n",
       "      <td>0.538889</td>\n",
       "      <td>0.383333</td>\n",
       "    </tr>\n",
       "    <tr>\n",
       "      <th>aaronneo.com.au</th>\n",
       "      <td>0.378378</td>\n",
       "      <td>0.810811</td>\n",
       "      <td>0.121622</td>\n",
       "    </tr>\n",
       "    <tr>\n",
       "      <th>aionhill.com</th>\n",
       "      <td>0.617420</td>\n",
       "      <td>0.577729</td>\n",
       "      <td>0.326351</td>\n",
       "    </tr>\n",
       "  </tbody>\n",
       "</table>\n",
       "</div>"
      ],
      "text/plain": [
       "                         AHREFS    GOOGLE  MAJESTIC\n",
       "domain                                             \n",
       "10edges.com            0.489130  0.663043  0.467391\n",
       "4quotes4me.co.uk       0.568210  0.306633  0.558198\n",
       "Exploringthisrock.com  0.405556  0.538889  0.383333\n",
       "aaronneo.com.au        0.378378  0.810811  0.121622\n",
       "aionhill.com           0.617420  0.577729  0.326351"
      ]
     },
     "execution_count": 7,
     "metadata": {},
     "output_type": "execute_result"
    }
   ],
   "source": [
    "domain_ave = data.groupby(['domain']).agg({'AHREFS': np.mean,\n",
    "                                            'GOOGLE': np.mean,\n",
    "                                            'MAJESTIC': np.mean})\n",
    "domain_ave.head()"
   ]
  },
  {
   "cell_type": "code",
   "execution_count": 8,
   "metadata": {
    "collapsed": false
   },
   "outputs": [
    {
     "data": {
      "text/html": [
       "<div>\n",
       "<style scoped>\n",
       "    .dataframe tbody tr th:only-of-type {\n",
       "        vertical-align: middle;\n",
       "    }\n",
       "\n",
       "    .dataframe tbody tr th {\n",
       "        vertical-align: top;\n",
       "    }\n",
       "\n",
       "    .dataframe thead th {\n",
       "        text-align: right;\n",
       "    }\n",
       "</style>\n",
       "<table border=\"1\" class=\"dataframe\">\n",
       "  <thead>\n",
       "    <tr style=\"text-align: right;\">\n",
       "      <th></th>\n",
       "      <th>mean</th>\n",
       "      <th>median</th>\n",
       "    </tr>\n",
       "  </thead>\n",
       "  <tbody>\n",
       "    <tr>\n",
       "      <th>AHREFS</th>\n",
       "      <td>0.518496</td>\n",
       "      <td>0.529555</td>\n",
       "    </tr>\n",
       "    <tr>\n",
       "      <th>GOOGLE</th>\n",
       "      <td>0.600211</td>\n",
       "      <td>0.619187</td>\n",
       "    </tr>\n",
       "    <tr>\n",
       "      <th>MAJESTIC</th>\n",
       "      <td>0.391123</td>\n",
       "      <td>0.400431</td>\n",
       "    </tr>\n",
       "  </tbody>\n",
       "</table>\n",
       "</div>"
      ],
      "text/plain": [
       "              mean    median\n",
       "AHREFS    0.518496  0.529555\n",
       "GOOGLE    0.600211  0.619187\n",
       "MAJESTIC  0.391123  0.400431"
      ]
     },
     "execution_count": 8,
     "metadata": {},
     "output_type": "execute_result"
    }
   ],
   "source": [
    "domain_ave.mean().to_frame('mean').join(domain_ave.median().to_frame('median')).sort_index()"
   ]
  },
  {
   "cell_type": "markdown",
   "metadata": {},
   "source": [
    "Method 2: consider all 104 domains as one website, and calculate the totals from all data that we have"
   ]
  },
  {
   "cell_type": "code",
   "execution_count": 9,
   "metadata": {
    "collapsed": false
   },
   "outputs": [
    {
     "data": {
      "text/html": [
       "<div>\n",
       "<style scoped>\n",
       "    .dataframe tbody tr th:only-of-type {\n",
       "        vertical-align: middle;\n",
       "    }\n",
       "\n",
       "    .dataframe tbody tr th {\n",
       "        vertical-align: top;\n",
       "    }\n",
       "\n",
       "    .dataframe thead th {\n",
       "        text-align: right;\n",
       "    }\n",
       "</style>\n",
       "<table border=\"1\" class=\"dataframe\">\n",
       "  <thead>\n",
       "    <tr style=\"text-align: right;\">\n",
       "      <th></th>\n",
       "      <th>AHREFS</th>\n",
       "      <th>GOOGLE</th>\n",
       "      <th>MAJESTIC</th>\n",
       "    </tr>\n",
       "    <tr>\n",
       "      <th>ref_domain</th>\n",
       "      <th></th>\n",
       "      <th></th>\n",
       "      <th></th>\n",
       "    </tr>\n",
       "  </thead>\n",
       "  <tbody>\n",
       "    <tr>\n",
       "      <th></th>\n",
       "      <td>1</td>\n",
       "      <td>1</td>\n",
       "      <td>0</td>\n",
       "    </tr>\n",
       "    <tr>\n",
       "      <th>0-21.co.uk</th>\n",
       "      <td>1</td>\n",
       "      <td>0</td>\n",
       "      <td>0</td>\n",
       "    </tr>\n",
       "    <tr>\n",
       "      <th>0-3-0.com</th>\n",
       "      <td>1</td>\n",
       "      <td>0</td>\n",
       "      <td>0</td>\n",
       "    </tr>\n",
       "    <tr>\n",
       "      <th>000.nl</th>\n",
       "      <td>1</td>\n",
       "      <td>1</td>\n",
       "      <td>1</td>\n",
       "    </tr>\n",
       "    <tr>\n",
       "      <th>000a.biz</th>\n",
       "      <td>0</td>\n",
       "      <td>1</td>\n",
       "      <td>0</td>\n",
       "    </tr>\n",
       "  </tbody>\n",
       "</table>\n",
       "</div>"
      ],
      "text/plain": [
       "            AHREFS  GOOGLE  MAJESTIC\n",
       "ref_domain                          \n",
       "                 1       1         0\n",
       "0-21.co.uk       1       0         0\n",
       "0-3-0.com        1       0         0\n",
       "000.nl           1       1         1\n",
       "000a.biz         0       1         0"
      ]
     },
     "execution_count": 9,
     "metadata": {},
     "output_type": "execute_result"
    }
   ],
   "source": [
    "data_one = data.groupby(['ref_domain']).agg({'AHREFS': max,\n",
    "                                             'GOOGLE': max,\n",
    "                                             'MAJESTIC': max})\n",
    "data_one.head()"
   ]
  },
  {
   "cell_type": "code",
   "execution_count": 10,
   "metadata": {
    "collapsed": false
   },
   "outputs": [
    {
     "data": {
      "text/html": [
       "<div>\n",
       "<style scoped>\n",
       "    .dataframe tbody tr th:only-of-type {\n",
       "        vertical-align: middle;\n",
       "    }\n",
       "\n",
       "    .dataframe tbody tr th {\n",
       "        vertical-align: top;\n",
       "    }\n",
       "\n",
       "    .dataframe thead th {\n",
       "        text-align: right;\n",
       "    }\n",
       "</style>\n",
       "<table border=\"1\" class=\"dataframe\">\n",
       "  <thead>\n",
       "    <tr style=\"text-align: right;\">\n",
       "      <th></th>\n",
       "      <th>mean</th>\n",
       "    </tr>\n",
       "  </thead>\n",
       "  <tbody>\n",
       "    <tr>\n",
       "      <th>AHREFS</th>\n",
       "      <td>0.578351</td>\n",
       "    </tr>\n",
       "    <tr>\n",
       "      <th>GOOGLE</th>\n",
       "      <td>0.577634</td>\n",
       "    </tr>\n",
       "    <tr>\n",
       "      <th>MAJESTIC</th>\n",
       "      <td>0.533679</td>\n",
       "    </tr>\n",
       "  </tbody>\n",
       "</table>\n",
       "</div>"
      ],
      "text/plain": [
       "              mean\n",
       "AHREFS    0.578351\n",
       "GOOGLE    0.577634\n",
       "MAJESTIC  0.533679"
      ]
     },
     "execution_count": 10,
     "metadata": {},
     "output_type": "execute_result"
    }
   ],
   "source": [
    "data_one.mean().sort_index().to_frame('mean')"
   ]
  },
  {
   "cell_type": "markdown",
   "metadata": {},
   "source": [
    "### Intersections for Venn"
   ]
  },
  {
   "cell_type": "code",
   "execution_count": 11,
   "metadata": {
    "collapsed": false
   },
   "outputs": [],
   "source": [
    "venn = data0.drop(['domain'], axis=1).drop_duplicates().reset_index(drop=True)"
   ]
  },
  {
   "cell_type": "code",
   "execution_count": 12,
   "metadata": {
    "collapsed": false
   },
   "outputs": [
    {
     "data": {
      "text/plain": [
       "108441"
      ]
     },
     "execution_count": 12,
     "metadata": {},
     "output_type": "execute_result"
    }
   ],
   "source": [
    "len(venn)"
   ]
  },
  {
   "cell_type": "code",
   "execution_count": 13,
   "metadata": {
    "collapsed": false
   },
   "outputs": [
    {
     "data": {
      "text/plain": [
       "AHREFS      37118\n",
       "GOOGLE      37072\n",
       "MAJESTIC    34251\n",
       "Name: source, dtype: int64"
      ]
     },
     "execution_count": 13,
     "metadata": {},
     "output_type": "execute_result"
    }
   ],
   "source": [
    "venn.source.value_counts().sort_index()"
   ]
  },
  {
   "cell_type": "code",
   "execution_count": 14,
   "metadata": {
    "collapsed": true
   },
   "outputs": [],
   "source": [
    "venn.to_csv('data/for_venn.csv')"
   ]
  },
  {
   "cell_type": "code",
   "execution_count": 15,
   "metadata": {
    "collapsed": false
   },
   "outputs": [
    {
     "name": "stdout",
     "output_type": "stream",
     "text": [
      "unique to AHREFS: 16082\n",
      "unique to MAJESTIC: 14227\n",
      "unique to GOOGLE: 20675\n",
      "AHREFS & MAJESTIC: 10004\n",
      "AHREFS & GOOGLE: 8277\n",
      "MAJESTIC & GOOGLE: 3982\n",
      "AHREFS & MAJESTIC & GOOGLE: 13584\n"
     ]
    }
   ],
   "source": [
    "# unique to AHREFS\n",
    "print ('unique to AHREFS: {}'.format(len(data[(data.AHREFS == 1) &\\\n",
    "                                (data.MAJESTIC == 0) &\\\n",
    "                                (data.GOOGLE == 0)])))\n",
    "\n",
    "# unique to MAJESTIC\n",
    "print ('unique to MAJESTIC: {}'.format(len(data[(data.AHREFS == 0) &\\\n",
    "                                          (data.MAJESTIC == 1) &\\\n",
    "                                          (data.GOOGLE == 0)])))\n",
    "\n",
    "# unique to GOOGLE\n",
    "print ('unique to GOOGLE: {}'.format(len(data[(data.AHREFS == 0) &\\\n",
    "                                          (data.MAJESTIC == 0) &\\\n",
    "                                          (data.GOOGLE == 1)])))\n",
    "\n",
    "# AHREFS and MAJESTIC\n",
    "print ('AHREFS & MAJESTIC: {}'.format(len(data[(data.AHREFS == 1) &\\\n",
    "                                                       (data.MAJESTIC == 1) &\\\n",
    "                                                       (data.GOOGLE == 0)])))\n",
    "\n",
    "# AHREFS and GOOGLE\n",
    "print ('AHREFS & GOOGLE: {}'.format(len(data[(data.AHREFS == 1) &\\\n",
    "                                                     (data.MAJESTIC == 0) &\\\n",
    "                                                     (data.GOOGLE == 1)])))\n",
    "\n",
    "# MAJESTIC and GOOGLE\n",
    "print ('MAJESTIC & GOOGLE: {}'.format(len(data[(data.AHREFS == 0) &\\\n",
    "                                                       (data.MAJESTIC == 1) &\\\n",
    "                                                       (data.GOOGLE == 1)])))\n",
    "\n",
    "# AHREFS and MAJESTIC and GOOGLE\n",
    "print ('AHREFS & MAJESTIC & GOOGLE: {}'.format(len(data[(data.AHREFS == 1) &\\\n",
    "                                                              (data.MAJESTIC == 1) &\\\n",
    "                                                              (data.GOOGLE == 1)])))"
   ]
  },
  {
   "cell_type": "code",
   "execution_count": 16,
   "metadata": {
    "collapsed": false
   },
   "outputs": [
    {
     "data": {
      "text/plain": [
       "AHREFS      37118\n",
       "GOOGLE      37072\n",
       "MAJESTIC    34251\n",
       "dtype: int64"
      ]
     },
     "execution_count": 16,
     "metadata": {},
     "output_type": "execute_result"
    }
   ],
   "source": [
    "data_one.sum().sort_index()"
   ]
  },
  {
   "cell_type": "code",
   "execution_count": 19,
   "metadata": {
    "collapsed": false
   },
   "outputs": [
    {
     "data": {
      "text/html": [
       "<div>\n",
       "<style scoped>\n",
       "    .dataframe tbody tr th:only-of-type {\n",
       "        vertical-align: middle;\n",
       "    }\n",
       "\n",
       "    .dataframe tbody tr th {\n",
       "        vertical-align: top;\n",
       "    }\n",
       "\n",
       "    .dataframe thead th {\n",
       "        text-align: right;\n",
       "    }\n",
       "</style>\n",
       "<table border=\"1\" class=\"dataframe\">\n",
       "  <thead>\n",
       "    <tr style=\"text-align: right;\">\n",
       "      <th></th>\n",
       "      <th>domain</th>\n",
       "      <th>ref_domain</th>\n",
       "    </tr>\n",
       "  </thead>\n",
       "  <tbody>\n",
       "    <tr>\n",
       "      <th>4</th>\n",
       "      <td>10edges.com</td>\n",
       "      <td>answers.com</td>\n",
       "    </tr>\n",
       "    <tr>\n",
       "      <th>8</th>\n",
       "      <td>10edges.com</td>\n",
       "      <td>blogspot.com.ee</td>\n",
       "    </tr>\n",
       "    <tr>\n",
       "      <th>9</th>\n",
       "      <td>10edges.com</td>\n",
       "      <td>blogspot.com.es</td>\n",
       "    </tr>\n",
       "    <tr>\n",
       "      <th>10</th>\n",
       "      <td>10edges.com</td>\n",
       "      <td>blogspot.fr</td>\n",
       "    </tr>\n",
       "    <tr>\n",
       "      <th>11</th>\n",
       "      <td>10edges.com</td>\n",
       "      <td>blogspot.in</td>\n",
       "    </tr>\n",
       "  </tbody>\n",
       "</table>\n",
       "</div>"
      ],
      "text/plain": [
       "         domain       ref_domain\n",
       "4   10edges.com      answers.com\n",
       "8   10edges.com  blogspot.com.ee\n",
       "9   10edges.com  blogspot.com.es\n",
       "10  10edges.com      blogspot.fr\n",
       "11  10edges.com      blogspot.in"
      ]
     },
     "execution_count": 19,
     "metadata": {},
     "output_type": "execute_result"
    }
   ],
   "source": [
    "ingoogle = data[(data.AHREFS == 0) & (data.GOOGLE == 1)].drop(['MAJESTIC', 'GOOGLE', 'AHREFS'], axis=1)\n",
    "ingoogle.head()"
   ]
  },
  {
   "cell_type": "code",
   "execution_count": 20,
   "metadata": {
    "collapsed": false
   },
   "outputs": [
    {
     "data": {
      "text/html": [
       "<div>\n",
       "<style scoped>\n",
       "    .dataframe tbody tr th:only-of-type {\n",
       "        vertical-align: middle;\n",
       "    }\n",
       "\n",
       "    .dataframe tbody tr th {\n",
       "        vertical-align: top;\n",
       "    }\n",
       "\n",
       "    .dataframe thead th {\n",
       "        text-align: right;\n",
       "    }\n",
       "</style>\n",
       "<table border=\"1\" class=\"dataframe\">\n",
       "  <thead>\n",
       "    <tr style=\"text-align: right;\">\n",
       "      <th></th>\n",
       "      <th>domain</th>\n",
       "      <th>ref_domain</th>\n",
       "    </tr>\n",
       "  </thead>\n",
       "  <tbody>\n",
       "    <tr>\n",
       "      <th>3</th>\n",
       "      <td>10edges.com</td>\n",
       "      <td>americanbookreview.org</td>\n",
       "    </tr>\n",
       "    <tr>\n",
       "      <th>6</th>\n",
       "      <td>10edges.com</td>\n",
       "      <td>bju.edu</td>\n",
       "    </tr>\n",
       "    <tr>\n",
       "      <th>17</th>\n",
       "      <td>10edges.com</td>\n",
       "      <td>carthage.edu</td>\n",
       "    </tr>\n",
       "    <tr>\n",
       "      <th>19</th>\n",
       "      <td>10edges.com</td>\n",
       "      <td>coolpot.com</td>\n",
       "    </tr>\n",
       "    <tr>\n",
       "      <th>23</th>\n",
       "      <td>10edges.com</td>\n",
       "      <td>dronestoriesetc.com</td>\n",
       "    </tr>\n",
       "  </tbody>\n",
       "</table>\n",
       "</div>"
      ],
      "text/plain": [
       "         domain              ref_domain\n",
       "3   10edges.com  americanbookreview.org\n",
       "6   10edges.com                 bju.edu\n",
       "17  10edges.com            carthage.edu\n",
       "19  10edges.com             coolpot.com\n",
       "23  10edges.com     dronestoriesetc.com"
      ]
     },
     "execution_count": 20,
     "metadata": {},
     "output_type": "execute_result"
    }
   ],
   "source": [
    "inmajestic = data[(data.AHREFS == 0) & (data.MAJESTIC == 1)].drop(['MAJESTIC', 'GOOGLE', 'AHREFS'], axis=1)\n",
    "inmajestic.head()"
   ]
  },
  {
   "cell_type": "code",
   "execution_count": 21,
   "metadata": {
    "collapsed": true
   },
   "outputs": [],
   "source": [
    "ingoogle.to_csv('data/ingoogle.csv',index=False)\n",
    "inmajestic.to_csv('data/inmajestic.csv',index=False)"
   ]
  },
  {
   "cell_type": "code",
   "execution_count": null,
   "metadata": {
    "collapsed": true
   },
   "outputs": [],
   "source": []
  }
 ],
 "metadata": {
  "anaconda-cloud": {},
  "kernelspec": {
   "display_name": "Python [conda env:py35]",
   "language": "python",
   "name": "conda-env-py35-py"
  },
  "language_info": {
   "codemirror_mode": {
    "name": "ipython",
    "version": 3
   },
   "file_extension": ".py",
   "mimetype": "text/x-python",
   "name": "python",
   "nbconvert_exporter": "python",
   "pygments_lexer": "ipython3",
   "version": "3.5.4"
  }
 },
 "nbformat": 4,
 "nbformat_minor": 2
}
