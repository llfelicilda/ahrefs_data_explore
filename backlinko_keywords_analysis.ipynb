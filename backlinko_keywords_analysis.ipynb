{
 "cells": [
  {
   "cell_type": "markdown",
   "metadata": {
    "nbpresent": {
     "id": "46919f33-2ae3-4783-85ae-19721d5ffeac"
    },
    "slideshow": {
     "slide_type": "slide"
    }
   },
   "source": [
    "# Keywords-Anchor Texts Analysis\n",
    "    by Loveme Felicilda\n",
    "    "
   ]
  },
  {
   "cell_type": "markdown",
   "metadata": {
    "nbpresent": {
     "id": "524e8d5a-d917-4165-b7e0-0cf74a109d4f"
    },
    "slideshow": {
     "slide_type": "slide"
    }
   },
   "source": [
    "## Problem:\n",
    "\n",
    "For the website: https://backlinko.com\n",
    "\n",
    "we want to study:\n",
    "\n",
    "(1) If the number of appearances of a certain word or phrase in the anchor texts of links to a page leads to a higher ranking position of that page in Google when searching for that keyword.\n",
    "\n",
    "So if I create a lot of links with a certain keyword in the anchor text, will that lead to a higher ranking of my page for that keyword?\n",
    "\n",
    "\n",
    "(2) The same kind of study, but for words and/or phrases in \"surrounding text\"\n",
    "\n",
    "\n",
    "(3) A study of how many keywords that a page ranks for (in top10) are not present:\n",
    "- in anchor text of incoming links;\n",
    "- in surrounding text of incoming links\n",
    "- in content of the page (optional, you'll have to scrape content of the pages on your own)"
   ]
  },
  {
   "cell_type": "markdown",
   "metadata": {
    "nbpresent": {
     "id": "c32167ca-1895-48fb-a12d-ae99c602e486"
    },
    "slideshow": {
     "slide_type": "skip"
    }
   },
   "source": [
    "## Solution:\n",
    "\n",
    "Took the following steps in solving the problem:"
   ]
  },
  {
   "cell_type": "markdown",
   "metadata": {
    "nbpresent": {
     "id": "434c2fa1-eb2a-407b-9b82-fe553f117398"
    },
    "slideshow": {
     "slide_type": "skip"
    }
   },
   "source": [
    "### Imports"
   ]
  },
  {
   "cell_type": "code",
   "execution_count": 1,
   "metadata": {
    "collapsed": false,
    "nbpresent": {
     "id": "700b2ec6-8ba5-4259-97a4-ade9cbcc3185"
    },
    "slideshow": {
     "slide_type": "skip"
    }
   },
   "outputs": [],
   "source": [
    "import pandas as pd\n",
    "import glob\n",
    "import requests\n",
    "from sklearn.externals import joblib as jl\n",
    "import numpy as np\n",
    "from scipy.stats.stats import spearmanr\n",
    "from bs4 import BeautifulSoup\n",
    "from bs4.element import Comment\n",
    "import urllib\n",
    "\n",
    "pd.set_option('display.max_columns', 50)\n",
    "%matplotlib inline"
   ]
  },
  {
   "cell_type": "markdown",
   "metadata": {
    "nbpresent": {
     "id": "76005256-4800-4d59-a5d5-74a9d5b9bfeb"
    },
    "slideshow": {
     "slide_type": "skip"
    }
   },
   "source": [
    "### Data Extraction"
   ]
  },
  {
   "cell_type": "markdown",
   "metadata": {
    "nbpresent": {
     "id": "b36d90eb-226f-4c8a-837a-def28b3d6708"
    },
    "slideshow": {
     "slide_type": "skip"
    }
   },
   "source": [
    "#### Combine downloaded keywords csvs"
   ]
  },
  {
   "cell_type": "code",
   "execution_count": null,
   "metadata": {
    "collapsed": false,
    "nbpresent": {
     "id": "1c172989-0238-4209-b3ee-2d36326ba5fc"
    },
    "scrolled": true,
    "slideshow": {
     "slide_type": "skip"
    }
   },
   "outputs": [],
   "source": [
    "files = glob.glob(\"data/backlinko*.csv\") \n",
    "\n",
    "header_saved = False\n",
    "for filename in files:\n",
    "    if not header_saved:\n",
    "        keywords = pd.read_csv(filename, sep='\\t', encoding='utf-16')\n",
    "        header_saved = True\n",
    "    else: keywords = keywords.append(pd.read_csv(filename, sep='\\t', encoding='utf-16'), ignore_index=True)\n",
    "        \n",
    "jl.dump(keywords, 'data/keywords.jl', compress=1)"
   ]
  },
  {
   "cell_type": "markdown",
   "metadata": {
    "nbpresent": {
     "id": "a05dc573-7712-4cd6-8370-f5cdba780f58"
    },
    "slideshow": {
     "slide_type": "skip"
    }
   },
   "source": [
    "#### Extract Backlinks Data from API"
   ]
  },
  {
   "cell_type": "code",
   "execution_count": null,
   "metadata": {
    "collapsed": false,
    "nbpresent": {
     "id": "bcd9d77c-0120-4c2a-8ff4-a2eef1a7cdd6"
    },
    "slideshow": {
     "slide_type": "skip"
    }
   },
   "outputs": [],
   "source": [
    "r = requests.get(\"http://apiv2.ahrefs.com?token=<removed token>&target=backlinko.com&limit=202110&output=json&from=backlinks&mode=subdomains\" )\n",
    "\n",
    "backlinks = r.json()['refpages']\n",
    "\n",
    "backlinks = pd.DataFrame(r.json()['refpages'])\n",
    "\n",
    "jl.dump(backlinks, 'data/backlinks.jl', compress=1)"
   ]
  },
  {
   "cell_type": "markdown",
   "metadata": {
    "nbpresent": {
     "id": "7ed0c96b-015e-40a6-94c7-5bc09e8af593"
    },
    "slideshow": {
     "slide_type": "skip"
    }
   },
   "source": [
    "### Load Extracted Data"
   ]
  },
  {
   "cell_type": "code",
   "execution_count": 2,
   "metadata": {
    "collapsed": false,
    "nbpresent": {
     "id": "cdde4920-0923-417e-9e2e-0155a5b68426"
    },
    "scrolled": true,
    "slideshow": {
     "slide_type": "skip"
    }
   },
   "outputs": [
    {
     "data": {
      "text/html": [
       "<div>\n",
       "<table border=\"1\" class=\"dataframe\">\n",
       "  <thead>\n",
       "    <tr style=\"text-align: right;\">\n",
       "      <th></th>\n",
       "      <th>#</th>\n",
       "      <th>Keyword</th>\n",
       "      <th>Position</th>\n",
       "      <th>Position History</th>\n",
       "      <th>Position History Date</th>\n",
       "      <th>Volume</th>\n",
       "      <th>URL</th>\n",
       "      <th>Traffic</th>\n",
       "      <th>Results</th>\n",
       "      <th>Last Update</th>\n",
       "      <th>Difficulty</th>\n",
       "      <th>CPC</th>\n",
       "      <th>Page URL inside</th>\n",
       "    </tr>\n",
       "  </thead>\n",
       "  <tbody>\n",
       "    <tr>\n",
       "      <th>1876</th>\n",
       "      <td>44</td>\n",
       "      <td>best cost per action programs</td>\n",
       "      <td>10</td>\n",
       "      <td>NaN</td>\n",
       "      <td>NaN</td>\n",
       "      <td>10</td>\n",
       "      <td>https://backlinko.com/cpa-marketing</td>\n",
       "      <td>0.29</td>\n",
       "      <td>25900000</td>\n",
       "      <td>2017-09-20 19:56:34</td>\n",
       "      <td>31</td>\n",
       "      <td>0.9</td>\n",
       "      <td>NaN</td>\n",
       "    </tr>\n",
       "    <tr>\n",
       "      <th>1877</th>\n",
       "      <td>1</td>\n",
       "      <td>seo contents</td>\n",
       "      <td>10</td>\n",
       "      <td>9.0</td>\n",
       "      <td>2017-10-03 16:36:03</td>\n",
       "      <td>500</td>\n",
       "      <td>https://backlinko.com/seo-content</td>\n",
       "      <td>11.00</td>\n",
       "      <td>54300000</td>\n",
       "      <td>2017-10-19 23:31:06</td>\n",
       "      <td>40</td>\n",
       "      <td>12.0</td>\n",
       "      <td>NaN</td>\n",
       "    </tr>\n",
       "    <tr>\n",
       "      <th>1878</th>\n",
       "      <td>2</td>\n",
       "      <td>keyword first</td>\n",
       "      <td>9</td>\n",
       "      <td>NaN</td>\n",
       "      <td>NaN</td>\n",
       "      <td>50</td>\n",
       "      <td>https://backlinko.com/seo-content</td>\n",
       "      <td>1.50</td>\n",
       "      <td>183000000</td>\n",
       "      <td>2017-09-22 11:43:37</td>\n",
       "      <td>2</td>\n",
       "      <td>NaN</td>\n",
       "      <td>NaN</td>\n",
       "    </tr>\n",
       "  </tbody>\n",
       "</table>\n",
       "</div>"
      ],
      "text/plain": [
       "       #                        Keyword  Position  Position History  \\\n",
       "1876  44  best cost per action programs        10               NaN   \n",
       "1877   1                   seo contents        10               9.0   \n",
       "1878   2                  keyword first         9               NaN   \n",
       "\n",
       "     Position History Date  Volume                                  URL  \\\n",
       "1876                   NaN      10  https://backlinko.com/cpa-marketing   \n",
       "1877   2017-10-03 16:36:03     500    https://backlinko.com/seo-content   \n",
       "1878                   NaN      50    https://backlinko.com/seo-content   \n",
       "\n",
       "      Traffic    Results          Last Update  Difficulty   CPC  \\\n",
       "1876     0.29   25900000  2017-09-20 19:56:34          31   0.9   \n",
       "1877    11.00   54300000  2017-10-19 23:31:06          40  12.0   \n",
       "1878     1.50  183000000  2017-09-22 11:43:37           2   NaN   \n",
       "\n",
       "     Page URL inside  \n",
       "1876             NaN  \n",
       "1877             NaN  \n",
       "1878             NaN  "
      ]
     },
     "execution_count": 2,
     "metadata": {},
     "output_type": "execute_result"
    }
   ],
   "source": [
    "keywords= jl.load('data/keywords.jl')\n",
    "\n",
    "keywords.tail(3)"
   ]
  },
  {
   "cell_type": "code",
   "execution_count": 3,
   "metadata": {
    "collapsed": false,
    "nbpresent": {
     "id": "2ffb7fde-ef4a-4e74-a26d-48f0c4666440"
    },
    "scrolled": true,
    "slideshow": {
     "slide_type": "skip"
    }
   },
   "outputs": [
    {
     "data": {
      "text/html": [
       "<div>\n",
       "<table border=\"1\" class=\"dataframe\">\n",
       "  <thead>\n",
       "    <tr style=\"text-align: right;\">\n",
       "      <th></th>\n",
       "      <th>ahrefs_rank</th>\n",
       "      <th>ahrefs_top</th>\n",
       "      <th>alt</th>\n",
       "      <th>anchor</th>\n",
       "      <th>domain_rating</th>\n",
       "      <th>encoding</th>\n",
       "      <th>first_origin</th>\n",
       "      <th>first_seen</th>\n",
       "      <th>http_code</th>\n",
       "      <th>ip_from</th>\n",
       "      <th>language</th>\n",
       "      <th>last_origin</th>\n",
       "      <th>last_visited</th>\n",
       "      <th>link_type</th>\n",
       "      <th>links_external</th>\n",
       "      <th>links_internal</th>\n",
       "      <th>nofollow</th>\n",
       "      <th>original</th>\n",
       "      <th>page_size</th>\n",
       "      <th>prev_visited</th>\n",
       "      <th>redirect</th>\n",
       "      <th>sitewide</th>\n",
       "      <th>text_post</th>\n",
       "      <th>text_pre</th>\n",
       "      <th>title</th>\n",
       "      <th>url_from</th>\n",
       "      <th>url_from_first_seen</th>\n",
       "      <th>url_to</th>\n",
       "    </tr>\n",
       "  </thead>\n",
       "  <tbody>\n",
       "    <tr>\n",
       "      <th>119136</th>\n",
       "      <td>0</td>\n",
       "      <td>0</td>\n",
       "      <td></td>\n",
       "      <td>skyscraper technique package</td>\n",
       "      <td>16</td>\n",
       "      <td>utf8</td>\n",
       "      <td>fresh</td>\n",
       "      <td>2016-01-15T03:50:38Z</td>\n",
       "      <td>200</td>\n",
       "      <td>216.58.206.225</td>\n",
       "      <td></td>\n",
       "      <td>recrawl</td>\n",
       "      <td>2017-10-07T22:00:48Z</td>\n",
       "      <td>href</td>\n",
       "      <td>30</td>\n",
       "      <td>20</td>\n",
       "      <td>False</td>\n",
       "      <td>True</td>\n",
       "      <td>18665</td>\n",
       "      <td>2017-09-03T04:31:03Z</td>\n",
       "      <td>0</td>\n",
       "      <td>False</td>\n",
       "      <td>.</td>\n",
       "      <td>To know more about it, checkout the whole</td>\n",
       "      <td>Free SEO Tips: 7 SEO Reasons The Skyscraper Te...</td>\n",
       "      <td>http://seospruce.blogspot.com/2014/12/skyscrap...</td>\n",
       "      <td>2016-01-15T03:50:04Z</td>\n",
       "      <td>http://www.backlinko.com/skyscraper-technique</td>\n",
       "    </tr>\n",
       "    <tr>\n",
       "      <th>119137</th>\n",
       "      <td>11</td>\n",
       "      <td>0</td>\n",
       "      <td></td>\n",
       "      <td>Link Building Case Study: How I Increased My S...</td>\n",
       "      <td>64</td>\n",
       "      <td>utf8</td>\n",
       "      <td>fresh</td>\n",
       "      <td>2017-05-31T17:48:46Z</td>\n",
       "      <td>200</td>\n",
       "      <td>34.193.231.150</td>\n",
       "      <td>en</td>\n",
       "      <td>fresh</td>\n",
       "      <td>2017-05-31T17:48:46Z</td>\n",
       "      <td>href</td>\n",
       "      <td>21</td>\n",
       "      <td>126</td>\n",
       "      <td>True</td>\n",
       "      <td>True</td>\n",
       "      <td>50082</td>\n",
       "      <td></td>\n",
       "      <td>0</td>\n",
       "      <td>False</td>\n",
       "      <td></td>\n",
       "      <td>1) How to create amazing content -</td>\n",
       "      <td>Some serious thoughts to help me increase my w...</td>\n",
       "      <td>http://www.warriorforum.com/main-internet-mark...</td>\n",
       "      <td>2015-02-12T14:58:55Z</td>\n",
       "      <td>http://www.backlinko.com/skyscraper-technique</td>\n",
       "    </tr>\n",
       "  </tbody>\n",
       "</table>\n",
       "</div>"
      ],
      "text/plain": [
       "        ahrefs_rank  ahrefs_top alt  \\\n",
       "119136            0           0       \n",
       "119137           11           0       \n",
       "\n",
       "                                                   anchor  domain_rating  \\\n",
       "119136                       skyscraper technique package             16   \n",
       "119137  Link Building Case Study: How I Increased My S...             64   \n",
       "\n",
       "       encoding first_origin            first_seen  http_code         ip_from  \\\n",
       "119136     utf8        fresh  2016-01-15T03:50:38Z        200  216.58.206.225   \n",
       "119137     utf8        fresh  2017-05-31T17:48:46Z        200  34.193.231.150   \n",
       "\n",
       "       language last_origin          last_visited link_type  links_external  \\\n",
       "119136              recrawl  2017-10-07T22:00:48Z      href              30   \n",
       "119137       en       fresh  2017-05-31T17:48:46Z      href              21   \n",
       "\n",
       "        links_internal nofollow original  page_size          prev_visited  \\\n",
       "119136              20    False     True      18665  2017-09-03T04:31:03Z   \n",
       "119137             126     True     True      50082                         \n",
       "\n",
       "        redirect sitewide text_post  \\\n",
       "119136         0    False         .   \n",
       "119137         0    False             \n",
       "\n",
       "                                         text_pre  \\\n",
       "119136  To know more about it, checkout the whole   \n",
       "119137         1) How to create amazing content -   \n",
       "\n",
       "                                                    title  \\\n",
       "119136  Free SEO Tips: 7 SEO Reasons The Skyscraper Te...   \n",
       "119137  Some serious thoughts to help me increase my w...   \n",
       "\n",
       "                                                 url_from  \\\n",
       "119136  http://seospruce.blogspot.com/2014/12/skyscrap...   \n",
       "119137  http://www.warriorforum.com/main-internet-mark...   \n",
       "\n",
       "         url_from_first_seen                                         url_to  \n",
       "119136  2016-01-15T03:50:04Z  http://www.backlinko.com/skyscraper-technique  \n",
       "119137  2015-02-12T14:58:55Z  http://www.backlinko.com/skyscraper-technique  "
      ]
     },
     "execution_count": 3,
     "metadata": {},
     "output_type": "execute_result"
    }
   ],
   "source": [
    "backlinks = jl.load('data/backlinks.jl')\n",
    "backlinks.tail(2)"
   ]
  },
  {
   "cell_type": "markdown",
   "metadata": {
    "nbpresent": {
     "id": "715e216c-d2e2-49c6-a562-fddc194dd5cc"
    },
    "slideshow": {
     "slide_type": "skip"
    }
   },
   "source": [
    "### Join anchor texts associated to pages in top 10"
   ]
  },
  {
   "cell_type": "code",
   "execution_count": 4,
   "metadata": {
    "collapsed": false,
    "nbpresent": {
     "id": "51d1de21-d745-4916-9f9d-3071ba5401d7"
    },
    "scrolled": true,
    "slideshow": {
     "slide_type": "skip"
    }
   },
   "outputs": [],
   "source": [
    "keywords_backlink = keywords[['Keyword', 'Position', 'URL']].merge(backlinks[['anchor', 'text_post', 'text_pre', 'url_from' ,'url_to']],\n",
    "                                                                  how='left', left_on=['URL'], right_on=['url_to'])\n",
    "keywords_backlink = keywords_backlink.drop_duplicates().reset_index(drop=True)"
   ]
  },
  {
   "cell_type": "markdown",
   "metadata": {
    "nbpresent": {
     "id": "0529d07a-0307-495c-a1ae-a0774d638aa8"
    },
    "slideshow": {
     "slide_type": "skip"
    }
   },
   "source": [
    "#### convert all strings to lowercase (for text matching)"
   ]
  },
  {
   "cell_type": "code",
   "execution_count": 5,
   "metadata": {
    "collapsed": false,
    "nbpresent": {
     "id": "09f53ca7-3bdc-4051-b90e-adf16a1a5a87"
    },
    "scrolled": true,
    "slideshow": {
     "slide_type": "skip"
    }
   },
   "outputs": [],
   "source": [
    "for cols in keywords_backlink.columns:\n",
    "    if cols.strip() != 'Position':\n",
    "        keywords_backlink[cols] = keywords_backlink[cols].apply(lambda x: x.lower())"
   ]
  },
  {
   "cell_type": "code",
   "execution_count": 6,
   "metadata": {
    "collapsed": false,
    "nbpresent": {
     "id": "076db23a-e0a8-447a-81b6-570531fdc5a3"
    }
   },
   "outputs": [
    {
     "data": {
      "text/html": [
       "<div>\n",
       "<table border=\"1\" class=\"dataframe\">\n",
       "  <thead>\n",
       "    <tr style=\"text-align: right;\">\n",
       "      <th></th>\n",
       "      <th>Keyword</th>\n",
       "      <th>Position</th>\n",
       "      <th>URL</th>\n",
       "      <th>anchor</th>\n",
       "      <th>text_post</th>\n",
       "      <th>text_pre</th>\n",
       "      <th>url_from</th>\n",
       "      <th>url_to</th>\n",
       "    </tr>\n",
       "  </thead>\n",
       "  <tbody>\n",
       "    <tr>\n",
       "      <th>0</th>\n",
       "      <td>how to rank for keywords</td>\n",
       "      <td>7</td>\n",
       "      <td>https://backlinko.com/how-to-rank-for-any-keyword</td>\n",
       "      <td>how to rank for any keyword</td>\n",
       "      <td></td>\n",
       "      <td></td>\n",
       "      <td>http://www.perthmetroseo.com.au/about/</td>\n",
       "      <td>https://backlinko.com/how-to-rank-for-any-keyword</td>\n",
       "    </tr>\n",
       "    <tr>\n",
       "      <th>1</th>\n",
       "      <td>how to rank for keywords</td>\n",
       "      <td>7</td>\n",
       "      <td>https://backlinko.com/how-to-rank-for-any-keyword</td>\n",
       "      <td>how to rank for any keyword</td>\n",
       "      <td></td>\n",
       "      <td></td>\n",
       "      <td>http://www.perthmetroseo.com.au/belmont/</td>\n",
       "      <td>https://backlinko.com/how-to-rank-for-any-keyword</td>\n",
       "    </tr>\n",
       "    <tr>\n",
       "      <th>2</th>\n",
       "      <td>how to rank for keywords</td>\n",
       "      <td>7</td>\n",
       "      <td>https://backlinko.com/how-to-rank-for-any-keyword</td>\n",
       "      <td>how to rank for any keyword</td>\n",
       "      <td></td>\n",
       "      <td></td>\n",
       "      <td>http://www.perthmetroseo.com.au/cannington/</td>\n",
       "      <td>https://backlinko.com/how-to-rank-for-any-keyword</td>\n",
       "    </tr>\n",
       "    <tr>\n",
       "      <th>3</th>\n",
       "      <td>how to rank for keywords</td>\n",
       "      <td>7</td>\n",
       "      <td>https://backlinko.com/how-to-rank-for-any-keyword</td>\n",
       "      <td>how to rank for any keyword</td>\n",
       "      <td></td>\n",
       "      <td></td>\n",
       "      <td>http://www.perthmetroseo.com.au/kalamunda/</td>\n",
       "      <td>https://backlinko.com/how-to-rank-for-any-keyword</td>\n",
       "    </tr>\n",
       "    <tr>\n",
       "      <th>4</th>\n",
       "      <td>how to rank for keywords</td>\n",
       "      <td>7</td>\n",
       "      <td>https://backlinko.com/how-to-rank-for-any-keyword</td>\n",
       "      <td>how to rank for any keyword</td>\n",
       "      <td></td>\n",
       "      <td></td>\n",
       "      <td>http://www.perthmetroseo.com.au/midland/</td>\n",
       "      <td>https://backlinko.com/how-to-rank-for-any-keyword</td>\n",
       "    </tr>\n",
       "  </tbody>\n",
       "</table>\n",
       "</div>"
      ],
      "text/plain": [
       "                    Keyword  Position  \\\n",
       "0  how to rank for keywords         7   \n",
       "1  how to rank for keywords         7   \n",
       "2  how to rank for keywords         7   \n",
       "3  how to rank for keywords         7   \n",
       "4  how to rank for keywords         7   \n",
       "\n",
       "                                                 URL  \\\n",
       "0  https://backlinko.com/how-to-rank-for-any-keyword   \n",
       "1  https://backlinko.com/how-to-rank-for-any-keyword   \n",
       "2  https://backlinko.com/how-to-rank-for-any-keyword   \n",
       "3  https://backlinko.com/how-to-rank-for-any-keyword   \n",
       "4  https://backlinko.com/how-to-rank-for-any-keyword   \n",
       "\n",
       "                        anchor text_post text_pre  \\\n",
       "0  how to rank for any keyword                      \n",
       "1  how to rank for any keyword                      \n",
       "2  how to rank for any keyword                      \n",
       "3  how to rank for any keyword                      \n",
       "4  how to rank for any keyword                      \n",
       "\n",
       "                                      url_from  \\\n",
       "0       http://www.perthmetroseo.com.au/about/   \n",
       "1     http://www.perthmetroseo.com.au/belmont/   \n",
       "2  http://www.perthmetroseo.com.au/cannington/   \n",
       "3   http://www.perthmetroseo.com.au/kalamunda/   \n",
       "4     http://www.perthmetroseo.com.au/midland/   \n",
       "\n",
       "                                              url_to  \n",
       "0  https://backlinko.com/how-to-rank-for-any-keyword  \n",
       "1  https://backlinko.com/how-to-rank-for-any-keyword  \n",
       "2  https://backlinko.com/how-to-rank-for-any-keyword  \n",
       "3  https://backlinko.com/how-to-rank-for-any-keyword  \n",
       "4  https://backlinko.com/how-to-rank-for-any-keyword  "
      ]
     },
     "execution_count": 6,
     "metadata": {},
     "output_type": "execute_result"
    }
   ],
   "source": [
    "keywords_backlink.head()"
   ]
  },
  {
   "cell_type": "markdown",
   "metadata": {
    "nbpresent": {
     "id": "cdac8f98-adb1-416e-a8fd-723a09688733"
    },
    "slideshow": {
     "slide_type": "slide"
    }
   },
   "source": [
    "### Pre-processing:\n",
    "   - extract keywords and backlinks data from ahref site following the instructions in the video\n",
    "   - combine all keywords csv files together in 1 table (keywords table)\n",
    "   - join keywords table with backlinks table, so that we might know what links and anchor texts leads to the pages on top 10\n",
    " "
   ]
  },
  {
   "cell_type": "code",
   "execution_count": null,
   "metadata": {
    "collapsed": false,
    "nbpresent": {
     "id": "88db031b-e0f4-4ef1-9625-e32568efc615"
    },
    "slideshow": {
     "slide_type": "skip"
    }
   },
   "outputs": [],
   "source": [
    "# jl.dump(keywords_backlink, 'data/keywords_backlink.jl', compress=1)"
   ]
  },
  {
   "cell_type": "markdown",
   "metadata": {
    "nbpresent": {
     "id": "7664b3fc-e805-4f52-9256-68ad5e4839e4"
    },
    "slideshow": {
     "slide_type": "skip"
    }
   },
   "source": [
    "### Get matching keywords and anchor texts"
   ]
  },
  {
   "cell_type": "code",
   "execution_count": 7,
   "metadata": {
    "collapsed": false,
    "nbpresent": {
     "id": "e4387309-a2fd-41da-b6ca-213d7aa2750c"
    },
    "scrolled": true,
    "slideshow": {
     "slide_type": "skip"
    }
   },
   "outputs": [
    {
     "name": "stdout",
     "output_type": "stream",
     "text": [
      "Number of keywords matched with anchor texts: 55288\n"
     ]
    }
   ],
   "source": [
    "# keywords_backlink = jl.load('data/keywords_backlink.jl')\n",
    "# match_anchor = keywords_backlink[keywords_backlink.apply(lambda x: x.Keyword in x.anchor, axis=1)].drop_duplicates()\n",
    "# jl.dump(match_anchor, 'data/match_anchor.jl', compress=1)\n",
    "match_anchor = jl.load('data/match_anchor.jl')\n",
    "print('Number of keywords matched with anchor texts: {}'.format(len(match_anchor)))"
   ]
  },
  {
   "cell_type": "markdown",
   "metadata": {
    "nbpresent": {
     "id": "b18656eb-743c-4787-b10b-e947d22ed87d"
    },
    "slideshow": {
     "slide_type": "skip"
    }
   },
   "source": [
    "### Get the mean and median of matches per page rank"
   ]
  },
  {
   "cell_type": "code",
   "execution_count": 8,
   "metadata": {
    "collapsed": false,
    "nbpresent": {
     "id": "2cf1105d-d0af-466b-b619-52ed9ff173fd"
    },
    "slideshow": {
     "slide_type": "skip"
    }
   },
   "outputs": [],
   "source": [
    "key_anchor = match_anchor.groupby(['Keyword'], as_index=False).agg({'Position': max, 'url_from': len})\n",
    "pos_anchor_cnt = key_anchor.groupby('Position').agg({'url_from': [np.mean, np.median]})\n",
    "pos_anchor_cnt.columns = pos_anchor_cnt.columns.set_levels(['anchor'], level=0)"
   ]
  },
  {
   "cell_type": "markdown",
   "metadata": {
    "nbpresent": {
     "id": "6520c07d-85f2-450f-8fc2-514788c8688d"
    },
    "slideshow": {
     "slide_type": "skip"
    }
   },
   "source": [
    "### Plot occurrence of keywords in anchor texts"
   ]
  },
  {
   "cell_type": "markdown",
   "metadata": {
    "nbpresent": {
     "id": "4cd62e77-5ebe-4901-8218-28d6aeed38cb"
    },
    "slideshow": {
     "slide_type": "slide"
    }
   },
   "source": [
    "### Answer to (1) and (2):\n",
    "#### Processing:\n",
    "- get counts of keyword occurrence in the **anchor texts** and **surrounding texts** for the top 10 pages\n",
    "- get mean and median counts of keyword occurrence in the **anchor texts** and **surrounding texts** for the top 10 pages\n",
    "- correlate page rank and occurrence of keywords in anchor text and in surrounding texts using **spearman correation coefficient**"
   ]
  },
  {
   "cell_type": "markdown",
   "metadata": {
    "nbpresent": {
     "id": "b94b5e6b-db73-4094-95c7-545e1362bfac"
    },
    "slideshow": {
     "slide_type": "slide"
    }
   },
   "source": [
    "#### Findings:\n",
    "- There is a **small negative correlation** between keywords occuring in the anchor texts and in the surrounding texts. <br>\n",
    "     (note that higher rank means: lesser the rank number) \n",
    "- keywords occuring in the anchor texts and/or surrounding texts, <br>\n",
    "     help boost the rank <br>\n",
    "- keywords in anchor texts has ~15% more correlation to top pages compared to keywords in surrounding texts <br>\n",
    "   this means, keywords placed in the anchor texts more likely would lead to higher rank <br>\n",
    "   (but I really think that a good balance between placing keywords in anchor texts and surrounding texts would help raise the      page rank)\n",
    "- Remember that **correlation is not causation**. There are other factors that affects page rank."
   ]
  },
  {
   "cell_type": "code",
   "execution_count": 9,
   "metadata": {
    "collapsed": false,
    "nbpresent": {
     "id": "f18620c7-e94d-424a-ac63-4fa89b28a87f"
    },
    "slideshow": {
     "slide_type": "slide"
    }
   },
   "outputs": [
    {
     "data": {
      "image/png": "[encoded data removed]",
      "text/plain": [
       "<matplotlib.figure.Figure at 0x1e1937f0>"
      ]
     },
     "metadata": {},
     "output_type": "display_data"
    }
   ],
   "source": [
    "key_anchor_plt  = pos_anchor_cnt.plot(kind='line', title='occurrence of keywords in the anchor texts', marker='o',\n",
    "                                    ylim=[0, 450], figsize=(8, 5))\n",
    "key_anchor_plt = key_anchor_plt.legend(['mean', 'median'], loc='best')"
   ]
  },
  {
   "cell_type": "markdown",
   "metadata": {
    "nbpresent": {
     "id": "04980fba-7b7f-4d2c-af59-ae31ac4d2c27"
    },
    "slideshow": {
     "slide_type": "skip"
    }
   },
   "source": [
    "### get matching keywords and surrounding texts"
   ]
  },
  {
   "cell_type": "code",
   "execution_count": 10,
   "metadata": {
    "collapsed": false,
    "nbpresent": {
     "id": "5246e2c9-7e5d-4810-b0ec-2834ec005d32"
    },
    "scrolled": true,
    "slideshow": {
     "slide_type": "skip"
    }
   },
   "outputs": [
    {
     "name": "stdout",
     "output_type": "stream",
     "text": [
      "Number of keyword matched with surrounding texts: 28100\n"
     ]
    }
   ],
   "source": [
    "# match_surround = keywords_backlink[keywords_backlink.apply(lambda x: (x.Keyword in x.text_post) \n",
    "#                                                            | (x.Keyword in x.text_pre), axis=1)].drop_duplicates()\n",
    "# jl.dump(match_surround, 'data/match_surround.jl', compress=1)\n",
    "match_surround = jl.load('data/match_surround.jl')\n",
    "print('Number of keyword matched with surrounding texts: {}'.format(len(match_surround)))"
   ]
  },
  {
   "cell_type": "markdown",
   "metadata": {
    "nbpresent": {
     "id": "cffe5423-fc67-4dc4-af2c-c8a9dcde1c43"
    },
    "slideshow": {
     "slide_type": "skip"
    }
   },
   "source": [
    "### get mean and median for matches per page rank"
   ]
  },
  {
   "cell_type": "code",
   "execution_count": 11,
   "metadata": {
    "collapsed": false,
    "nbpresent": {
     "id": "b6b0a18f-ca49-4adf-a970-9b4b1d850335"
    },
    "slideshow": {
     "slide_type": "skip"
    }
   },
   "outputs": [],
   "source": [
    "key_surround = match_surround.groupby(['Keyword'], as_index=False).agg({'Position': max, 'url_from': len})\n",
    "pos_surround_cnt = key_surround.groupby('Position').agg({'url_from': [np.mean, np.median]})\n",
    "pos_surround_cnt.columns = pos_surround_cnt.columns.set_levels(['surrounding'], level=0)"
   ]
  },
  {
   "cell_type": "markdown",
   "metadata": {
    "nbpresent": {
     "id": "1c840f27-405a-4b69-9cbc-983dc0c2e128"
    },
    "slideshow": {
     "slide_type": "skip"
    }
   },
   "source": [
    "### Plot occurrence of keywords in surrounding text"
   ]
  },
  {
   "cell_type": "code",
   "execution_count": 12,
   "metadata": {
    "collapsed": false,
    "nbpresent": {
     "id": "1c2b49c0-be3f-4550-bbdc-0edde8db63e0"
    },
    "slideshow": {
     "slide_type": "skip"
    }
   },
   "outputs": [
    {
     "data": {
      "image/png": "[encoded data removed]",
      "text/plain": [
       "<matplotlib.figure.Figure at 0x9a88bf98>"
      ]
     },
     "metadata": {},
     "output_type": "display_data"
    }
   ],
   "source": [
    "key_surround_plt = pos_surround_cnt.plot(kind='line', title='occurrence of keywords in the surrounding text',\n",
    "                                         marker='o', ylim=[0, 450], figsize=(8, 5))\n",
    "key_surround_plt = key_surround_plt.legend(['mean', 'median'], loc='best')"
   ]
  },
  {
   "cell_type": "markdown",
   "metadata": {
    "nbpresent": {
     "id": "9c33e9a0-cb22-4b2b-ae93-e0e784ae6fc3"
    },
    "slideshow": {
     "slide_type": "skip"
    }
   },
   "source": [
    "#### combine results"
   ]
  },
  {
   "cell_type": "code",
   "execution_count": 13,
   "metadata": {
    "collapsed": false,
    "nbpresent": {
     "id": "06c2895d-ac98-4e48-8e9e-73673998f7a0"
    },
    "scrolled": true,
    "slideshow": {
     "slide_type": "skip"
    }
   },
   "outputs": [],
   "source": [
    "anchor_surround_pos = pd.concat([pos_anchor_cnt, pos_surround_cnt], axis=1)"
   ]
  },
  {
   "cell_type": "markdown",
   "metadata": {
    "nbpresent": {
     "id": "1c41a50c-02f8-4b1b-99ab-e9e91009109c"
    },
    "slideshow": {
     "slide_type": "slide"
    }
   },
   "source": [
    "## Comparing keyword occurrence in anchor texts and surrounding texts\n",
    "\n",
    "   - more keywords are found in anchor texts than in the surrounding texts in the top 3 pages \n",
    "   - for the succeeding page ranks, this does not hold true\n",
    "   - there seem to be a slight correlation between page rank and number of keywords both in the anchor texts and surrounding texts\n",
    "   - there must be some other factors that affects how page ranks\n",
    "   - some things to consider: similarity/correlation between content of the page and content of the backlinks, domain rating of the backlink, occurrence of keywords in backlink URL"
   ]
  },
  {
   "cell_type": "markdown",
   "metadata": {
    "nbpresent": {
     "id": "1ce85d17-b4c6-4a23-ab8b-c2fccd6a809f"
    },
    "slideshow": {
     "slide_type": "skip"
    }
   },
   "source": [
    "### Average number of keyword occurrence in anchor and surrounding texts"
   ]
  },
  {
   "cell_type": "code",
   "execution_count": 14,
   "metadata": {
    "collapsed": false,
    "nbpresent": {
     "id": "ba0d3021-b794-4ccc-a0ed-ca1be32d4d11"
    },
    "slideshow": {
     "slide_type": "skip"
    }
   },
   "outputs": [
    {
     "data": {
      "image/png": "[encoded data removed]",
      "text/plain": [
       "<matplotlib.figure.Figure at 0x9b3d1208>"
      ]
     },
     "metadata": {},
     "output_type": "display_data"
    }
   ],
   "source": [
    "mean_pos = anchor_surround_pos.iloc[:, anchor_surround_pos.columns.get_level_values(1)=='mean']\n",
    "mean_pos = mean_pos.plot(kind='bar', title='Average number of keyword occurrence in the anchor and surrounding texts',\n",
    "                        ylim=[0, 450], figsize=(8, 5))\n",
    "mean_pos = mean_pos.legend(['anchor','surrounding'])"
   ]
  },
  {
   "cell_type": "markdown",
   "metadata": {
    "nbpresent": {
     "id": "1787f51c-2bd2-444c-a987-b62ee3c29758"
    }
   },
   "source": [
    "### Median of keyword occurrence in anchor and surrounding texts"
   ]
  },
  {
   "cell_type": "code",
   "execution_count": 15,
   "metadata": {
    "collapsed": false,
    "nbpresent": {
     "id": "00bab962-2be6-48e7-840c-e7f30bf713bd"
    },
    "scrolled": false
   },
   "outputs": [
    {
     "data": {
      "image/png": "[encoded data removed]",
      "text/plain": [
       "<matplotlib.figure.Figure at 0x9ae43be0>"
      ]
     },
     "metadata": {},
     "output_type": "display_data"
    }
   ],
   "source": [
    "median_pos = anchor_surround_pos.iloc[:, anchor_surround_pos.columns.get_level_values(1)=='median']\n",
    "median_pos = median_pos.plot(kind='bar', title='Median of keyword occurrence in the anchor and surrounding texts',\n",
    "                            color=['r','y'], ylim=[0,14], figsize=(8, 5))\n",
    "median_pos = median_pos.legend(['anchor','surrounding'])"
   ]
  },
  {
   "cell_type": "markdown",
   "metadata": {
    "nbpresent": {
     "id": "a34d8415-a5d4-48d8-935d-f536d685e6cd"
    }
   },
   "source": [
    "### Spearman Correlation coefficients for keywords matching anchor texts and keywords matching surrounding texts"
   ]
  },
  {
   "cell_type": "code",
   "execution_count": 16,
   "metadata": {
    "collapsed": false,
    "nbpresent": {
     "id": "66c1345e-3e72-405e-96e8-8958ec0df7df"
    }
   },
   "outputs": [],
   "source": [
    "cor_table = pd.DataFrame({'correlation': [spearmanr(key_anchor.url_from, key_anchor.Position).correlation,\n",
    "                 spearmanr(key_surround.url_from, key_surround.Position).correlation],\n",
    "             }, index=['keywords in anchor texts', 'keywords in surrounding texts'])"
   ]
  },
  {
   "cell_type": "code",
   "execution_count": 17,
   "metadata": {
    "collapsed": false,
    "nbpresent": {
     "id": "c975d77b-27f8-4064-8f7c-7fe48ffcb660"
    }
   },
   "outputs": [
    {
     "data": {
      "text/html": [
       "<div>\n",
       "<table border=\"1\" class=\"dataframe\">\n",
       "  <thead>\n",
       "    <tr style=\"text-align: right;\">\n",
       "      <th></th>\n",
       "      <th>correlation</th>\n",
       "    </tr>\n",
       "  </thead>\n",
       "  <tbody>\n",
       "    <tr>\n",
       "      <th>keywords in anchor texts</th>\n",
       "      <td>-0.162982</td>\n",
       "    </tr>\n",
       "    <tr>\n",
       "      <th>keywords in surrounding texts</th>\n",
       "      <td>-0.014589</td>\n",
       "    </tr>\n",
       "  </tbody>\n",
       "</table>\n",
       "</div>"
      ],
      "text/plain": [
       "                               correlation\n",
       "keywords in anchor texts         -0.162982\n",
       "keywords in surrounding texts    -0.014589"
      ]
     },
     "execution_count": 17,
     "metadata": {},
     "output_type": "execute_result"
    }
   ],
   "source": [
    "cor_table"
   ]
  },
  {
   "cell_type": "markdown",
   "metadata": {
    "nbpresent": {
     "id": "9a534804-2ed9-401a-b743-d2ac3e6341f9"
    }
   },
   "source": [
    "### Answer to (3):\n",
    "\n",
    "#### Preprocessing:\n",
    "\n",
    "- Get number of keywords in the top 10 not present in anchor texts, surrounding texts and in page content\n",
    "- scrape the page (in top 10) content of those pages where keywords are not found in all in anchor texts, surrounding texts and in page content"
   ]
  },
  {
   "cell_type": "markdown",
   "metadata": {
    "nbpresent": {
     "id": "e590b5b3-eadb-42c2-b424-7f7a67d60bdb"
    }
   },
   "source": [
    "### Keywords not present in anchor texts, surrounding texts and content of page in top 10"
   ]
  },
  {
   "cell_type": "code",
   "execution_count": 18,
   "metadata": {
    "collapsed": false,
    "nbpresent": {
     "id": "055c622e-f4c5-48f2-aa3e-eedfd51dce3a"
    }
   },
   "outputs": [
    {
     "name": "stdout",
     "output_type": "stream",
     "text": [
      "2952148\n"
     ]
    }
   ],
   "source": [
    "unmatch = keywords_backlink[(~keywords_backlink.index.isin(match_anchor.index)) &\n",
    "                            (~keywords_backlink.index.isin(match_surround.index))]\\\n",
    "                            [['Keyword', 'Position', 'URL', 'url_from']].drop_duplicates()\n",
    "print(len(unmatch))"
   ]
  },
  {
   "cell_type": "code",
   "execution_count": 19,
   "metadata": {
    "collapsed": false,
    "nbpresent": {
     "id": "6a02945d-1b00-41c0-9c18-9886135c6ef8"
    },
    "scrolled": true
   },
   "outputs": [
    {
     "data": {
      "text/html": [
       "<div>\n",
       "<table border=\"1\" class=\"dataframe\">\n",
       "  <thead>\n",
       "    <tr style=\"text-align: right;\">\n",
       "      <th></th>\n",
       "      <th>Keyword</th>\n",
       "      <th>Position</th>\n",
       "      <th>URL</th>\n",
       "      <th>url_from</th>\n",
       "    </tr>\n",
       "  </thead>\n",
       "  <tbody>\n",
       "    <tr>\n",
       "      <th>0</th>\n",
       "      <td>how to rank for keywords</td>\n",
       "      <td>7</td>\n",
       "      <td>https://backlinko.com/how-to-rank-for-any-keyword</td>\n",
       "      <td>http://www.perthmetroseo.com.au/about/</td>\n",
       "    </tr>\n",
       "    <tr>\n",
       "      <th>1</th>\n",
       "      <td>how to rank for keywords</td>\n",
       "      <td>7</td>\n",
       "      <td>https://backlinko.com/how-to-rank-for-any-keyword</td>\n",
       "      <td>http://www.perthmetroseo.com.au/belmont/</td>\n",
       "    </tr>\n",
       "    <tr>\n",
       "      <th>2</th>\n",
       "      <td>how to rank for keywords</td>\n",
       "      <td>7</td>\n",
       "      <td>https://backlinko.com/how-to-rank-for-any-keyword</td>\n",
       "      <td>http://www.perthmetroseo.com.au/cannington/</td>\n",
       "    </tr>\n",
       "    <tr>\n",
       "      <th>3</th>\n",
       "      <td>how to rank for keywords</td>\n",
       "      <td>7</td>\n",
       "      <td>https://backlinko.com/how-to-rank-for-any-keyword</td>\n",
       "      <td>http://www.perthmetroseo.com.au/kalamunda/</td>\n",
       "    </tr>\n",
       "    <tr>\n",
       "      <th>4</th>\n",
       "      <td>how to rank for keywords</td>\n",
       "      <td>7</td>\n",
       "      <td>https://backlinko.com/how-to-rank-for-any-keyword</td>\n",
       "      <td>http://www.perthmetroseo.com.au/midland/</td>\n",
       "    </tr>\n",
       "  </tbody>\n",
       "</table>\n",
       "</div>"
      ],
      "text/plain": [
       "                    Keyword  Position  \\\n",
       "0  how to rank for keywords         7   \n",
       "1  how to rank for keywords         7   \n",
       "2  how to rank for keywords         7   \n",
       "3  how to rank for keywords         7   \n",
       "4  how to rank for keywords         7   \n",
       "\n",
       "                                                 URL  \\\n",
       "0  https://backlinko.com/how-to-rank-for-any-keyword   \n",
       "1  https://backlinko.com/how-to-rank-for-any-keyword   \n",
       "2  https://backlinko.com/how-to-rank-for-any-keyword   \n",
       "3  https://backlinko.com/how-to-rank-for-any-keyword   \n",
       "4  https://backlinko.com/how-to-rank-for-any-keyword   \n",
       "\n",
       "                                      url_from  \n",
       "0       http://www.perthmetroseo.com.au/about/  \n",
       "1     http://www.perthmetroseo.com.au/belmont/  \n",
       "2  http://www.perthmetroseo.com.au/cannington/  \n",
       "3   http://www.perthmetroseo.com.au/kalamunda/  \n",
       "4     http://www.perthmetroseo.com.au/midland/  "
      ]
     },
     "execution_count": 19,
     "metadata": {},
     "output_type": "execute_result"
    }
   ],
   "source": [
    "unmatch.head()"
   ]
  },
  {
   "cell_type": "markdown",
   "metadata": {
    "nbpresent": {
     "id": "9b2839ba-3fa5-4dd9-a4d0-7d548aff7db4"
    }
   },
   "source": [
    "### Get contents of pages"
   ]
  },
  {
   "cell_type": "code",
   "execution_count": 20,
   "metadata": {
    "collapsed": true,
    "nbpresent": {
     "id": "cf866702-1fe9-41f8-8481-146e4d498fec"
    }
   },
   "outputs": [],
   "source": [
    "def tag_visible(element):\n",
    "    if element.parent.name in ['style', 'script', 'head', 'title', 'meta', '[document]']:\n",
    "        return False\n",
    "    if isinstance(element, Comment):\n",
    "        return False\n",
    "    return True\n",
    "\n",
    "\n",
    "def text_from_html(body):\n",
    "    soup = BeautifulSoup(body, 'html.parser')\n",
    "    texts = soup.findAll(text=True)\n",
    "    visible_texts = filter(tag_visible, texts)  \n",
    "    return (u\" \".join(t.strip() for t in visible_texts)).lower()\n",
    "\n",
    "def extract_page_contents (urls):\n",
    "    contents = []\n",
    "    unreachable_urls = []\n",
    "    for URL in urls:\n",
    "\n",
    "        req = urllib.request.Request(URL,\n",
    "                               headers={'User-Agent': 'Mozilla/5.0 (Macintosh; Intel Mac OS X 10_9_3) AppleWebKit/537.75.14 (KHTML, like Gecko) Version/7.0.3 Safari/7046A194A'})\n",
    "\n",
    "        try:\n",
    "            with urllib.request.urlopen(req) as url:\n",
    "                s = url.read()\n",
    "                contents.append((text_from_html(s)))\n",
    "        except urllib.error.URLError as e:\n",
    "            unreachable_urls.append(URL)\n",
    "        except urllib.request.ssl.CertificateError as c:\n",
    "            unreachable_urls.append(URL)\n",
    "            \n",
    "    return contents, unreachable_urls"
   ]
  },
  {
   "cell_type": "markdown",
   "metadata": {
    "nbpresent": {
     "id": "a25998df-40f8-4d13-afb0-4b6acdfabc03"
    }
   },
   "source": [
    "### get contents of pages in top 10"
   ]
  },
  {
   "cell_type": "code",
   "execution_count": null,
   "metadata": {
    "collapsed": false,
    "nbpresent": {
     "id": "818dadfb-3428-4fce-b616-6f01af759cc3"
    },
    "scrolled": true
   },
   "outputs": [],
   "source": [
    "page_contents, unreachable_urls = extract_page_contents(unmatch.URL.unique())\n",
    "\n",
    "pg_content_df = pd.DataFrame({'page_content': page_contents,\n",
    "                              'URL': unmatch.URL.unique()})\n",
    "\n",
    "jl.dump(pg_content_df, 'data/pg_content_df.jl', compress=1)"
   ]
  },
  {
   "cell_type": "code",
   "execution_count": null,
   "metadata": {
    "collapsed": false,
    "nbpresent": {
     "id": "49a6cbd3-8a5a-4e0b-93f3-37e87334ce87"
    }
   },
   "outputs": [],
   "source": [
    "unreachable_urls"
   ]
  },
  {
   "cell_type": "code",
   "execution_count": 21,
   "metadata": {
    "collapsed": false
   },
   "outputs": [
    {
     "data": {
      "text/html": [
       "<div>\n",
       "<table border=\"1\" class=\"dataframe\">\n",
       "  <thead>\n",
       "    <tr style=\"text-align: right;\">\n",
       "      <th></th>\n",
       "      <th>URL</th>\n",
       "      <th>page_content</th>\n",
       "    </tr>\n",
       "  </thead>\n",
       "  <tbody>\n",
       "    <tr>\n",
       "      <th>0</th>\n",
       "      <td>https://backlinko.com/how-to-rank-for-any-keyword</td>\n",
       "      <td>op...</td>\n",
       "    </tr>\n",
       "    <tr>\n",
       "      <th>1</th>\n",
       "      <td>http://backlinko.com/increase-conversions</td>\n",
       "      <td>...</td>\n",
       "    </tr>\n",
       "    <tr>\n",
       "      <th>2</th>\n",
       "      <td>http://backlinko.com/about-backlinko</td>\n",
       "      <td>op...</td>\n",
       "    </tr>\n",
       "    <tr>\n",
       "      <th>3</th>\n",
       "      <td>https://backlinko.com/how-to-rank-youtube-videos</td>\n",
       "      <td>...</td>\n",
       "    </tr>\n",
       "    <tr>\n",
       "      <th>4</th>\n",
       "      <td>http://backlinko.com/seo-campaign</td>\n",
       "      <td>...</td>\n",
       "    </tr>\n",
       "  </tbody>\n",
       "</table>\n",
       "</div>"
      ],
      "text/plain": [
       "                                                 URL  \\\n",
       "0  https://backlinko.com/how-to-rank-for-any-keyword   \n",
       "1          http://backlinko.com/increase-conversions   \n",
       "2               http://backlinko.com/about-backlinko   \n",
       "3   https://backlinko.com/how-to-rank-youtube-videos   \n",
       "4                  http://backlinko.com/seo-campaign   \n",
       "\n",
       "                                        page_content  \n",
       "0                                              op...  \n",
       "1                                                ...  \n",
       "2                                              op...  \n",
       "3                                                ...  \n",
       "4                                                ...  "
      ]
     },
     "execution_count": 21,
     "metadata": {},
     "output_type": "execute_result"
    }
   ],
   "source": [
    "pg_content_df = jl.load('data/pg_content_df.jl')\n",
    "pg_content_df.head()"
   ]
  },
  {
   "cell_type": "markdown",
   "metadata": {},
   "source": [
    "### Join contents to unmached keywords dataframe"
   ]
  },
  {
   "cell_type": "code",
   "execution_count": 22,
   "metadata": {
    "collapsed": false
   },
   "outputs": [
    {
     "data": {
      "text/html": [
       "<div>\n",
       "<table border=\"1\" class=\"dataframe\">\n",
       "  <thead>\n",
       "    <tr style=\"text-align: right;\">\n",
       "      <th></th>\n",
       "      <th>Keyword</th>\n",
       "      <th>Position</th>\n",
       "      <th>URL</th>\n",
       "      <th>url_from</th>\n",
       "      <th>page_content</th>\n",
       "    </tr>\n",
       "  </thead>\n",
       "  <tbody>\n",
       "    <tr>\n",
       "      <th>0</th>\n",
       "      <td>how to rank for keywords</td>\n",
       "      <td>7</td>\n",
       "      <td>https://backlinko.com/how-to-rank-for-any-keyword</td>\n",
       "      <td>http://www.perthmetroseo.com.au/about/</td>\n",
       "      <td>op...</td>\n",
       "    </tr>\n",
       "    <tr>\n",
       "      <th>1</th>\n",
       "      <td>how to rank for keywords</td>\n",
       "      <td>7</td>\n",
       "      <td>https://backlinko.com/how-to-rank-for-any-keyword</td>\n",
       "      <td>http://www.perthmetroseo.com.au/belmont/</td>\n",
       "      <td>op...</td>\n",
       "    </tr>\n",
       "    <tr>\n",
       "      <th>2</th>\n",
       "      <td>how to rank for keywords</td>\n",
       "      <td>7</td>\n",
       "      <td>https://backlinko.com/how-to-rank-for-any-keyword</td>\n",
       "      <td>http://www.perthmetroseo.com.au/cannington/</td>\n",
       "      <td>op...</td>\n",
       "    </tr>\n",
       "    <tr>\n",
       "      <th>3</th>\n",
       "      <td>how to rank for keywords</td>\n",
       "      <td>7</td>\n",
       "      <td>https://backlinko.com/how-to-rank-for-any-keyword</td>\n",
       "      <td>http://www.perthmetroseo.com.au/kalamunda/</td>\n",
       "      <td>op...</td>\n",
       "    </tr>\n",
       "    <tr>\n",
       "      <th>4</th>\n",
       "      <td>how to rank for keywords</td>\n",
       "      <td>7</td>\n",
       "      <td>https://backlinko.com/how-to-rank-for-any-keyword</td>\n",
       "      <td>http://www.perthmetroseo.com.au/midland/</td>\n",
       "      <td>op...</td>\n",
       "    </tr>\n",
       "  </tbody>\n",
       "</table>\n",
       "</div>"
      ],
      "text/plain": [
       "                    Keyword  Position  \\\n",
       "0  how to rank for keywords         7   \n",
       "1  how to rank for keywords         7   \n",
       "2  how to rank for keywords         7   \n",
       "3  how to rank for keywords         7   \n",
       "4  how to rank for keywords         7   \n",
       "\n",
       "                                                 URL  \\\n",
       "0  https://backlinko.com/how-to-rank-for-any-keyword   \n",
       "1  https://backlinko.com/how-to-rank-for-any-keyword   \n",
       "2  https://backlinko.com/how-to-rank-for-any-keyword   \n",
       "3  https://backlinko.com/how-to-rank-for-any-keyword   \n",
       "4  https://backlinko.com/how-to-rank-for-any-keyword   \n",
       "\n",
       "                                      url_from  \\\n",
       "0       http://www.perthmetroseo.com.au/about/   \n",
       "1     http://www.perthmetroseo.com.au/belmont/   \n",
       "2  http://www.perthmetroseo.com.au/cannington/   \n",
       "3   http://www.perthmetroseo.com.au/kalamunda/   \n",
       "4     http://www.perthmetroseo.com.au/midland/   \n",
       "\n",
       "                                        page_content  \n",
       "0                                              op...  \n",
       "1                                              op...  \n",
       "2                                              op...  \n",
       "3                                              op...  \n",
       "4                                              op...  "
      ]
     },
     "execution_count": 22,
     "metadata": {},
     "output_type": "execute_result"
    }
   ],
   "source": [
    "unmatch = unmatch.merge(pg_content_df, on='URL', how='inner')\n",
    "unmatch.head()"
   ]
  },
  {
   "cell_type": "markdown",
   "metadata": {},
   "source": [
    "### Get keywords not in top 10 page contents"
   ]
  },
  {
   "cell_type": "code",
   "execution_count": 23,
   "metadata": {
    "collapsed": true
   },
   "outputs": [],
   "source": [
    "unmatch = unmatch[unmatch.apply(lambda x: x.Keyword in x.page_content, axis=1)].drop_duplicates()"
   ]
  },
  {
   "cell_type": "code",
   "execution_count": 24,
   "metadata": {
    "collapsed": false
   },
   "outputs": [
    {
     "data": {
      "text/plain": [
       "232354"
      ]
     },
     "execution_count": 24,
     "metadata": {},
     "output_type": "execute_result"
    }
   ],
   "source": [
    "len(unmatch)"
   ]
  },
  {
   "cell_type": "code",
   "execution_count": 25,
   "metadata": {
    "collapsed": false
   },
   "outputs": [
    {
     "data": {
      "text/html": [
       "<div>\n",
       "<table border=\"1\" class=\"dataframe\">\n",
       "  <thead>\n",
       "    <tr style=\"text-align: right;\">\n",
       "      <th></th>\n",
       "      <th>Keyword</th>\n",
       "      <th>Position</th>\n",
       "      <th>URL</th>\n",
       "      <th>url_from</th>\n",
       "      <th>page_content</th>\n",
       "    </tr>\n",
       "  </thead>\n",
       "  <tbody>\n",
       "    <tr>\n",
       "      <th>165</th>\n",
       "      <td>how to rank</td>\n",
       "      <td>6</td>\n",
       "      <td>https://backlinko.com/how-to-rank-for-any-keyword</td>\n",
       "      <td>http://digitalreview.co/how-to-write-sharable-...</td>\n",
       "      <td>op...</td>\n",
       "    </tr>\n",
       "    <tr>\n",
       "      <th>166</th>\n",
       "      <td>how to rank</td>\n",
       "      <td>6</td>\n",
       "      <td>https://backlinko.com/how-to-rank-for-any-keyword</td>\n",
       "      <td>https://1upmedia.com/25-creative-content-promo...</td>\n",
       "      <td>op...</td>\n",
       "    </tr>\n",
       "    <tr>\n",
       "      <th>167</th>\n",
       "      <td>how to rank</td>\n",
       "      <td>6</td>\n",
       "      <td>https://backlinko.com/how-to-rank-for-any-keyword</td>\n",
       "      <td>https://1upmedia.com/digital-philippines-2/</td>\n",
       "      <td>op...</td>\n",
       "    </tr>\n",
       "    <tr>\n",
       "      <th>168</th>\n",
       "      <td>how to rank</td>\n",
       "      <td>6</td>\n",
       "      <td>https://backlinko.com/how-to-rank-for-any-keyword</td>\n",
       "      <td>https://ahrefs.com/blog/skyscraper-technique/</td>\n",
       "      <td>op...</td>\n",
       "    </tr>\n",
       "    <tr>\n",
       "      <th>169</th>\n",
       "      <td>how to rank</td>\n",
       "      <td>6</td>\n",
       "      <td>https://backlinko.com/how-to-rank-for-any-keyword</td>\n",
       "      <td>https://bloggingio.com/internet-marketing-blogs/</td>\n",
       "      <td>op...</td>\n",
       "    </tr>\n",
       "  </tbody>\n",
       "</table>\n",
       "</div>"
      ],
      "text/plain": [
       "         Keyword  Position                                                URL  \\\n",
       "165  how to rank         6  https://backlinko.com/how-to-rank-for-any-keyword   \n",
       "166  how to rank         6  https://backlinko.com/how-to-rank-for-any-keyword   \n",
       "167  how to rank         6  https://backlinko.com/how-to-rank-for-any-keyword   \n",
       "168  how to rank         6  https://backlinko.com/how-to-rank-for-any-keyword   \n",
       "169  how to rank         6  https://backlinko.com/how-to-rank-for-any-keyword   \n",
       "\n",
       "                                              url_from  \\\n",
       "165  http://digitalreview.co/how-to-write-sharable-...   \n",
       "166  https://1upmedia.com/25-creative-content-promo...   \n",
       "167        https://1upmedia.com/digital-philippines-2/   \n",
       "168      https://ahrefs.com/blog/skyscraper-technique/   \n",
       "169   https://bloggingio.com/internet-marketing-blogs/   \n",
       "\n",
       "                                          page_content  \n",
       "165                                              op...  \n",
       "166                                              op...  \n",
       "167                                              op...  \n",
       "168                                              op...  \n",
       "169                                              op...  "
      ]
     },
     "execution_count": 25,
     "metadata": {},
     "output_type": "execute_result"
    }
   ],
   "source": [
    "unmatch.head()"
   ]
  },
  {
   "cell_type": "code",
   "execution_count": 26,
   "metadata": {
    "collapsed": false
   },
   "outputs": [
    {
     "data": {
      "text/html": [
       "<div>\n",
       "<table border=\"1\" class=\"dataframe\">\n",
       "  <thead>\n",
       "    <tr>\n",
       "      <th></th>\n",
       "      <th>Position</th>\n",
       "      <th>Keyword</th>\n",
       "      <th>url_from</th>\n",
       "    </tr>\n",
       "    <tr>\n",
       "      <th></th>\n",
       "      <th></th>\n",
       "      <th></th>\n",
       "      <th>count</th>\n",
       "    </tr>\n",
       "  </thead>\n",
       "  <tbody>\n",
       "    <tr>\n",
       "      <th>53</th>\n",
       "      <td>1</td>\n",
       "      <td>backlinko</td>\n",
       "      <td>12620</td>\n",
       "    </tr>\n",
       "    <tr>\n",
       "      <th>131</th>\n",
       "      <td>8</td>\n",
       "      <td>advanced link building</td>\n",
       "      <td>6950</td>\n",
       "    </tr>\n",
       "    <tr>\n",
       "      <th>130</th>\n",
       "      <td>8</td>\n",
       "      <td>link building techniques</td>\n",
       "      <td>6949</td>\n",
       "    </tr>\n",
       "    <tr>\n",
       "      <th>129</th>\n",
       "      <td>7</td>\n",
       "      <td>link building techniques</td>\n",
       "      <td>6949</td>\n",
       "    </tr>\n",
       "    <tr>\n",
       "      <th>127</th>\n",
       "      <td>5</td>\n",
       "      <td>link building campaign</td>\n",
       "      <td>6946</td>\n",
       "    </tr>\n",
       "  </tbody>\n",
       "</table>\n",
       "</div>"
      ],
      "text/plain": [
       "    Position                   Keyword url_from\n",
       "                                          count\n",
       "53         1                 backlinko    12620\n",
       "131        8    advanced link building     6950\n",
       "130        8  link building techniques     6949\n",
       "129        7  link building techniques     6949\n",
       "127        5    link building campaign     6946"
      ]
     },
     "execution_count": 26,
     "metadata": {},
     "output_type": "execute_result"
    }
   ],
   "source": [
    "keywords_num_backlinks = unmatch.groupby(['Position', 'Keyword'],\n",
    "                                         as_index=False, sort=False).agg({'url_from': ['count']}).sort_values(by=[('url_from',\n",
    "                                                                                                                  'count')],\n",
    "                                                                                                             ascending=False)\n",
    "keywords_num_backlinks.head()"
   ]
  },
  {
   "cell_type": "code",
   "execution_count": 27,
   "metadata": {
    "collapsed": false,
    "nbpresent": {
     "id": "4ef683ca-5a6a-46db-be98-d947a9503317"
    }
   },
   "outputs": [
    {
     "name": "stdout",
     "output_type": "stream",
     "text": [
      "Total number of keywords in pages in top 10: 1661\n"
     ]
    }
   ],
   "source": [
    "total_keywords = list(keywords.Keyword.drop_duplicates().values)\n",
    "print('Total number of keywords in pages in top 10: {}'.format(len(total_keywords)))"
   ]
  },
  {
   "cell_type": "code",
   "execution_count": 28,
   "metadata": {
    "collapsed": false,
    "nbpresent": {
     "id": "e182f44d-c653-428b-91c9-6c1ca1accc83"
    },
    "scrolled": true
   },
   "outputs": [
    {
     "name": "stdout",
     "output_type": "stream",
     "text": [
      "Number of umatched keywords in anchor texts, surrounding texts and page (top 10) content:\n",
      "144\n"
     ]
    }
   ],
   "source": [
    "unmatched_keywords = list(keywords_num_backlinks['Keyword'].drop_duplicates().values)\n",
    "print('Number of umatched keywords in anchor texts, surrounding texts and page (top 10) content:')\n",
    "print(len(unmatched_keywords))"
   ]
  },
  {
   "cell_type": "code",
   "execution_count": 29,
   "metadata": {
    "collapsed": false,
    "nbpresent": {
     "id": "214d047e-ff7f-4502-8971-c7d7ab055658"
    }
   },
   "outputs": [
    {
     "name": "stdout",
     "output_type": "stream",
     "text": [
      "Here are the list:\n"
     ]
    }
   ],
   "source": [
    "print('Here are the list:')"
   ]
  },
  {
   "cell_type": "code",
   "execution_count": 30,
   "metadata": {
    "collapsed": false,
    "nbpresent": {
     "id": "8bb87e78-97e2-450c-9d16-9e4b80643b55"
    },
    "scrolled": true
   },
   "outputs": [
    {
     "data": {
      "text/plain": [
       "['backlinko',\n",
       " 'advanced link building',\n",
       " 'link building techniques',\n",
       " 'link building campaign',\n",
       " 'link building guide',\n",
       " 'link building technique',\n",
       " 'resource page link building',\n",
       " 'black hat link building',\n",
       " 'building links',\n",
       " 'link building strategies',\n",
       " 'google ranking factor',\n",
       " 'brian dean',\n",
       " '200 factors',\n",
       " 'google ranking factors',\n",
       " 'google ranking',\n",
       " 'google rank',\n",
       " 'ranking youtube videos',\n",
       " 'video keywords',\n",
       " 'first page rankings',\n",
       " 'ranking factors',\n",
       " 'search engine ranking',\n",
       " 'the skyscraper technique',\n",
       " 'youtube seo',\n",
       " 'on-page seo checklist',\n",
       " 'on page',\n",
       " 'backlinko.com',\n",
       " 'seotools',\n",
       " 'high pr backlinks',\n",
       " 'get backlinks',\n",
       " 'on page seo',\n",
       " 'pr backlinks',\n",
       " 'pr backlink',\n",
       " 'skyscraper technique',\n",
       " 'on-page seo',\n",
       " 'free seo tool',\n",
       " 'quickurl',\n",
       " 'free seo',\n",
       " 'best seo tool',\n",
       " 'the best seo tool',\n",
       " 'link building for seo',\n",
       " 'keyword research guide',\n",
       " 'keyword research for seo',\n",
       " 'page seo',\n",
       " 'easy link building',\n",
       " 'how to get backlink',\n",
       " 'resource pages',\n",
       " 'how to get backlinks',\n",
       " 'resource page',\n",
       " 'high pr',\n",
       " 'backlink sources',\n",
       " 'free seo tools',\n",
       " 'best seo tools',\n",
       " 'backlinks',\n",
       " 'seo technique',\n",
       " 'link building',\n",
       " 'link build',\n",
       " 'the bucket brigade',\n",
       " 'seo techniques',\n",
       " 'video rank',\n",
       " 'youtube rankings',\n",
       " 'bucket brigades',\n",
       " 'content upgrade',\n",
       " 'quality links',\n",
       " 'quality link',\n",
       " 'guest blogs',\n",
       " 'guest posts',\n",
       " 'guest blogger',\n",
       " 'moving man method',\n",
       " 'guest blogging opportunities',\n",
       " 'subscriptions driven',\n",
       " 'video rankings',\n",
       " 'seo case study',\n",
       " 'google trust',\n",
       " 'the google keyword planner',\n",
       " 'youtube ranking',\n",
       " 'seo copywriting',\n",
       " 'seo tools',\n",
       " 'powerful seo',\n",
       " 'seo tool',\n",
       " 'guest posting',\n",
       " 'keyword research',\n",
       " 'google hates',\n",
       " 'quality backlink',\n",
       " 'backlink',\n",
       " 'average monthly searches',\n",
       " 'my website traffic',\n",
       " 'generate traffic',\n",
       " 'increase traffic to your website',\n",
       " 'how to get more traffic',\n",
       " 'get more traffic',\n",
       " 'increase traffic',\n",
       " 'traffic to your website',\n",
       " 'seo tip',\n",
       " 'seo tips',\n",
       " 'backlinko blog',\n",
       " 'perrin carrell',\n",
       " 'increase my website traffic',\n",
       " 'how to get more traffic to your website',\n",
       " 'driving traffic to your website',\n",
       " 'driving traffic',\n",
       " 'get more traffic to your website',\n",
       " 'more traffic',\n",
       " 'guestographics',\n",
       " 'white hat seo',\n",
       " 'guestographic',\n",
       " 'increase website traffic',\n",
       " 'guest blogging',\n",
       " 'guest blog',\n",
       " 'ecommerce seo best practice',\n",
       " 'seo for ecommerce',\n",
       " 'ecommerce seo',\n",
       " 'trustrank',\n",
       " 'mike bonadio',\n",
       " 'list building strategies',\n",
       " 'list building',\n",
       " 'find long tail keywords',\n",
       " 'keyword plan',\n",
       " 'google keyword planner',\n",
       " 'google keyword planne',\n",
       " 'google keywor',\n",
       " 'google keyword',\n",
       " 'how to rank',\n",
       " 'high converting squeeze page',\n",
       " 'how to find long tail keywords',\n",
       " 'keyword planner',\n",
       " 'word planner',\n",
       " 'how to create a squeeze page',\n",
       " 'create a squeeze page',\n",
       " 'squeeze pages',\n",
       " 'long tail keywords',\n",
       " 'long tail keyword',\n",
       " 'video seo',\n",
       " 'cpa offer',\n",
       " 'cpa model',\n",
       " 'cpa offers',\n",
       " 'cost per action',\n",
       " 'keyword competition analysis',\n",
       " 'competitive keyword',\n",
       " 'keyword competition',\n",
       " 'keyword first',\n",
       " 'cpa marketing',\n",
       " 'keyword research tools',\n",
       " 'squeeze page',\n",
       " 'seo hacks']"
      ]
     },
     "execution_count": 30,
     "metadata": {},
     "output_type": "execute_result"
    }
   ],
   "source": [
    "unmatched_keywords"
   ]
  },
  {
   "cell_type": "code",
   "execution_count": 31,
   "metadata": {
    "collapsed": false,
    "nbpresent": {
     "id": "9ff06a7e-4ec8-42ba-8046-58b835fb101e"
    }
   },
   "outputs": [
    {
     "name": "stdout",
     "output_type": "stream",
     "text": [
      "8.7% of all the keywords are not in anchor texts, surrounding texts and page content\n"
     ]
    }
   ],
   "source": [
    "print (\"{0:.1f}% of all the keywords are not in anchor texts, surrounding texts and page content\".format(len(unmatched_keywords)/len(total_keywords) * 100))"
   ]
  },
  {
   "cell_type": "markdown",
   "metadata": {
    "nbpresent": {
     "id": "0ee40248-491a-40e9-b574-15cd72e799b4"
    }
   },
   "source": [
    "####  For further research:\n",
    "\n",
    "\n",
    "- scrape the content of the backlinks to those pages\n",
    "\n",
    "\n",
    "- Do document similarity using **tfidf**/ **Latent Semantic Indexing** /\n",
    "    **Latent Dirichlet Allocation**/ **word-to-vec** and etc. <br> then **cosine similarity**/\n",
    "    **affinity propagation** and etc. between page content and backlink url content"
   ]
  },
  {
   "cell_type": "markdown",
   "metadata": {
    "nbpresent": {
     "id": "2dca1db1-46fc-4e23-83bf-bb072caef6de"
    }
   },
   "source": [
    "## Attempt to do Additional stuff:\n",
    "\n",
    "Willing to extend the research to this but scrapping those pages and storing them takes too much time and resource for my personal laptop ^_^"
   ]
  },
  {
   "cell_type": "markdown",
   "metadata": {
    "nbpresent": {
     "id": "2aa962ed-04ef-4ad8-8434-9473e60a38e5"
    }
   },
   "source": [
    "### get contents of backlinks"
   ]
  },
  {
   "cell_type": "code",
   "execution_count": null,
   "metadata": {
    "collapsed": false,
    "nbpresent": {
     "id": "5e15f783-0a10-4426-b524-b809cf3d163d"
    },
    "scrolled": true
   },
   "outputs": [],
   "source": [
    "backlinks_contents, unreachable_urls = extract_page_contents(unmatch.url_from.unique())"
   ]
  },
  {
   "cell_type": "code",
   "execution_count": null,
   "metadata": {
    "collapsed": true,
    "nbpresent": {
     "id": "0cfe096d-d3bf-4554-9a56-617fa5e29ae9"
    }
   },
   "outputs": [],
   "source": [
    "bl_content_df = pd.DataFrame({'link_content': backlinks_contents,\n",
    "                              'url_from': unmatch.url_from.unique()})\n",
    "bl_content_df.head()"
   ]
  },
  {
   "cell_type": "code",
   "execution_count": null,
   "metadata": {
    "collapsed": true,
    "nbpresent": {
     "id": "bf2a551b-1b5a-4e41-a5cd-dd31a9cb4344"
    }
   },
   "outputs": [],
   "source": [
    "jl.dump(bl_content_df, 'data/bl_content_df.jl', compress=1)"
   ]
  }
 ],
 "metadata": {
  "anaconda-cloud": {},
  "kernelspec": {
   "display_name": "Python [default]",
   "language": "python",
   "name": "python3"
  },
  "language_info": {
   "codemirror_mode": {
    "name": "ipython",
    "version": 3
   },
   "file_extension": ".py",
   "mimetype": "text/x-python",
   "name": "python",
   "nbconvert_exporter": "python",
   "pygments_lexer": "ipython3",
   "version": "3.5.2"
  },
  "nbpresent": {
   "slides": {
    "018b78e2-cc03-4790-8d2f-8977cd571d45": {
     "id": "018b78e2-cc03-4790-8d2f-8977cd571d45",
     "prev": "9e5080f8-4104-401f-9a84-a2358395d319",
     "regions": {
      "12a7823b-01d4-4e54-bd03-9710fc43e3b1": {
       "attrs": {
        "height": 0.06023266185957381,
        "width": 0.7480760490808563,
        "x": 0.12005411653160125,
        "y": 0.04186046335695903
       },
       "content": {
        "cell": "4ef683ca-5a6a-46db-be98-d947a9503317",
        "part": "outputs"
       },
       "id": "12a7823b-01d4-4e54-bd03-9710fc43e3b1"
      },
      "4a01a9b7-3177-4151-b443-58076cb32c0d": {
       "attrs": {
        "height": 0.06744194364985205,
        "width": 0.7434883695278512,
        "x": 0.12354651793639229,
        "y": 0.12302325319957609
       },
       "content": {
        "cell": "e182f44d-c653-428b-91c9-6c1ca1accc83",
        "part": "outputs"
       },
       "id": "4a01a9b7-3177-4151-b443-58076cb32c0d"
      },
      "78899982-2e02-4eee-b9da-62645f4aa422": {
       "attrs": {
        "height": 0.056976828559135655,
        "width": 0.26784888865479084,
        "x": 0.37667148919309523,
        "y": 0.2067441739253073
       },
       "content": {
        "cell": "214d047e-ff7f-4502-8971-c7d7ab055658",
        "part": "outputs"
       },
       "id": "78899982-2e02-4eee-b9da-62645f4aa422"
      },
      "bf4cb894-726f-4551-a793-e869d8ed33ff": {
       "attrs": {
        "height": 0.6806976879658331,
        "width": 0.4244331821819153,
        "x": 0.3119185805870071,
        "y": 0.27999997956032213
       },
       "content": {
        "cell": "8bb87e78-97e2-450c-9d16-9e4b80643b55",
        "part": "outputs"
       },
       "id": "bf4cb894-726f-4551-a793-e869d8ed33ff"
      }
     }
    },
    "28d34811-c72b-4086-a2ec-c25e29a4a288": {
     "id": "28d34811-c72b-4086-a2ec-c25e29a4a288",
     "prev": "a83fdfd5-38b8-40a4-a606-d159d86a9b01",
     "regions": {
      "0fb50031-b479-4173-9717-07350bbbaf7e": {
       "attrs": {
        "height": 0.5906976981856721,
        "width": 0.7988226745522944,
        "x": 0.1011773254477056,
        "y": 0.30930230181432805
       },
       "content": {
        "cell": "076db23a-e0a8-447a-81b6-570531fdc5a3",
        "part": "outputs"
       },
       "id": "0fb50031-b479-4173-9717-07350bbbaf7e"
      },
      "b0545b80-6e35-433c-9046-715b120742e7": {
       "attrs": {
        "height": 0.19093030172030556,
        "width": 0.8,
        "x": 0.1,
        "y": 0.1
       },
       "content": {
        "cell": "cdac8f98-adb1-416e-a8fd-723a09688733",
        "part": "source"
       },
       "id": "b0545b80-6e35-433c-9046-715b120742e7"
      }
     }
    },
    "3f6c7814-5509-4881-85a4-a602eba7a2e4": {
     "id": "3f6c7814-5509-4881-85a4-a602eba7a2e4",
     "prev": "018b78e2-cc03-4790-8d2f-8977cd571d45",
     "regions": {
      "7bdb812b-e090-4120-904e-74d61370edff": {
       "attrs": {
        "height": 0.4788372654882298,
        "width": 0.5479070218355597,
        "x": 0.2119185868324989,
        "y": 0.20093021273584832
       },
       "content": {
        "cell": "0ee40248-491a-40e9-b574-15cd72e799b4",
        "part": "source"
       },
       "id": "7bdb812b-e090-4120-904e-74d61370edff"
      }
     }
    },
    "9e5080f8-4104-401f-9a84-a2358395d319": {
     "id": "9e5080f8-4104-401f-9a84-a2358395d319",
     "prev": "a6ced5e6-b4ac-4eb7-b9f7-59c1d04a5a30",
     "regions": {
      "6925e173-3604-4592-af92-dd698e3a0633": {
       "attrs": {
        "height": 0.3120547708640166,
        "width": 0.794113372761472,
        "x": 0.1035319763431167,
        "y": 0.17953487468944468
       },
       "content": {
        "cell": "9a534804-2ed9-401a-b743-d2ac3e6341f9",
        "part": "source"
       },
       "id": "6925e173-3604-4592-af92-dd698e3a0633"
      },
      "6aa5a7b0-6487-4cf6-a5de-6bcd40ee5301": {
       "attrs": {
        "height": 0.0948402948402949,
        "width": 0.8,
        "x": 0.10552825552825561,
        "y": 0.552088452088452
       },
       "content": {
        "cell": "9ff06a7e-4ec8-42ba-8046-58b835fb101e",
        "part": "outputs"
       },
       "id": "6aa5a7b0-6487-4cf6-a5de-6bcd40ee5301"
      }
     }
    },
    "a47cc37f-59b4-4f7a-ac50-e1fb77e2edbc": {
     "id": "a47cc37f-59b4-4f7a-ac50-e1fb77e2edbc",
     "prev": "b9ce43c3-837d-493a-96cf-fd758a78cb7c",
     "regions": {
      "174581d2-a3f0-4ddd-b6cd-f14e015cacec": {
       "attrs": {
        "height": 0.6702325728751167,
        "width": 0.45000000000000007,
        "x": 0.05,
        "y": 0.2590697493788893
       },
       "content": {
        "cell": "f18620c7-e94d-424a-ac63-4fa89b28a87f",
        "part": "outputs"
       },
       "id": "174581d2-a3f0-4ddd-b6cd-f14e015cacec"
      },
      "97f42792-8763-419e-9d47-827d92679c52": {
       "attrs": {
        "height": 0.6681395498569734,
        "width": 0.45000000000000007,
        "x": 0.5,
        "y": 0.2611627723970326
       },
       "content": {
        "cell": "1c2b49c0-be3f-4550-bbdc-0edde8db63e0",
        "part": "outputs"
       },
       "id": "97f42792-8763-419e-9d47-827d92679c52"
      },
      "993732b5-f5db-4b5a-9659-b45045910770": {
       "attrs": {
        "height": 0.17849351673791433,
        "width": 0.4034956174376388,
        "x": 0.409786244502557,
        "y": 0.09738536016130485
       },
       "content": {
        "cell": "c975d77b-27f8-4064-8f7c-7fe48ffcb660",
        "part": "outputs"
       },
       "id": "993732b5-f5db-4b5a-9659-b45045910770"
      }
     }
    },
    "a6ced5e6-b4ac-4eb7-b9f7-59c1d04a5a30": {
     "id": "a6ced5e6-b4ac-4eb7-b9f7-59c1d04a5a30",
     "prev": "a47cc37f-59b4-4f7a-ac50-e1fb77e2edbc",
     "regions": {
      "72ecc561-ad64-4c95-83d3-f8164e463349": {
       "attrs": {
        "height": 0.24534890019203084,
        "width": 0.7941133727614721,
        "x": 0.10588662723852797,
        "y": 0.04767442454641801
       },
       "content": {
        "cell": "1c41a50c-02f8-4b1b-99ab-e9e91009109c",
        "part": "source"
       },
       "id": "72ecc561-ad64-4c95-83d3-f8164e463349"
      },
      "96b5bc15-8e27-4014-924c-33672da1bfbc": {
       "attrs": {
        "height": 0.6262790894941078,
        "width": 0.40324132412321456,
        "x": 0.11530523082017272,
        "y": 0.323953462941331
       },
       "content": {
        "cell": "ba0d3021-b794-4ccc-a0ed-ca1be32d4d11",
        "part": "outputs"
       },
       "id": "96b5bc15-8e27-4014-924c-33672da1bfbc"
      },
      "9a2bc5fe-c3a1-45c8-b5ee-e9d0e832245b": {
       "attrs": {
        "height": 0.620000020439678,
        "width": 0.3738081789482945,
        "x": 0.5261918210517057,
        "y": 0.3260464859594743
       },
       "content": {
        "cell": "00bab962-2be6-48e7-840c-e7f30bf713bd",
        "part": "outputs"
       },
       "id": "9a2bc5fe-c3a1-45c8-b5ee-e9d0e832245b"
      }
     }
    },
    "a83fdfd5-38b8-40a4-a606-d159d86a9b01": {
     "id": "a83fdfd5-38b8-40a4-a606-d159d86a9b01",
     "prev": null,
     "regions": {
      "c305b754-eb6c-4979-8d6c-d5e84291f3d6": {
       "attrs": {
        "height": 0.18255820964773245,
        "width": 0.8,
        "x": 0.1,
        "y": 0.1
       },
       "content": {
        "cell": "46919f33-2ae3-4783-85ae-19721d5ffeac",
        "part": "source"
       },
       "id": "c305b754-eb6c-4979-8d6c-d5e84291f3d6"
      },
      "e9b90df5-789f-4adc-a352-d6ea8639d06a": {
       "attrs": {
        "height": 0.5739535140405259,
        "width": 0.7964680236568833,
        "x": 0.10353197634311678,
        "y": 0.3260464859594743
       },
       "content": {
        "cell": "524e8d5a-d917-4165-b7e0-0cf74a109d4f",
        "part": "source"
       },
       "id": "e9b90df5-789f-4adc-a352-d6ea8639d06a"
      }
     }
    },
    "b9ce43c3-837d-493a-96cf-fd758a78cb7c": {
     "id": "b9ce43c3-837d-493a-96cf-fd758a78cb7c",
     "prev": "28d34811-c72b-4086-a2ec-c25e29a4a288",
     "regions": {
      "3b1b6279-2574-4cf0-b747-68bc3d6d9271": {
       "attrs": {
        "height": 0.24534890019203084,
        "width": 0.7988226745522944,
        "x": 0.1011773254477056,
        "y": 0.1
       },
       "content": {
        "cell": "4cd62e77-5ebe-4901-8218-28d6aeed38cb",
        "part": "source"
       },
       "id": "3b1b6279-2574-4cf0-b747-68bc3d6d9271"
      },
      "db66b51e-ae76-404a-80ff-98673201a52e": {
       "attrs": {
        "height": 0.5320930536776602,
        "width": 0.7976453491045888,
        "x": 0.1023546508954112,
        "y": 0.3679069463223399
       },
       "content": {
        "cell": "b94b5e6b-db73-4094-95c7-545e1362bfac",
        "part": "source"
       },
       "id": "db66b51e-ae76-404a-80ff-98673201a52e"
      }
     }
    }
   },
   "themes": {}
  }
 },
 "nbformat": 4,
 "nbformat_minor": 1
}
