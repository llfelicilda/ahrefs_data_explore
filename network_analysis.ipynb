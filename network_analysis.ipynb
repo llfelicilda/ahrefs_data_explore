{
 "cells": [
  {
   "cell_type": "code",
   "execution_count": 1,
   "metadata": {
    "collapsed": false
   },
   "outputs": [
    {
     "data": {
      "text/html": [
       "<script>requirejs.config({paths: { 'plotly': ['https://cdn.plot.ly/plotly-latest.min']},});if(!window.Plotly) {{require(['plotly'],function(plotly) {window.Plotly=plotly;});}}</script>"
      ],
      "text/vnd.plotly.v1+html": [
       "<script>requirejs.config({paths: { 'plotly': ['https://cdn.plot.ly/plotly-latest.min']},});if(!window.Plotly) {{require(['plotly'],function(plotly) {window.Plotly=plotly;});}}</script>"
      ]
     },
     "metadata": {},
     "output_type": "display_data"
    }
   ],
   "source": [
    "import pandas as pd\n",
    "from sklearn.externals import joblib as jl\n",
    "import numpy as np\n",
    "import matplotlib.pyplot as plt\n",
    "import requests\n",
    "import json\n",
    "import tldextract\n",
    "\n",
    "from plotly.offline import download_plotlyjs, init_notebook_mode, plot, iplot\n",
    "\n",
    "init_notebook_mode(connected=True)\n",
    "\n",
    "import igraph as ig\n",
    "\n",
    "pd.set_option('display.max_columns', 50)\n",
    "%matplotlib inline"
   ]
  },
  {
   "cell_type": "code",
   "execution_count": 2,
   "metadata": {
    "collapsed": false,
    "scrolled": true
   },
   "outputs": [],
   "source": [
    "# data = pd.read_csv('data/seo-search-engine-optimization-ke-metrics-serps-extended-12-Dec-9cd971c1cb802b0083b1c01ccb86b37a.csv')\n",
    "# data = data[(data['Keyword'] == data['Top Keyword'])]\n",
    "# # data['URL'] = data.URL.apply(lambda x: x.rstrip('/'))\n",
    "# data.head()"
   ]
  },
  {
   "cell_type": "code",
   "execution_count": 3,
   "metadata": {
    "collapsed": false
   },
   "outputs": [],
   "source": [
    "# def get_backlinks (url_list, backlink_list):\n",
    "#     token = 'bd784d863a1d6a7a6d377d7482cec31f60eed50b'\n",
    "#     backlinks_list = []\n",
    "#     for url, lim in zip(url_list, backlink_list):\n",
    "#         url = url.replace(':','%3A').replace('/', '%2F')\n",
    "#         r = requests.get(\"\"\"http://apiv2.ahrefs.com?token={}&target={}&output=json&from=backlinks&mode=exact&limit={}\"\"\".format(token, url, lim) )\n",
    "#         try:\n",
    "#             backlinks = pd.DataFrame(r.json()['refpages'])\n",
    "#             backlinks_list.append(backlinks)\n",
    "#         except ValueError:  # includes simplejson.decoder.JSONDecodeError\n",
    "#             print ('Decoding JSON has failed for {}'.format(url))\n",
    "\n",
    "#     return pd.concat(backlinks_list)"
   ]
  },
  {
   "cell_type": "code",
   "execution_count": 4,
   "metadata": {
    "collapsed": false
   },
   "outputs": [],
   "source": [
    "# %%time\n",
    "# backlinks = get_backlinks(data['URL'].tolist(), data['Backlinks'].tolist())"
   ]
  },
  {
   "cell_type": "code",
   "execution_count": 5,
   "metadata": {
    "collapsed": false
   },
   "outputs": [],
   "source": [
    "# jl.dump(backlinks, 'data/seo_backlinks.jl')"
   ]
  },
  {
   "cell_type": "code",
   "execution_count": 6,
   "metadata": {
    "collapsed": true
   },
   "outputs": [],
   "source": [
    "backlinks = jl.load('data/seo_backlinks.jl')"
   ]
  },
  {
   "cell_type": "code",
   "execution_count": 7,
   "metadata": {
    "collapsed": false
   },
   "outputs": [
    {
     "data": {
      "text/html": [
       "<div>\n",
       "<style scoped>\n",
       "    .dataframe tbody tr th:only-of-type {\n",
       "        vertical-align: middle;\n",
       "    }\n",
       "\n",
       "    .dataframe tbody tr th {\n",
       "        vertical-align: top;\n",
       "    }\n",
       "\n",
       "    .dataframe thead th {\n",
       "        text-align: right;\n",
       "    }\n",
       "</style>\n",
       "<table border=\"1\" class=\"dataframe\">\n",
       "  <thead>\n",
       "    <tr style=\"text-align: right;\">\n",
       "      <th></th>\n",
       "      <th>ahrefs_rank</th>\n",
       "      <th>ahrefs_top</th>\n",
       "      <th>alt</th>\n",
       "      <th>anchor</th>\n",
       "      <th>domain_rating</th>\n",
       "      <th>encoding</th>\n",
       "      <th>first_origin</th>\n",
       "      <th>first_seen</th>\n",
       "      <th>http_code</th>\n",
       "      <th>ip_from</th>\n",
       "      <th>language</th>\n",
       "      <th>last_origin</th>\n",
       "      <th>last_visited</th>\n",
       "      <th>link_type</th>\n",
       "      <th>links_external</th>\n",
       "      <th>links_internal</th>\n",
       "      <th>nofollow</th>\n",
       "      <th>original</th>\n",
       "      <th>page_size</th>\n",
       "      <th>prev_visited</th>\n",
       "      <th>redirect</th>\n",
       "      <th>sitewide</th>\n",
       "      <th>text_post</th>\n",
       "      <th>text_pre</th>\n",
       "      <th>title</th>\n",
       "      <th>url_from</th>\n",
       "      <th>url_from_first_seen</th>\n",
       "      <th>url_to</th>\n",
       "    </tr>\n",
       "  </thead>\n",
       "  <tbody>\n",
       "    <tr>\n",
       "      <th>0</th>\n",
       "      <td>6</td>\n",
       "      <td>0</td>\n",
       "      <td></td>\n",
       "      <td>What Is SEO / Search Engine Optimization?</td>\n",
       "      <td>36</td>\n",
       "      <td>utf8</td>\n",
       "      <td>recrawl</td>\n",
       "      <td>2017-10-31T00:15:34Z</td>\n",
       "      <td>200</td>\n",
       "      <td>81.223.238.246</td>\n",
       "      <td>en</td>\n",
       "      <td>recrawl</td>\n",
       "      <td>2017-10-31T00:15:34Z</td>\n",
       "      <td>href</td>\n",
       "      <td>50</td>\n",
       "      <td>11</td>\n",
       "      <td>False</td>\n",
       "      <td>False</td>\n",
       "      <td>5982</td>\n",
       "      <td>2017-08-14T23:42:54Z</td>\n",
       "      <td>0</td>\n",
       "      <td>False</td>\n",
       "      <td></td>\n",
       "      <td></td>\n",
       "      <td>Austrobot Österreich Suchmaschine</td>\n",
       "      <td>http://austrobot.at/Videos/search-engine-adver...</td>\n",
       "      <td>2017-01-24T07:09:07Z</td>\n",
       "      <td>https://searchengineland.com/guide/what-is-seo</td>\n",
       "    </tr>\n",
       "    <tr>\n",
       "      <th>1</th>\n",
       "      <td>6</td>\n",
       "      <td>0</td>\n",
       "      <td></td>\n",
       "      <td>What Is SEO / Search Engine Optimization?</td>\n",
       "      <td>36</td>\n",
       "      <td>utf8</td>\n",
       "      <td>recrawl</td>\n",
       "      <td>2017-11-08T02:05:05Z</td>\n",
       "      <td>200</td>\n",
       "      <td>81.223.238.246</td>\n",
       "      <td>en</td>\n",
       "      <td>recrawl</td>\n",
       "      <td>2017-11-08T02:05:05Z</td>\n",
       "      <td>href</td>\n",
       "      <td>50</td>\n",
       "      <td>11</td>\n",
       "      <td>False</td>\n",
       "      <td>False</td>\n",
       "      <td>6005</td>\n",
       "      <td>2017-09-30T15:00:26Z</td>\n",
       "      <td>0</td>\n",
       "      <td>False</td>\n",
       "      <td></td>\n",
       "      <td></td>\n",
       "      <td>Austrobot Österreich Suchmaschine</td>\n",
       "      <td>http://austrobot.at/Videos/seo-definition</td>\n",
       "      <td>2017-01-18T02:11:22Z</td>\n",
       "      <td>https://searchengineland.com/guide/what-is-seo</td>\n",
       "    </tr>\n",
       "    <tr>\n",
       "      <th>2</th>\n",
       "      <td>6</td>\n",
       "      <td>0</td>\n",
       "      <td></td>\n",
       "      <td>What Is SEO / Search Engine Optimization?</td>\n",
       "      <td>36</td>\n",
       "      <td>utf8</td>\n",
       "      <td>recrawl</td>\n",
       "      <td>2017-11-19T03:33:41Z</td>\n",
       "      <td>200</td>\n",
       "      <td>81.223.238.246</td>\n",
       "      <td>de</td>\n",
       "      <td>recrawl</td>\n",
       "      <td>2017-11-19T03:33:41Z</td>\n",
       "      <td>href</td>\n",
       "      <td>50</td>\n",
       "      <td>11</td>\n",
       "      <td>False</td>\n",
       "      <td>False</td>\n",
       "      <td>6074</td>\n",
       "      <td>2017-10-07T00:07:18Z</td>\n",
       "      <td>0</td>\n",
       "      <td>False</td>\n",
       "      <td></td>\n",
       "      <td></td>\n",
       "      <td>Austrobot Österreich Suchmaschine</td>\n",
       "      <td>http://austrobot.at/ar/Videos/seo-definition</td>\n",
       "      <td>2017-01-15T03:16:40Z</td>\n",
       "      <td>https://searchengineland.com/guide/what-is-seo</td>\n",
       "    </tr>\n",
       "    <tr>\n",
       "      <th>3</th>\n",
       "      <td>6</td>\n",
       "      <td>0</td>\n",
       "      <td></td>\n",
       "      <td>What Is SEO / Search Engine Optimization?</td>\n",
       "      <td>36</td>\n",
       "      <td>utf8</td>\n",
       "      <td>recrawl</td>\n",
       "      <td>2017-11-17T16:30:46Z</td>\n",
       "      <td>200</td>\n",
       "      <td>81.223.238.246</td>\n",
       "      <td>fr</td>\n",
       "      <td>recrawl</td>\n",
       "      <td>2017-11-17T16:30:46Z</td>\n",
       "      <td>href</td>\n",
       "      <td>44</td>\n",
       "      <td>10</td>\n",
       "      <td>False</td>\n",
       "      <td>False</td>\n",
       "      <td>5826</td>\n",
       "      <td>2017-10-03T13:31:47Z</td>\n",
       "      <td>0</td>\n",
       "      <td>False</td>\n",
       "      <td></td>\n",
       "      <td></td>\n",
       "      <td>Austrobot Österreich Suchmaschine</td>\n",
       "      <td>http://austrobot.at/ar/Videos/seo-sea-definition</td>\n",
       "      <td>2017-02-16T03:13:03Z</td>\n",
       "      <td>https://searchengineland.com/guide/what-is-seo</td>\n",
       "    </tr>\n",
       "    <tr>\n",
       "      <th>4</th>\n",
       "      <td>6</td>\n",
       "      <td>0</td>\n",
       "      <td></td>\n",
       "      <td>What Is SEO / Search Engine Optimization?</td>\n",
       "      <td>36</td>\n",
       "      <td>utf8</td>\n",
       "      <td>recrawl</td>\n",
       "      <td>2017-10-23T07:19:42Z</td>\n",
       "      <td>200</td>\n",
       "      <td>81.223.238.246</td>\n",
       "      <td>de</td>\n",
       "      <td>recrawl</td>\n",
       "      <td>2017-11-28T11:40:22Z</td>\n",
       "      <td>href</td>\n",
       "      <td>50</td>\n",
       "      <td>11</td>\n",
       "      <td>False</td>\n",
       "      <td>False</td>\n",
       "      <td>5983</td>\n",
       "      <td>2017-10-23T07:19:43Z</td>\n",
       "      <td>0</td>\n",
       "      <td>False</td>\n",
       "      <td></td>\n",
       "      <td></td>\n",
       "      <td>Austrobot Österreich Suchmaschine</td>\n",
       "      <td>http://austrobot.at/de/Videos/seo-definition</td>\n",
       "      <td>2017-01-18T08:57:57Z</td>\n",
       "      <td>https://searchengineland.com/guide/what-is-seo</td>\n",
       "    </tr>\n",
       "  </tbody>\n",
       "</table>\n",
       "</div>"
      ],
      "text/plain": [
       "   ahrefs_rank  ahrefs_top alt                                     anchor  \\\n",
       "0            6           0      What Is SEO / Search Engine Optimization?   \n",
       "1            6           0      What Is SEO / Search Engine Optimization?   \n",
       "2            6           0      What Is SEO / Search Engine Optimization?   \n",
       "3            6           0      What Is SEO / Search Engine Optimization?   \n",
       "4            6           0      What Is SEO / Search Engine Optimization?   \n",
       "\n",
       "   domain_rating encoding first_origin            first_seen  http_code  \\\n",
       "0             36     utf8      recrawl  2017-10-31T00:15:34Z        200   \n",
       "1             36     utf8      recrawl  2017-11-08T02:05:05Z        200   \n",
       "2             36     utf8      recrawl  2017-11-19T03:33:41Z        200   \n",
       "3             36     utf8      recrawl  2017-11-17T16:30:46Z        200   \n",
       "4             36     utf8      recrawl  2017-10-23T07:19:42Z        200   \n",
       "\n",
       "          ip_from language last_origin          last_visited link_type  \\\n",
       "0  81.223.238.246       en     recrawl  2017-10-31T00:15:34Z      href   \n",
       "1  81.223.238.246       en     recrawl  2017-11-08T02:05:05Z      href   \n",
       "2  81.223.238.246       de     recrawl  2017-11-19T03:33:41Z      href   \n",
       "3  81.223.238.246       fr     recrawl  2017-11-17T16:30:46Z      href   \n",
       "4  81.223.238.246       de     recrawl  2017-11-28T11:40:22Z      href   \n",
       "\n",
       "   links_external  links_internal  nofollow  original  page_size  \\\n",
       "0              50              11     False     False       5982   \n",
       "1              50              11     False     False       6005   \n",
       "2              50              11     False     False       6074   \n",
       "3              44              10     False     False       5826   \n",
       "4              50              11     False     False       5983   \n",
       "\n",
       "           prev_visited  redirect  sitewide text_post text_pre  \\\n",
       "0  2017-08-14T23:42:54Z         0     False                      \n",
       "1  2017-09-30T15:00:26Z         0     False                      \n",
       "2  2017-10-07T00:07:18Z         0     False                      \n",
       "3  2017-10-03T13:31:47Z         0     False                      \n",
       "4  2017-10-23T07:19:43Z         0     False                      \n",
       "\n",
       "                               title  \\\n",
       "0  Austrobot Österreich Suchmaschine   \n",
       "1  Austrobot Österreich Suchmaschine   \n",
       "2  Austrobot Österreich Suchmaschine   \n",
       "3  Austrobot Österreich Suchmaschine   \n",
       "4  Austrobot Österreich Suchmaschine   \n",
       "\n",
       "                                            url_from   url_from_first_seen  \\\n",
       "0  http://austrobot.at/Videos/search-engine-adver...  2017-01-24T07:09:07Z   \n",
       "1          http://austrobot.at/Videos/seo-definition  2017-01-18T02:11:22Z   \n",
       "2       http://austrobot.at/ar/Videos/seo-definition  2017-01-15T03:16:40Z   \n",
       "3   http://austrobot.at/ar/Videos/seo-sea-definition  2017-02-16T03:13:03Z   \n",
       "4       http://austrobot.at/de/Videos/seo-definition  2017-01-18T08:57:57Z   \n",
       "\n",
       "                                           url_to  \n",
       "0  https://searchengineland.com/guide/what-is-seo  \n",
       "1  https://searchengineland.com/guide/what-is-seo  \n",
       "2  https://searchengineland.com/guide/what-is-seo  \n",
       "3  https://searchengineland.com/guide/what-is-seo  \n",
       "4  https://searchengineland.com/guide/what-is-seo  "
      ]
     },
     "execution_count": 7,
     "metadata": {},
     "output_type": "execute_result"
    }
   ],
   "source": [
    "backlinks.head()"
   ]
  },
  {
   "cell_type": "code",
   "execution_count": 8,
   "metadata": {
    "collapsed": false
   },
   "outputs": [
    {
     "data": {
      "text/html": [
       "<div>\n",
       "<style scoped>\n",
       "    .dataframe tbody tr th:only-of-type {\n",
       "        vertical-align: middle;\n",
       "    }\n",
       "\n",
       "    .dataframe tbody tr th {\n",
       "        vertical-align: top;\n",
       "    }\n",
       "\n",
       "    .dataframe thead th {\n",
       "        text-align: right;\n",
       "    }\n",
       "</style>\n",
       "<table border=\"1\" class=\"dataframe\">\n",
       "  <thead>\n",
       "    <tr style=\"text-align: right;\">\n",
       "      <th></th>\n",
       "      <th>url_from</th>\n",
       "      <th>url_to</th>\n",
       "    </tr>\n",
       "  </thead>\n",
       "  <tbody>\n",
       "    <tr>\n",
       "      <th>0</th>\n",
       "      <td>http://austrobot.at/Videos/search-engine-adver...</td>\n",
       "      <td>https://searchengineland.com/guide/what-is-seo</td>\n",
       "    </tr>\n",
       "    <tr>\n",
       "      <th>1</th>\n",
       "      <td>http://austrobot.at/Videos/seo-definition</td>\n",
       "      <td>https://searchengineland.com/guide/what-is-seo</td>\n",
       "    </tr>\n",
       "    <tr>\n",
       "      <th>2</th>\n",
       "      <td>http://austrobot.at/ar/Videos/seo-definition</td>\n",
       "      <td>https://searchengineland.com/guide/what-is-seo</td>\n",
       "    </tr>\n",
       "    <tr>\n",
       "      <th>3</th>\n",
       "      <td>http://austrobot.at/ar/Videos/seo-sea-definition</td>\n",
       "      <td>https://searchengineland.com/guide/what-is-seo</td>\n",
       "    </tr>\n",
       "    <tr>\n",
       "      <th>4</th>\n",
       "      <td>http://austrobot.at/de/Videos/seo-definition</td>\n",
       "      <td>https://searchengineland.com/guide/what-is-seo</td>\n",
       "    </tr>\n",
       "  </tbody>\n",
       "</table>\n",
       "</div>"
      ],
      "text/plain": [
       "                                            url_from  \\\n",
       "0  http://austrobot.at/Videos/search-engine-adver...   \n",
       "1          http://austrobot.at/Videos/seo-definition   \n",
       "2       http://austrobot.at/ar/Videos/seo-definition   \n",
       "3   http://austrobot.at/ar/Videos/seo-sea-definition   \n",
       "4       http://austrobot.at/de/Videos/seo-definition   \n",
       "\n",
       "                                           url_to  \n",
       "0  https://searchengineland.com/guide/what-is-seo  \n",
       "1  https://searchengineland.com/guide/what-is-seo  \n",
       "2  https://searchengineland.com/guide/what-is-seo  \n",
       "3  https://searchengineland.com/guide/what-is-seo  \n",
       "4  https://searchengineland.com/guide/what-is-seo  "
      ]
     },
     "execution_count": 8,
     "metadata": {},
     "output_type": "execute_result"
    }
   ],
   "source": [
    "links = backlinks[backlinks.nofollow == False][['url_from', 'url_to']].reset_index(drop=True)\n",
    "links.head()"
   ]
  },
  {
   "cell_type": "code",
   "execution_count": 9,
   "metadata": {
    "collapsed": false
   },
   "outputs": [
    {
     "data": {
      "text/html": [
       "<div>\n",
       "<style scoped>\n",
       "    .dataframe tbody tr th:only-of-type {\n",
       "        vertical-align: middle;\n",
       "    }\n",
       "\n",
       "    .dataframe tbody tr th {\n",
       "        vertical-align: top;\n",
       "    }\n",
       "\n",
       "    .dataframe thead th {\n",
       "        text-align: right;\n",
       "    }\n",
       "</style>\n",
       "<table border=\"1\" class=\"dataframe\">\n",
       "  <thead>\n",
       "    <tr style=\"text-align: right;\">\n",
       "      <th></th>\n",
       "      <th>url_from</th>\n",
       "      <th>url_to</th>\n",
       "    </tr>\n",
       "  </thead>\n",
       "  <tbody>\n",
       "    <tr>\n",
       "      <th>0</th>\n",
       "      <td>austrobot.at</td>\n",
       "      <td>searchengineland.com</td>\n",
       "    </tr>\n",
       "    <tr>\n",
       "      <th>1</th>\n",
       "      <td>advis.com.au</td>\n",
       "      <td>searchengineland.com</td>\n",
       "    </tr>\n",
       "    <tr>\n",
       "      <th>2</th>\n",
       "      <td>duxdigital.com.au</td>\n",
       "      <td>searchengineland.com</td>\n",
       "    </tr>\n",
       "    <tr>\n",
       "      <th>3</th>\n",
       "      <td>getwiththebrand.com.au</td>\n",
       "      <td>searchengineland.com</td>\n",
       "    </tr>\n",
       "    <tr>\n",
       "      <th>4</th>\n",
       "      <td>webjex.com.au</td>\n",
       "      <td>searchengineland.com</td>\n",
       "    </tr>\n",
       "  </tbody>\n",
       "</table>\n",
       "</div>"
      ],
      "text/plain": [
       "                 url_from                url_to\n",
       "0            austrobot.at  searchengineland.com\n",
       "1            advis.com.au  searchengineland.com\n",
       "2       duxdigital.com.au  searchengineland.com\n",
       "3  getwiththebrand.com.au  searchengineland.com\n",
       "4           webjex.com.au  searchengineland.com"
      ]
     },
     "execution_count": 9,
     "metadata": {},
     "output_type": "execute_result"
    }
   ],
   "source": [
    "links['url_from'] = links.url_from.apply(lambda x: tldextract.extract(x).registered_domain)\n",
    "links['url_to'] = links.url_to.apply(lambda x: tldextract.extract(x).registered_domain)\n",
    "links = links[(links.url_from != '') & (links.url_to != '')]\n",
    "links = links.drop_duplicates().reset_index(drop=True)\n",
    "\n",
    "links.head()"
   ]
  },
  {
   "cell_type": "code",
   "execution_count": 10,
   "metadata": {
    "collapsed": false
   },
   "outputs": [
    {
     "name": "stdout",
     "output_type": "stream",
     "text": [
      "<class 'pandas.core.frame.DataFrame'>\n",
      "RangeIndex: 21156 entries, 0 to 21155\n",
      "Data columns (total 2 columns):\n",
      "url_from    21156 non-null object\n",
      "url_to      21156 non-null object\n",
      "dtypes: object(2)\n",
      "memory usage: 330.6+ KB\n"
     ]
    }
   ],
   "source": [
    "links.info()"
   ]
  },
  {
   "cell_type": "code",
   "execution_count": 11,
   "metadata": {
    "collapsed": false
   },
   "outputs": [],
   "source": [
    "grouped_src_dst = links.groupby([\"url_from\",\"url_to\"]).size().reset_index()"
   ]
  },
  {
   "cell_type": "code",
   "execution_count": 12,
   "metadata": {
    "collapsed": true
   },
   "outputs": [],
   "source": [
    "unique_links = pd.Index(grouped_src_dst['url_from']\n",
    "                      .append(grouped_src_dst['url_to'])\n",
    "                      .reset_index(drop=True).unique())"
   ]
  },
  {
   "cell_type": "code",
   "execution_count": 13,
   "metadata": {
    "collapsed": false
   },
   "outputs": [],
   "source": [
    "group_dict = {}\n",
    "counter = 0\n",
    "for lk in unique_links:\n",
    "    if lk not in group_dict:\n",
    "        counter += 1\n",
    "        group_dict[lk] = counter\n",
    "    else:\n",
    "        pass"
   ]
  },
  {
   "cell_type": "code",
   "execution_count": 14,
   "metadata": {
    "collapsed": true
   },
   "outputs": [],
   "source": [
    "grouped_src_dst.rename(columns={0:'count'}, inplace=True)\n",
    "temp_links_list = list(grouped_src_dst.apply(lambda row: {\"source\": row['url_from'],\n",
    "                                                          \"target\": row['url_to'],\n",
    "                                                          \"value\": row['count']}, axis=1))"
   ]
  },
  {
   "cell_type": "code",
   "execution_count": 15,
   "metadata": {
    "collapsed": false
   },
   "outputs": [
    {
     "data": {
      "text/plain": [
       "[{'source': '000.nl', 'target': 'moz.com', 'value': 1},\n",
       " {'source': '01webdirectory.com', 'target': 'google.com', 'value': 1},\n",
       " {'source': '024a.com.cn', 'target': 'moz.com', 'value': 1},\n",
       " {'source': '027safe.com', 'target': 'google.com', 'value': 1},\n",
       " {'source': '0531w.com', 'target': 'searchenginewatch.com', 'value': 1}]"
      ]
     },
     "execution_count": 15,
     "metadata": {},
     "output_type": "execute_result"
    }
   ],
   "source": [
    "temp_links_list[:5]"
   ]
  },
  {
   "cell_type": "code",
   "execution_count": 16,
   "metadata": {
    "collapsed": false
   },
   "outputs": [
    {
     "data": {
      "text/plain": [
       "18436"
      ]
     },
     "execution_count": 16,
     "metadata": {},
     "output_type": "execute_result"
    }
   ],
   "source": [
    "len(unique_links)"
   ]
  },
  {
   "cell_type": "code",
   "execution_count": 17,
   "metadata": {
    "collapsed": true
   },
   "outputs": [],
   "source": [
    "links_list = []\n",
    "for link in temp_links_list:\n",
    "    record = {\"value\":link['value'], \"source\":unique_links.get_loc(link['source']),\n",
    "     \"target\": unique_links.get_loc(link['target'])}\n",
    "    links_list.append(record)"
   ]
  },
  {
   "cell_type": "code",
   "execution_count": 18,
   "metadata": {
    "collapsed": true
   },
   "outputs": [],
   "source": [
    "nodes_list = []\n",
    "\n",
    "for lk in unique_links:\n",
    "    nodes_list.append({\"name\":lk, \"group\": group_dict.get(lk)})"
   ]
  },
  {
   "cell_type": "code",
   "execution_count": 19,
   "metadata": {
    "collapsed": false
   },
   "outputs": [
    {
     "data": {
      "text/plain": [
       "[{'source': 0, 'target': 10470, 'value': 1},\n",
       " {'source': 1, 'target': 6456, 'value': 1},\n",
       " {'source': 2, 'target': 10470, 'value': 1},\n",
       " {'source': 3, 'target': 6456, 'value': 1},\n",
       " {'source': 4, 'target': 13593, 'value': 1}]"
      ]
     },
     "execution_count": 19,
     "metadata": {},
     "output_type": "execute_result"
    }
   ],
   "source": [
    "links_list[:5]"
   ]
  },
  {
   "cell_type": "code",
   "execution_count": 20,
   "metadata": {
    "collapsed": false
   },
   "outputs": [
    {
     "data": {
      "text/plain": [
       "[{'group': 1, 'name': '000.nl'},\n",
       " {'group': 2, 'name': '01webdirectory.com'},\n",
       " {'group': 3, 'name': '024a.com.cn'},\n",
       " {'group': 4, 'name': '027safe.com'},\n",
       " {'group': 5, 'name': '0531w.com'}]"
      ]
     },
     "execution_count": 20,
     "metadata": {},
     "output_type": "execute_result"
    }
   ],
   "source": [
    "nodes_list[:5]"
   ]
  },
  {
   "cell_type": "code",
   "execution_count": 21,
   "metadata": {
    "collapsed": false
   },
   "outputs": [
    {
     "data": {
      "text/plain": [
       "dict_keys(['nodes', 'links'])"
      ]
     },
     "execution_count": 21,
     "metadata": {},
     "output_type": "execute_result"
    }
   ],
   "source": [
    "json_prep = {\"links\":links_list, \"nodes\":nodes_list}\n",
    "\n",
    "json_prep.keys()"
   ]
  },
  {
   "cell_type": "code",
   "execution_count": 22,
   "metadata": {
    "collapsed": false
   },
   "outputs": [],
   "source": [
    "json_dump = json.dumps(json_prep, indent=1, sort_keys=True)"
   ]
  },
  {
   "cell_type": "code",
   "execution_count": 23,
   "metadata": {
    "collapsed": false
   },
   "outputs": [
    {
     "data": {
      "text/html": [
       "<div>\n",
       "<style scoped>\n",
       "    .dataframe tbody tr th:only-of-type {\n",
       "        vertical-align: middle;\n",
       "    }\n",
       "\n",
       "    .dataframe tbody tr th {\n",
       "        vertical-align: top;\n",
       "    }\n",
       "\n",
       "    .dataframe thead th {\n",
       "        text-align: right;\n",
       "    }\n",
       "</style>\n",
       "<table border=\"1\" class=\"dataframe\">\n",
       "  <thead>\n",
       "    <tr style=\"text-align: right;\">\n",
       "      <th></th>\n",
       "      <th>group</th>\n",
       "      <th>name</th>\n",
       "    </tr>\n",
       "  </thead>\n",
       "  <tbody>\n",
       "    <tr>\n",
       "      <th>0</th>\n",
       "      <td>1</td>\n",
       "      <td>000.nl</td>\n",
       "    </tr>\n",
       "    <tr>\n",
       "      <th>1</th>\n",
       "      <td>2</td>\n",
       "      <td>01webdirectory.com</td>\n",
       "    </tr>\n",
       "    <tr>\n",
       "      <th>2</th>\n",
       "      <td>3</td>\n",
       "      <td>024a.com.cn</td>\n",
       "    </tr>\n",
       "    <tr>\n",
       "      <th>3</th>\n",
       "      <td>4</td>\n",
       "      <td>027safe.com</td>\n",
       "    </tr>\n",
       "    <tr>\n",
       "      <th>4</th>\n",
       "      <td>5</td>\n",
       "      <td>0531w.com</td>\n",
       "    </tr>\n",
       "  </tbody>\n",
       "</table>\n",
       "</div>"
      ],
      "text/plain": [
       "   group                name\n",
       "0      1              000.nl\n",
       "1      2  01webdirectory.com\n",
       "2      3         024a.com.cn\n",
       "3      4         027safe.com\n",
       "4      5           0531w.com"
      ]
     },
     "execution_count": 23,
     "metadata": {},
     "output_type": "execute_result"
    }
   ],
   "source": [
    "pd.DataFrame(json_prep['nodes']).head()"
   ]
  },
  {
   "cell_type": "code",
   "execution_count": null,
   "metadata": {
    "collapsed": false
   },
   "outputs": [
    {
     "data": {
      "text/html": [
       "<div>\n",
       "<style scoped>\n",
       "    .dataframe tbody tr th:only-of-type {\n",
       "        vertical-align: middle;\n",
       "    }\n",
       "\n",
       "    .dataframe tbody tr th {\n",
       "        vertical-align: top;\n",
       "    }\n",
       "\n",
       "    .dataframe thead th {\n",
       "        text-align: right;\n",
       "    }\n",
       "</style>\n",
       "<table border=\"1\" class=\"dataframe\">\n",
       "  <thead>\n",
       "    <tr style=\"text-align: right;\">\n",
       "      <th></th>\n",
       "      <th>source</th>\n",
       "      <th>target</th>\n",
       "      <th>value</th>\n",
       "    </tr>\n",
       "  </thead>\n",
       "  <tbody>\n",
       "    <tr>\n",
       "      <th>0</th>\n",
       "      <td>0</td>\n",
       "      <td>10470</td>\n",
       "      <td>1</td>\n",
       "    </tr>\n",
       "    <tr>\n",
       "      <th>1</th>\n",
       "      <td>1</td>\n",
       "      <td>6456</td>\n",
       "      <td>1</td>\n",
       "    </tr>\n",
       "    <tr>\n",
       "      <th>2</th>\n",
       "      <td>2</td>\n",
       "      <td>10470</td>\n",
       "      <td>1</td>\n",
       "    </tr>\n",
       "    <tr>\n",
       "      <th>3</th>\n",
       "      <td>3</td>\n",
       "      <td>6456</td>\n",
       "      <td>1</td>\n",
       "    </tr>\n",
       "    <tr>\n",
       "      <th>4</th>\n",
       "      <td>4</td>\n",
       "      <td>13593</td>\n",
       "      <td>1</td>\n",
       "    </tr>\n",
       "  </tbody>\n",
       "</table>\n",
       "</div>"
      ],
      "text/plain": [
       "   source  target  value\n",
       "0       0   10470      1\n",
       "1       1    6456      1\n",
       "2       2   10470      1\n",
       "3       3    6456      1\n",
       "4       4   13593      1"
      ]
     },
     "execution_count": 24,
     "metadata": {},
     "output_type": "execute_result"
    }
   ],
   "source": [
    "pd.DataFrame(json_prep['links']).head()"
   ]
  },
  {
   "cell_type": "code",
   "execution_count": null,
   "metadata": {
    "collapsed": false
   },
   "outputs": [],
   "source": [
    "N=len(json_prep['nodes'])\n",
    "\n",
    "L=len(json_prep['links'])\n",
    "Edges=[(json_prep['links'][k]['source'], json_prep['links'][k]['target']) for k in range(L)]\n",
    "\n",
    "G=ig.Graph(Edges, directed=False)\n",
    "\n",
    "labels=[]\n",
    "group=[]\n",
    "for node in json_prep['nodes']:\n",
    "    labels.append(node['name'])\n",
    "    group.append(node['group'])\n",
    "    \n",
    "\n",
    "layt=G.layout('kk', dim=3)\n",
    "\n",
    "Xn=[layt[k][0] for k in range(N)]# x-coordinates of nodes\n",
    "Yn=[layt[k][1] for k in range(N)]# y-coordinates\n",
    "Zn=[layt[k][2] for k in range(N)]# z-coordinates\n",
    "Xe=[]\n",
    "Ye=[]\n",
    "Ze=[]\n",
    "for e in Edges:\n",
    "    Xe+=[layt[e[0]][0],layt[e[1]][0], None]# x-coordinates of edge ends\n",
    "    Ye+=[layt[e[0]][1],layt[e[1]][1], None]\n",
    "    Ze+=[layt[e[0]][2],layt[e[1]][2], None]\n",
    "    \n",
    "\n",
    "\n",
    "import plotly.plotly as py\n",
    "from plotly.graph_objs import *\n",
    "\n",
    "trace1=Scatter3d(x=Xe,\n",
    "               y=Ye,\n",
    "               z=Ze,\n",
    "               mode='lines',\n",
    "               line=Line(color='rgb(125,125,125)', width=1),\n",
    "               hoverinfo='none'\n",
    "               )\n",
    "trace2=Scatter3d(x=Xn,\n",
    "               y=Yn,\n",
    "               z=Zn,\n",
    "               mode='markers',\n",
    "               name='actors',\n",
    "               marker=Marker(symbol='dot',\n",
    "                             size=6,\n",
    "                             color=group,\n",
    "                             colorscale='Viridis',\n",
    "                             line=Line(color='rgb(50,50,50)', width=0.5)\n",
    "                             ),\n",
    "               text=labels,\n",
    "               hoverinfo='text'\n",
    "               )\n",
    "\n",
    "axis=dict(showbackground=False,\n",
    "          showline=False,\n",
    "          zeroline=False,\n",
    "          showgrid=False,\n",
    "          showticklabels=False,\n",
    "          title=''\n",
    "          )\n",
    "\n",
    "layout = Layout(\n",
    "         title=\"Network of top 3 ranking pages for keyword 'SEO' (3D visualization)\",\n",
    "         width=1000,\n",
    "         height=1000,\n",
    "         showlegend=False,\n",
    "         scene=Scene(\n",
    "         xaxis=XAxis(axis),\n",
    "         yaxis=YAxis(axis),\n",
    "         zaxis=ZAxis(axis),\n",
    "        ),\n",
    "     margin=Margin(\n",
    "        t=100\n",
    "    ),\n",
    "    hovermode='closest',\n",
    "    annotations=Annotations([\n",
    "           Annotation(\n",
    "           showarrow=False,\n",
    "            xref='paper',\n",
    "            yref='paper',\n",
    "            x=0,\n",
    "            y=0.1,\n",
    "            xanchor='left',\n",
    "            yanchor='bottom',\n",
    "            font=Font(\n",
    "            size=14\n",
    "            )\n",
    "            )\n",
    "        ]),    )\n",
    "\n",
    "data=Data([trace1, trace2])\n",
    "fig=Figure(data=data, layout=layout)\n",
    "\n",
    "iplot(fig, filename='Top 3 pages for keyword SEO')"
   ]
  },
  {
   "cell_type": "code",
   "execution_count": null,
   "metadata": {
    "collapsed": true
   },
   "outputs": [],
   "source": []
  }
 ],
 "metadata": {
  "anaconda-cloud": {},
  "kernelspec": {
   "display_name": "Python [conda env:py35]",
   "language": "python",
   "name": "conda-env-py35-py"
  },
  "language_info": {
   "codemirror_mode": {
    "name": "ipython",
    "version": 3
   },
   "file_extension": ".py",
   "mimetype": "text/x-python",
   "name": "python",
   "nbconvert_exporter": "python",
   "pygments_lexer": "ipython3",
   "version": "3.5.4"
  }
 },
 "nbformat": 4,
 "nbformat_minor": 1
}
