{
 "cells": [
  {
   "cell_type": "code",
   "execution_count": 1,
   "metadata": {
    "collapsed": false
   },
   "outputs": [
    {
     "data": {
      "text/html": [
       "<script>requirejs.config({paths: { 'plotly': ['https://cdn.plot.ly/plotly-latest.min']},});if(!window.Plotly) {{require(['plotly'],function(plotly) {window.Plotly=plotly;});}}</script>"
      ],
      "text/vnd.plotly.v1+html": [
       "<script>requirejs.config({paths: { 'plotly': ['https://cdn.plot.ly/plotly-latest.min']},});if(!window.Plotly) {{require(['plotly'],function(plotly) {window.Plotly=plotly;});}}</script>"
      ]
     },
     "metadata": {},
     "output_type": "display_data"
    }
   ],
   "source": [
    "import pandas as pd\n",
    "from sklearn.externals import joblib as jl\n",
    "import numpy as np\n",
    "import matplotlib.pyplot as plt\n",
    "import requests\n",
    "import json\n",
    "from urllib.parse import urlparse\n",
    "\n",
    "from plotly.offline import download_plotlyjs, init_notebook_mode, plot, iplot\n",
    "\n",
    "init_notebook_mode(connected=True)\n",
    "\n",
    "import igraph as ig\n",
    "\n",
    "pd.set_option('display.max_columns', 50)\n",
    "%matplotlib inline"
   ]
  },
  {
   "cell_type": "code",
   "execution_count": 3,
   "metadata": {
    "collapsed": false,
    "scrolled": true
   },
   "outputs": [
    {
     "data": {
      "text/html": [
       "<div>\n",
       "<style scoped>\n",
       "    .dataframe tbody tr th:only-of-type {\n",
       "        vertical-align: middle;\n",
       "    }\n",
       "\n",
       "    .dataframe tbody tr th {\n",
       "        vertical-align: top;\n",
       "    }\n",
       "\n",
       "    .dataframe thead th {\n",
       "        text-align: right;\n",
       "    }\n",
       "</style>\n",
       "<table border=\"1\" class=\"dataframe\">\n",
       "  <thead>\n",
       "    <tr style=\"text-align: right;\">\n",
       "      <th></th>\n",
       "      <th>Keyword</th>\n",
       "      <th>URL</th>\n",
       "      <th>Country</th>\n",
       "      <th>Difficulty</th>\n",
       "      <th>Volume</th>\n",
       "      <th>Clicks</th>\n",
       "      <th>CPS</th>\n",
       "      <th>Return Rate</th>\n",
       "      <th>Parent Topic</th>\n",
       "      <th>Parent Topic Volume</th>\n",
       "      <th>Last Update</th>\n",
       "      <th>Backlinks</th>\n",
       "      <th>Referring Domains</th>\n",
       "      <th>URL Rating</th>\n",
       "      <th>Domain Rating</th>\n",
       "      <th>Ahrefs Rank</th>\n",
       "      <th>Traffic</th>\n",
       "      <th>Keywords</th>\n",
       "      <th>Facebook</th>\n",
       "      <th>Top Keyword</th>\n",
       "      <th>Top Keyword Volume</th>\n",
       "      <th>CPC</th>\n",
       "    </tr>\n",
       "  </thead>\n",
       "  <tbody>\n",
       "    <tr>\n",
       "      <th>0</th>\n",
       "      <td>best seo tool</td>\n",
       "      <td>https://www.pcmag.com/roundup/348615/the-best-...</td>\n",
       "      <td>us</td>\n",
       "      <td>46</td>\n",
       "      <td>90</td>\n",
       "      <td>0</td>\n",
       "      <td>0</td>\n",
       "      <td>0</td>\n",
       "      <td>seo tools</td>\n",
       "      <td>16000</td>\n",
       "      <td>2017-12-12 23:54:19</td>\n",
       "      <td>909</td>\n",
       "      <td>99</td>\n",
       "      <td>36</td>\n",
       "      <td>73</td>\n",
       "      <td>1051</td>\n",
       "      <td>1512</td>\n",
       "      <td>732</td>\n",
       "      <td>62</td>\n",
       "      <td>seo tools</td>\n",
       "      <td>16000</td>\n",
       "      <td>16.0</td>\n",
       "    </tr>\n",
       "    <tr>\n",
       "      <th>1</th>\n",
       "      <td>best seo tool</td>\n",
       "      <td>https://www.growthfunnel.io/best-seo-tools-rec...</td>\n",
       "      <td>us</td>\n",
       "      <td>46</td>\n",
       "      <td>90</td>\n",
       "      <td>0</td>\n",
       "      <td>0</td>\n",
       "      <td>0</td>\n",
       "      <td>seo tools</td>\n",
       "      <td>16000</td>\n",
       "      <td>2017-12-12 23:54:19</td>\n",
       "      <td>67</td>\n",
       "      <td>40</td>\n",
       "      <td>25</td>\n",
       "      <td>51</td>\n",
       "      <td>668749</td>\n",
       "      <td>541</td>\n",
       "      <td>276</td>\n",
       "      <td>56</td>\n",
       "      <td>best seo tools</td>\n",
       "      <td>2100</td>\n",
       "      <td>16.0</td>\n",
       "    </tr>\n",
       "    <tr>\n",
       "      <th>2</th>\n",
       "      <td>best seo tool</td>\n",
       "      <td>https://backlinko.com/seo-tools</td>\n",
       "      <td>us</td>\n",
       "      <td>46</td>\n",
       "      <td>90</td>\n",
       "      <td>0</td>\n",
       "      <td>0</td>\n",
       "      <td>0</td>\n",
       "      <td>seo tools</td>\n",
       "      <td>16000</td>\n",
       "      <td>2017-12-12 23:54:19</td>\n",
       "      <td>1267</td>\n",
       "      <td>474</td>\n",
       "      <td>49</td>\n",
       "      <td>67</td>\n",
       "      <td>6167</td>\n",
       "      <td>2737</td>\n",
       "      <td>2432</td>\n",
       "      <td>137</td>\n",
       "      <td>seo tools</td>\n",
       "      <td>16000</td>\n",
       "      <td>16.0</td>\n",
       "    </tr>\n",
       "    <tr>\n",
       "      <th>3</th>\n",
       "      <td>best seo tool</td>\n",
       "      <td>https://moz.com/free-seo-tools</td>\n",
       "      <td>us</td>\n",
       "      <td>46</td>\n",
       "      <td>90</td>\n",
       "      <td>0</td>\n",
       "      <td>0</td>\n",
       "      <td>0</td>\n",
       "      <td>seo tools</td>\n",
       "      <td>16000</td>\n",
       "      <td>2017-12-12 23:54:19</td>\n",
       "      <td>388289</td>\n",
       "      <td>2785</td>\n",
       "      <td>80</td>\n",
       "      <td>75</td>\n",
       "      <td>586</td>\n",
       "      <td>6477</td>\n",
       "      <td>747</td>\n",
       "      <td>106</td>\n",
       "      <td>seo tools</td>\n",
       "      <td>16000</td>\n",
       "      <td>16.0</td>\n",
       "    </tr>\n",
       "    <tr>\n",
       "      <th>4</th>\n",
       "      <td>best seo tool</td>\n",
       "      <td>https://seoforgrowth.com/best-seo-tools/</td>\n",
       "      <td>us</td>\n",
       "      <td>46</td>\n",
       "      <td>90</td>\n",
       "      <td>0</td>\n",
       "      <td>0</td>\n",
       "      <td>0</td>\n",
       "      <td>seo tools</td>\n",
       "      <td>16000</td>\n",
       "      <td>2017-12-12 23:54:19</td>\n",
       "      <td>7</td>\n",
       "      <td>2</td>\n",
       "      <td>11</td>\n",
       "      <td>54</td>\n",
       "      <td>320841</td>\n",
       "      <td>271</td>\n",
       "      <td>192</td>\n",
       "      <td>0</td>\n",
       "      <td>best seo tools</td>\n",
       "      <td>2100</td>\n",
       "      <td>16.0</td>\n",
       "    </tr>\n",
       "  </tbody>\n",
       "</table>\n",
       "</div>"
      ],
      "text/plain": [
       "         Keyword                                                URL Country  \\\n",
       "0  best seo tool  https://www.pcmag.com/roundup/348615/the-best-...      us   \n",
       "1  best seo tool  https://www.growthfunnel.io/best-seo-tools-rec...      us   \n",
       "2  best seo tool                    https://backlinko.com/seo-tools      us   \n",
       "3  best seo tool                     https://moz.com/free-seo-tools      us   \n",
       "4  best seo tool           https://seoforgrowth.com/best-seo-tools/      us   \n",
       "\n",
       "   Difficulty  Volume  Clicks  CPS  Return Rate Parent Topic  \\\n",
       "0          46      90       0    0            0    seo tools   \n",
       "1          46      90       0    0            0    seo tools   \n",
       "2          46      90       0    0            0    seo tools   \n",
       "3          46      90       0    0            0    seo tools   \n",
       "4          46      90       0    0            0    seo tools   \n",
       "\n",
       "   Parent Topic Volume          Last Update  Backlinks  Referring Domains  \\\n",
       "0                16000  2017-12-12 23:54:19        909                 99   \n",
       "1                16000  2017-12-12 23:54:19         67                 40   \n",
       "2                16000  2017-12-12 23:54:19       1267                474   \n",
       "3                16000  2017-12-12 23:54:19     388289               2785   \n",
       "4                16000  2017-12-12 23:54:19          7                  2   \n",
       "\n",
       "   URL Rating  Domain Rating  Ahrefs Rank  Traffic  Keywords  Facebook  \\\n",
       "0          36             73         1051     1512       732        62   \n",
       "1          25             51       668749      541       276        56   \n",
       "2          49             67         6167     2737      2432       137   \n",
       "3          80             75          586     6477       747       106   \n",
       "4          11             54       320841      271       192         0   \n",
       "\n",
       "      Top Keyword  Top Keyword Volume   CPC  \n",
       "0       seo tools               16000  16.0  \n",
       "1  best seo tools                2100  16.0  \n",
       "2       seo tools               16000  16.0  \n",
       "3       seo tools               16000  16.0  \n",
       "4  best seo tools                2100  16.0  "
      ]
     },
     "execution_count": 3,
     "metadata": {},
     "output_type": "execute_result"
    }
   ],
   "source": [
    "# data = pd.read_csv('data/best-seo-tool-keywordsexplorer-overview-serps-extended-12-Dec-7c97e335c8c8fbebaec90b2c4db64b0f.csv')\n",
    "# # data = data[(data['Keyword'] == data['Top Keyword'])]\n",
    "# # data['URL'] = data.URL.apply(lambda x: x.rstrip('/'))\n",
    "# data.head()"
   ]
  },
  {
   "cell_type": "code",
   "execution_count": 4,
   "metadata": {
    "collapsed": false
   },
   "outputs": [],
   "source": [
    "# def get_backlinks (url_list, backlink_list):\n",
    "#     token = ''\n",
    "#     backlinks_list = []\n",
    "#     for url, lim in zip(url_list, backlink_list):\n",
    "#         url = url.replace(':','%3A').replace('/', '%2F')\n",
    "#         r = requests.get(\"\"\"http://apiv2.ahrefs.com?token={}&target={}&output=json&from=backlinks&mode=exact&limit={}\"\"\".format(token, url, lim) )\n",
    "#         try:\n",
    "#             backlinks = pd.DataFrame(r.json()['refpages'])\n",
    "#             backlinks_list.append(backlinks)\n",
    "#         except ValueError:  # includes simplejson.decoder.JSONDecodeError\n",
    "#             print ('Decoding JSON has failed for {}'.format(url))\n",
    "\n",
    "#     return pd.concat(backlinks_list)"
   ]
  },
  {
   "cell_type": "code",
   "execution_count": 5,
   "metadata": {
    "collapsed": false
   },
   "outputs": [
    {
     "name": "stdout",
     "output_type": "stream",
     "text": [
      "Wall time: 3min 36s\n"
     ]
    }
   ],
   "source": [
    "# %%time\n",
    "# backlinks = get_backlinks(data['URL'].tolist(), data['Backlinks'].tolist())"
   ]
  },
  {
   "cell_type": "code",
   "execution_count": 6,
   "metadata": {
    "collapsed": false
   },
   "outputs": [
    {
     "data": {
      "text/plain": [
       "['data/bestseo_backlinks.jl']"
      ]
     },
     "execution_count": 6,
     "metadata": {},
     "output_type": "execute_result"
    }
   ],
   "source": [
    "# jl.dump(backlinks, 'data/bestseo_backlinks.jl')"
   ]
  },
  {
   "cell_type": "code",
   "execution_count": 2,
   "metadata": {
    "collapsed": true
   },
   "outputs": [],
   "source": [
    "backlinks = jl.load('data/bestseo_backlinks.jl')"
   ]
  },
  {
   "cell_type": "code",
   "execution_count": 3,
   "metadata": {
    "collapsed": false
   },
   "outputs": [
    {
     "data": {
      "text/html": [
       "<div>\n",
       "<style scoped>\n",
       "    .dataframe tbody tr th:only-of-type {\n",
       "        vertical-align: middle;\n",
       "    }\n",
       "\n",
       "    .dataframe tbody tr th {\n",
       "        vertical-align: top;\n",
       "    }\n",
       "\n",
       "    .dataframe thead th {\n",
       "        text-align: right;\n",
       "    }\n",
       "</style>\n",
       "<table border=\"1\" class=\"dataframe\">\n",
       "  <thead>\n",
       "    <tr style=\"text-align: right;\">\n",
       "      <th></th>\n",
       "      <th>ahrefs_rank</th>\n",
       "      <th>ahrefs_top</th>\n",
       "      <th>alt</th>\n",
       "      <th>anchor</th>\n",
       "      <th>domain_rating</th>\n",
       "      <th>encoding</th>\n",
       "      <th>first_origin</th>\n",
       "      <th>first_seen</th>\n",
       "      <th>http_code</th>\n",
       "      <th>ip_from</th>\n",
       "      <th>language</th>\n",
       "      <th>last_origin</th>\n",
       "      <th>last_visited</th>\n",
       "      <th>link_type</th>\n",
       "      <th>links_external</th>\n",
       "      <th>links_internal</th>\n",
       "      <th>nofollow</th>\n",
       "      <th>original</th>\n",
       "      <th>page_size</th>\n",
       "      <th>prev_visited</th>\n",
       "      <th>redirect</th>\n",
       "      <th>sitewide</th>\n",
       "      <th>text_post</th>\n",
       "      <th>text_pre</th>\n",
       "      <th>title</th>\n",
       "      <th>url_from</th>\n",
       "      <th>url_from_first_seen</th>\n",
       "      <th>url_to</th>\n",
       "    </tr>\n",
       "  </thead>\n",
       "  <tbody>\n",
       "    <tr>\n",
       "      <th>0</th>\n",
       "      <td>8</td>\n",
       "      <td>0</td>\n",
       "      <td></td>\n",
       "      <td>PCMag</td>\n",
       "      <td>45</td>\n",
       "      <td>utf8</td>\n",
       "      <td>recrawl</td>\n",
       "      <td>2017-08-14T03:56:12Z</td>\n",
       "      <td>200</td>\n",
       "      <td>163.53.230.3</td>\n",
       "      <td>en</td>\n",
       "      <td>recrawl</td>\n",
       "      <td>2017-12-07T10:07:15Z</td>\n",
       "      <td>href</td>\n",
       "      <td>38</td>\n",
       "      <td>38</td>\n",
       "      <td>False</td>\n",
       "      <td>False</td>\n",
       "      <td>22086</td>\n",
       "      <td>2017-11-29T08:51:46Z</td>\n",
       "      <td>0</td>\n",
       "      <td>False</td>\n",
       "      <td>conducted a test to see which SEO tool scored ...</td>\n",
       "      <td>requires running your site into qualified SEO ...</td>\n",
       "      <td>Tools that can check your SEO Performance - Bu...</td>\n",
       "      <td>https://www.bureauserv.com.au/blog/seo/tools-c...</td>\n",
       "      <td>2017-07-17T10:16:28Z</td>\n",
       "      <td>https://www.pcmag.com/roundup/348615/the-best-...</td>\n",
       "    </tr>\n",
       "    <tr>\n",
       "      <th>1</th>\n",
       "      <td>8</td>\n",
       "      <td>0</td>\n",
       "      <td></td>\n",
       "      <td>PC Magazine</td>\n",
       "      <td>45</td>\n",
       "      <td>utf8</td>\n",
       "      <td>recent</td>\n",
       "      <td>2017-08-18T23:04:01Z</td>\n",
       "      <td>200</td>\n",
       "      <td>208.167.238.17</td>\n",
       "      <td>en</td>\n",
       "      <td>recrawl</td>\n",
       "      <td>2017-11-20T18:56:44Z</td>\n",
       "      <td>href</td>\n",
       "      <td>61</td>\n",
       "      <td>146</td>\n",
       "      <td>False</td>\n",
       "      <td>True</td>\n",
       "      <td>115651</td>\n",
       "      <td>2017-10-30T16:55:17Z</td>\n",
       "      <td>0</td>\n",
       "      <td>False</td>\n",
       "      <td>:</td>\n",
       "      <td>For example, let’s click on the first result from</td>\n",
       "      <td>How to Show Up on the First Page of Google (Ev...</td>\n",
       "      <td>https://pageone.biz/how-to-show-up-on-the-firs...</td>\n",
       "      <td>2017-08-13T14:28:12Z</td>\n",
       "      <td>https://www.pcmag.com/roundup/348615/the-best-...</td>\n",
       "    </tr>\n",
       "    <tr>\n",
       "      <th>2</th>\n",
       "      <td>7</td>\n",
       "      <td>0</td>\n",
       "      <td></td>\n",
       "      <td>SEO</td>\n",
       "      <td>43</td>\n",
       "      <td>utf8</td>\n",
       "      <td>fresh</td>\n",
       "      <td>2017-09-28T19:57:48Z</td>\n",
       "      <td>200</td>\n",
       "      <td>104.24.114.142</td>\n",
       "      <td>en</td>\n",
       "      <td>recrawl</td>\n",
       "      <td>2017-11-18T19:29:08Z</td>\n",
       "      <td>href</td>\n",
       "      <td>15</td>\n",
       "      <td>74</td>\n",
       "      <td>False</td>\n",
       "      <td>True</td>\n",
       "      <td>32253</td>\n",
       "      <td>2017-09-28T19:57:50Z</td>\n",
       "      <td>0</td>\n",
       "      <td>False</td>\n",
       "      <td>wizard walks you thru the optimization course ...</td>\n",
       "      <td>An</td>\n",
       "      <td>GoDaddy GoCentral On-line Retailer Evaluation ...</td>\n",
       "      <td>https://techswitch.cf/2017/09/12/godaddy-gocen...</td>\n",
       "      <td>2017-09-16T22:58:40Z</td>\n",
       "      <td>https://www.pcmag.com/roundup/348615/the-best-...</td>\n",
       "    </tr>\n",
       "    <tr>\n",
       "      <th>3</th>\n",
       "      <td>7</td>\n",
       "      <td>0</td>\n",
       "      <td></td>\n",
       "      <td>search engine optimization</td>\n",
       "      <td>43</td>\n",
       "      <td>utf8</td>\n",
       "      <td>fresh</td>\n",
       "      <td>2017-10-01T16:51:21Z</td>\n",
       "      <td>200</td>\n",
       "      <td>104.24.114.142</td>\n",
       "      <td>en</td>\n",
       "      <td>recrawl</td>\n",
       "      <td>2017-11-18T20:15:53Z</td>\n",
       "      <td>href</td>\n",
       "      <td>17</td>\n",
       "      <td>74</td>\n",
       "      <td>False</td>\n",
       "      <td>True</td>\n",
       "      <td>31511</td>\n",
       "      <td>2017-11-10T11:04:42Z</td>\n",
       "      <td>0</td>\n",
       "      <td>False</td>\n",
       "      <td>(web optimization)-based automation instrument...</td>\n",
       "      <td>Act-On gives one of the crucial complete socia...</td>\n",
       "      <td>Act-On Assessment &amp; Score | PCMag.com | Tech S...</td>\n",
       "      <td>https://techswitch.cf/2017/09/13/act-on-review...</td>\n",
       "      <td>2017-09-23T21:47:04Z</td>\n",
       "      <td>https://www.pcmag.com/roundup/348615/the-best-...</td>\n",
       "    </tr>\n",
       "    <tr>\n",
       "      <th>4</th>\n",
       "      <td>8</td>\n",
       "      <td>0</td>\n",
       "      <td></td>\n",
       "      <td>search engine optimization</td>\n",
       "      <td>43</td>\n",
       "      <td>utf8</td>\n",
       "      <td>fresh</td>\n",
       "      <td>2017-12-06T04:11:22Z</td>\n",
       "      <td>200</td>\n",
       "      <td>104.24.115.142</td>\n",
       "      <td>en</td>\n",
       "      <td>fresh</td>\n",
       "      <td>2017-12-06T04:11:22Z</td>\n",
       "      <td>href</td>\n",
       "      <td>22</td>\n",
       "      <td>87</td>\n",
       "      <td>False</td>\n",
       "      <td>True</td>\n",
       "      <td>32103</td>\n",
       "      <td></td>\n",
       "      <td>0</td>\n",
       "      <td>False</td>\n",
       "      <td>(website positioning)-based automation instrum...</td>\n",
       "      <td>Act-On affords one of the complete social medi...</td>\n",
       "      <td>Act-On | TechSwitch</td>\n",
       "      <td>https://techswitch.cf/2017/11/27/act-on/</td>\n",
       "      <td>2017-11-28T03:22:15Z</td>\n",
       "      <td>https://www.pcmag.com/roundup/348615/the-best-...</td>\n",
       "    </tr>\n",
       "  </tbody>\n",
       "</table>\n",
       "</div>"
      ],
      "text/plain": [
       "   ahrefs_rank  ahrefs_top alt                      anchor  domain_rating  \\\n",
       "0            8           0                           PCMag             45   \n",
       "1            8           0                     PC Magazine             45   \n",
       "2            7           0                             SEO             43   \n",
       "3            7           0      search engine optimization             43   \n",
       "4            8           0      search engine optimization             43   \n",
       "\n",
       "  encoding first_origin            first_seen  http_code         ip_from  \\\n",
       "0     utf8      recrawl  2017-08-14T03:56:12Z        200    163.53.230.3   \n",
       "1     utf8       recent  2017-08-18T23:04:01Z        200  208.167.238.17   \n",
       "2     utf8        fresh  2017-09-28T19:57:48Z        200  104.24.114.142   \n",
       "3     utf8        fresh  2017-10-01T16:51:21Z        200  104.24.114.142   \n",
       "4     utf8        fresh  2017-12-06T04:11:22Z        200  104.24.115.142   \n",
       "\n",
       "  language last_origin          last_visited link_type  links_external  \\\n",
       "0       en     recrawl  2017-12-07T10:07:15Z      href              38   \n",
       "1       en     recrawl  2017-11-20T18:56:44Z      href              61   \n",
       "2       en     recrawl  2017-11-18T19:29:08Z      href              15   \n",
       "3       en     recrawl  2017-11-18T20:15:53Z      href              17   \n",
       "4       en       fresh  2017-12-06T04:11:22Z      href              22   \n",
       "\n",
       "   links_internal  nofollow  original  page_size          prev_visited  \\\n",
       "0              38     False     False      22086  2017-11-29T08:51:46Z   \n",
       "1             146     False      True     115651  2017-10-30T16:55:17Z   \n",
       "2              74     False      True      32253  2017-09-28T19:57:50Z   \n",
       "3              74     False      True      31511  2017-11-10T11:04:42Z   \n",
       "4              87     False      True      32103                         \n",
       "\n",
       "   redirect  sitewide                                          text_post  \\\n",
       "0         0     False  conducted a test to see which SEO tool scored ...   \n",
       "1         0     False                                                  :   \n",
       "2         0     False  wizard walks you thru the optimization course ...   \n",
       "3         0     False  (web optimization)-based automation instrument...   \n",
       "4         0     False  (website positioning)-based automation instrum...   \n",
       "\n",
       "                                            text_pre  \\\n",
       "0  requires running your site into qualified SEO ...   \n",
       "1  For example, let’s click on the first result from   \n",
       "2                                                 An   \n",
       "3  Act-On gives one of the crucial complete socia...   \n",
       "4  Act-On affords one of the complete social medi...   \n",
       "\n",
       "                                               title  \\\n",
       "0  Tools that can check your SEO Performance - Bu...   \n",
       "1  How to Show Up on the First Page of Google (Ev...   \n",
       "2  GoDaddy GoCentral On-line Retailer Evaluation ...   \n",
       "3  Act-On Assessment & Score | PCMag.com | Tech S...   \n",
       "4                                Act-On | TechSwitch   \n",
       "\n",
       "                                            url_from   url_from_first_seen  \\\n",
       "0  https://www.bureauserv.com.au/blog/seo/tools-c...  2017-07-17T10:16:28Z   \n",
       "1  https://pageone.biz/how-to-show-up-on-the-firs...  2017-08-13T14:28:12Z   \n",
       "2  https://techswitch.cf/2017/09/12/godaddy-gocen...  2017-09-16T22:58:40Z   \n",
       "3  https://techswitch.cf/2017/09/13/act-on-review...  2017-09-23T21:47:04Z   \n",
       "4           https://techswitch.cf/2017/11/27/act-on/  2017-11-28T03:22:15Z   \n",
       "\n",
       "                                              url_to  \n",
       "0  https://www.pcmag.com/roundup/348615/the-best-...  \n",
       "1  https://www.pcmag.com/roundup/348615/the-best-...  \n",
       "2  https://www.pcmag.com/roundup/348615/the-best-...  \n",
       "3  https://www.pcmag.com/roundup/348615/the-best-...  \n",
       "4  https://www.pcmag.com/roundup/348615/the-best-...  "
      ]
     },
     "execution_count": 3,
     "metadata": {},
     "output_type": "execute_result"
    }
   ],
   "source": [
    "backlinks.head()"
   ]
  },
  {
   "cell_type": "code",
   "execution_count": 4,
   "metadata": {
    "collapsed": false
   },
   "outputs": [
    {
     "data": {
      "text/html": [
       "<div>\n",
       "<style scoped>\n",
       "    .dataframe tbody tr th:only-of-type {\n",
       "        vertical-align: middle;\n",
       "    }\n",
       "\n",
       "    .dataframe tbody tr th {\n",
       "        vertical-align: top;\n",
       "    }\n",
       "\n",
       "    .dataframe thead th {\n",
       "        text-align: right;\n",
       "    }\n",
       "</style>\n",
       "<table border=\"1\" class=\"dataframe\">\n",
       "  <thead>\n",
       "    <tr style=\"text-align: right;\">\n",
       "      <th></th>\n",
       "      <th>url_from</th>\n",
       "      <th>url_to</th>\n",
       "    </tr>\n",
       "  </thead>\n",
       "  <tbody>\n",
       "    <tr>\n",
       "      <th>0</th>\n",
       "      <td>https://www.bureauserv.com.au/blog/seo/tools-c...</td>\n",
       "      <td>https://www.pcmag.com/roundup/348615/the-best-...</td>\n",
       "    </tr>\n",
       "    <tr>\n",
       "      <th>1</th>\n",
       "      <td>https://pageone.biz/how-to-show-up-on-the-firs...</td>\n",
       "      <td>https://www.pcmag.com/roundup/348615/the-best-...</td>\n",
       "    </tr>\n",
       "    <tr>\n",
       "      <th>2</th>\n",
       "      <td>https://techswitch.cf/2017/09/12/godaddy-gocen...</td>\n",
       "      <td>https://www.pcmag.com/roundup/348615/the-best-...</td>\n",
       "    </tr>\n",
       "    <tr>\n",
       "      <th>3</th>\n",
       "      <td>https://techswitch.cf/2017/09/13/act-on-review...</td>\n",
       "      <td>https://www.pcmag.com/roundup/348615/the-best-...</td>\n",
       "    </tr>\n",
       "    <tr>\n",
       "      <th>4</th>\n",
       "      <td>https://techswitch.cf/2017/11/27/act-on/</td>\n",
       "      <td>https://www.pcmag.com/roundup/348615/the-best-...</td>\n",
       "    </tr>\n",
       "  </tbody>\n",
       "</table>\n",
       "</div>"
      ],
      "text/plain": [
       "                                            url_from  \\\n",
       "0  https://www.bureauserv.com.au/blog/seo/tools-c...   \n",
       "1  https://pageone.biz/how-to-show-up-on-the-firs...   \n",
       "2  https://techswitch.cf/2017/09/12/godaddy-gocen...   \n",
       "3  https://techswitch.cf/2017/09/13/act-on-review...   \n",
       "4           https://techswitch.cf/2017/11/27/act-on/   \n",
       "\n",
       "                                              url_to  \n",
       "0  https://www.pcmag.com/roundup/348615/the-best-...  \n",
       "1  https://www.pcmag.com/roundup/348615/the-best-...  \n",
       "2  https://www.pcmag.com/roundup/348615/the-best-...  \n",
       "3  https://www.pcmag.com/roundup/348615/the-best-...  \n",
       "4  https://www.pcmag.com/roundup/348615/the-best-...  "
      ]
     },
     "execution_count": 4,
     "metadata": {},
     "output_type": "execute_result"
    }
   ],
   "source": [
    "links = backlinks[backlinks.nofollow == False][['url_from', 'url_to']].reset_index(drop=True)\n",
    "links.head()"
   ]
  },
  {
   "cell_type": "code",
   "execution_count": 5,
   "metadata": {
    "collapsed": false
   },
   "outputs": [
    {
     "data": {
      "text/html": [
       "<div>\n",
       "<style scoped>\n",
       "    .dataframe tbody tr th:only-of-type {\n",
       "        vertical-align: middle;\n",
       "    }\n",
       "\n",
       "    .dataframe tbody tr th {\n",
       "        vertical-align: top;\n",
       "    }\n",
       "\n",
       "    .dataframe thead th {\n",
       "        text-align: right;\n",
       "    }\n",
       "</style>\n",
       "<table border=\"1\" class=\"dataframe\">\n",
       "  <thead>\n",
       "    <tr style=\"text-align: right;\">\n",
       "      <th></th>\n",
       "      <th>url_from</th>\n",
       "      <th>url_to</th>\n",
       "    </tr>\n",
       "  </thead>\n",
       "  <tbody>\n",
       "    <tr>\n",
       "      <th>0</th>\n",
       "      <td>www.bureauserv.com.au</td>\n",
       "      <td>www.pcmag.com</td>\n",
       "    </tr>\n",
       "    <tr>\n",
       "      <th>1</th>\n",
       "      <td>pageone.biz</td>\n",
       "      <td>www.pcmag.com</td>\n",
       "    </tr>\n",
       "    <tr>\n",
       "      <th>2</th>\n",
       "      <td>techswitch.cf</td>\n",
       "      <td>www.pcmag.com</td>\n",
       "    </tr>\n",
       "    <tr>\n",
       "      <th>3</th>\n",
       "      <td>www.techswitch.cf</td>\n",
       "      <td>www.pcmag.com</td>\n",
       "    </tr>\n",
       "    <tr>\n",
       "      <th>4</th>\n",
       "      <td>www.abidmomin.com</td>\n",
       "      <td>www.pcmag.com</td>\n",
       "    </tr>\n",
       "  </tbody>\n",
       "</table>\n",
       "</div>"
      ],
      "text/plain": [
       "                url_from         url_to\n",
       "0  www.bureauserv.com.au  www.pcmag.com\n",
       "1            pageone.biz  www.pcmag.com\n",
       "2          techswitch.cf  www.pcmag.com\n",
       "3      www.techswitch.cf  www.pcmag.com\n",
       "4      www.abidmomin.com  www.pcmag.com"
      ]
     },
     "execution_count": 5,
     "metadata": {},
     "output_type": "execute_result"
    }
   ],
   "source": [
    "links['url_from'] = links.url_from.apply(lambda x: '{uri.netloc}'.format(uri=urlparse(x)))\n",
    "links['url_to'] = links.url_to.apply(lambda x: '{uri.netloc}'.format(uri=urlparse(x)))\n",
    "links = links[(links.url_from != '') & (links.url_to != '')]\n",
    "links = links.drop_duplicates().reset_index(drop=True)\n",
    "\n",
    "links.head()"
   ]
  },
  {
   "cell_type": "code",
   "execution_count": 6,
   "metadata": {
    "collapsed": false
   },
   "outputs": [
    {
     "name": "stdout",
     "output_type": "stream",
     "text": [
      "<class 'pandas.core.frame.DataFrame'>\n",
      "RangeIndex: 3624 entries, 0 to 3623\n",
      "Data columns (total 2 columns):\n",
      "url_from    3624 non-null object\n",
      "url_to      3624 non-null object\n",
      "dtypes: object(2)\n",
      "memory usage: 56.7+ KB\n"
     ]
    }
   ],
   "source": [
    "links.info()"
   ]
  },
  {
   "cell_type": "code",
   "execution_count": 7,
   "metadata": {
    "collapsed": false
   },
   "outputs": [],
   "source": [
    "grouped_src_dst = links.groupby([\"url_from\",\"url_to\"]).size().reset_index()"
   ]
  },
  {
   "cell_type": "code",
   "execution_count": 8,
   "metadata": {
    "collapsed": true
   },
   "outputs": [],
   "source": [
    "unique_links = pd.Index(grouped_src_dst['url_from']\n",
    "                      .append(grouped_src_dst['url_to'])\n",
    "                      .reset_index(drop=True).unique())"
   ]
  },
  {
   "cell_type": "code",
   "execution_count": 9,
   "metadata": {
    "collapsed": false
   },
   "outputs": [],
   "source": [
    "group_dict = {}\n",
    "counter = 0\n",
    "for lk in unique_links:\n",
    "    if lk not in group_dict:\n",
    "        counter += 1\n",
    "        group_dict[lk] = counter\n",
    "    else:\n",
    "        pass"
   ]
  },
  {
   "cell_type": "code",
   "execution_count": 10,
   "metadata": {
    "collapsed": true
   },
   "outputs": [],
   "source": [
    "grouped_src_dst.rename(columns={0:'count'}, inplace=True)\n",
    "temp_links_list = list(grouped_src_dst.apply(lambda row: {\"source\": row['url_from'],\n",
    "                                                          \"target\": row['url_to'],\n",
    "                                                          \"value\": row['count']}, axis=1))"
   ]
  },
  {
   "cell_type": "code",
   "execution_count": 11,
   "metadata": {
    "collapsed": false
   },
   "outputs": [
    {
     "data": {
      "text/plain": [
       "[{'source': '000.nl', 'target': 'moz.com', 'value': 1},\n",
       " {'source': '01ne.blogspot.com', 'target': 'moz.com', 'value': 1},\n",
       " {'source': '0at.org', 'target': 'moz.com', 'value': 1},\n",
       " {'source': '123hodgepodge.blogspot.com', 'target': 'moz.com', 'value': 1},\n",
       " {'source': '128.218.167.54', 'target': 'moz.com', 'value': 1}]"
      ]
     },
     "execution_count": 11,
     "metadata": {},
     "output_type": "execute_result"
    }
   ],
   "source": [
    "temp_links_list[:5]"
   ]
  },
  {
   "cell_type": "code",
   "execution_count": 12,
   "metadata": {
    "collapsed": false
   },
   "outputs": [
    {
     "data": {
      "text/plain": [
       "3513"
      ]
     },
     "execution_count": 12,
     "metadata": {},
     "output_type": "execute_result"
    }
   ],
   "source": [
    "len(unique_links)"
   ]
  },
  {
   "cell_type": "code",
   "execution_count": 13,
   "metadata": {
    "collapsed": true
   },
   "outputs": [],
   "source": [
    "links_list = []\n",
    "for link in temp_links_list:\n",
    "    record = {\"value\":link['value'], \"source\":unique_links.get_loc(link['source']),\n",
    "     \"target\": unique_links.get_loc(link['target'])}\n",
    "    links_list.append(record)"
   ]
  },
  {
   "cell_type": "code",
   "execution_count": 14,
   "metadata": {
    "collapsed": true
   },
   "outputs": [],
   "source": [
    "nodes_list = []\n",
    "\n",
    "for lk in unique_links:\n",
    "    nodes_list.append({\"name\":lk, \"group\": group_dict.get(lk)})"
   ]
  },
  {
   "cell_type": "code",
   "execution_count": 15,
   "metadata": {
    "collapsed": false
   },
   "outputs": [
    {
     "data": {
      "text/plain": [
       "[{'source': 0, 'target': 3508, 'value': 1},\n",
       " {'source': 1, 'target': 3508, 'value': 1},\n",
       " {'source': 2, 'target': 3508, 'value': 1},\n",
       " {'source': 3, 'target': 3508, 'value': 1},\n",
       " {'source': 4, 'target': 3508, 'value': 1}]"
      ]
     },
     "execution_count": 15,
     "metadata": {},
     "output_type": "execute_result"
    }
   ],
   "source": [
    "links_list[:5]"
   ]
  },
  {
   "cell_type": "code",
   "execution_count": 16,
   "metadata": {
    "collapsed": false
   },
   "outputs": [
    {
     "data": {
      "text/plain": [
       "[{'group': 1, 'name': '000.nl'},\n",
       " {'group': 2, 'name': '01ne.blogspot.com'},\n",
       " {'group': 3, 'name': '0at.org'},\n",
       " {'group': 4, 'name': '123hodgepodge.blogspot.com'},\n",
       " {'group': 5, 'name': '128.218.167.54'}]"
      ]
     },
     "execution_count": 16,
     "metadata": {},
     "output_type": "execute_result"
    }
   ],
   "source": [
    "nodes_list[:5]"
   ]
  },
  {
   "cell_type": "code",
   "execution_count": 17,
   "metadata": {
    "collapsed": false
   },
   "outputs": [
    {
     "data": {
      "text/plain": [
       "dict_keys(['nodes', 'links'])"
      ]
     },
     "execution_count": 17,
     "metadata": {},
     "output_type": "execute_result"
    }
   ],
   "source": [
    "json_prep = {\"links\":links_list, \"nodes\":nodes_list}\n",
    "\n",
    "json_prep.keys()"
   ]
  },
  {
   "cell_type": "code",
   "execution_count": 18,
   "metadata": {
    "collapsed": false
   },
   "outputs": [],
   "source": [
    "json_dump = json.dumps(json_prep, indent=1, sort_keys=True)"
   ]
  },
  {
   "cell_type": "code",
   "execution_count": 19,
   "metadata": {
    "collapsed": false
   },
   "outputs": [
    {
     "data": {
      "text/html": [
       "<div>\n",
       "<style scoped>\n",
       "    .dataframe tbody tr th:only-of-type {\n",
       "        vertical-align: middle;\n",
       "    }\n",
       "\n",
       "    .dataframe tbody tr th {\n",
       "        vertical-align: top;\n",
       "    }\n",
       "\n",
       "    .dataframe thead th {\n",
       "        text-align: right;\n",
       "    }\n",
       "</style>\n",
       "<table border=\"1\" class=\"dataframe\">\n",
       "  <thead>\n",
       "    <tr style=\"text-align: right;\">\n",
       "      <th></th>\n",
       "      <th>group</th>\n",
       "      <th>name</th>\n",
       "    </tr>\n",
       "  </thead>\n",
       "  <tbody>\n",
       "    <tr>\n",
       "      <th>0</th>\n",
       "      <td>1</td>\n",
       "      <td>000.nl</td>\n",
       "    </tr>\n",
       "    <tr>\n",
       "      <th>1</th>\n",
       "      <td>2</td>\n",
       "      <td>01ne.blogspot.com</td>\n",
       "    </tr>\n",
       "    <tr>\n",
       "      <th>2</th>\n",
       "      <td>3</td>\n",
       "      <td>0at.org</td>\n",
       "    </tr>\n",
       "    <tr>\n",
       "      <th>3</th>\n",
       "      <td>4</td>\n",
       "      <td>123hodgepodge.blogspot.com</td>\n",
       "    </tr>\n",
       "    <tr>\n",
       "      <th>4</th>\n",
       "      <td>5</td>\n",
       "      <td>128.218.167.54</td>\n",
       "    </tr>\n",
       "  </tbody>\n",
       "</table>\n",
       "</div>"
      ],
      "text/plain": [
       "   group                        name\n",
       "0      1                      000.nl\n",
       "1      2           01ne.blogspot.com\n",
       "2      3                     0at.org\n",
       "3      4  123hodgepodge.blogspot.com\n",
       "4      5              128.218.167.54"
      ]
     },
     "execution_count": 19,
     "metadata": {},
     "output_type": "execute_result"
    }
   ],
   "source": [
    "pd.DataFrame(json_prep['nodes']).head()"
   ]
  },
  {
   "cell_type": "code",
   "execution_count": 20,
   "metadata": {
    "collapsed": false
   },
   "outputs": [
    {
     "data": {
      "text/html": [
       "<div>\n",
       "<style scoped>\n",
       "    .dataframe tbody tr th:only-of-type {\n",
       "        vertical-align: middle;\n",
       "    }\n",
       "\n",
       "    .dataframe tbody tr th {\n",
       "        vertical-align: top;\n",
       "    }\n",
       "\n",
       "    .dataframe thead th {\n",
       "        text-align: right;\n",
       "    }\n",
       "</style>\n",
       "<table border=\"1\" class=\"dataframe\">\n",
       "  <thead>\n",
       "    <tr style=\"text-align: right;\">\n",
       "      <th></th>\n",
       "      <th>source</th>\n",
       "      <th>target</th>\n",
       "      <th>value</th>\n",
       "    </tr>\n",
       "  </thead>\n",
       "  <tbody>\n",
       "    <tr>\n",
       "      <th>0</th>\n",
       "      <td>0</td>\n",
       "      <td>3508</td>\n",
       "      <td>1</td>\n",
       "    </tr>\n",
       "    <tr>\n",
       "      <th>1</th>\n",
       "      <td>1</td>\n",
       "      <td>3508</td>\n",
       "      <td>1</td>\n",
       "    </tr>\n",
       "    <tr>\n",
       "      <th>2</th>\n",
       "      <td>2</td>\n",
       "      <td>3508</td>\n",
       "      <td>1</td>\n",
       "    </tr>\n",
       "    <tr>\n",
       "      <th>3</th>\n",
       "      <td>3</td>\n",
       "      <td>3508</td>\n",
       "      <td>1</td>\n",
       "    </tr>\n",
       "    <tr>\n",
       "      <th>4</th>\n",
       "      <td>4</td>\n",
       "      <td>3508</td>\n",
       "      <td>1</td>\n",
       "    </tr>\n",
       "  </tbody>\n",
       "</table>\n",
       "</div>"
      ],
      "text/plain": [
       "   source  target  value\n",
       "0       0    3508      1\n",
       "1       1    3508      1\n",
       "2       2    3508      1\n",
       "3       3    3508      1\n",
       "4       4    3508      1"
      ]
     },
     "execution_count": 20,
     "metadata": {},
     "output_type": "execute_result"
    }
   ],
   "source": [
    "pd.DataFrame(json_prep['links']).head()"
   ]
  },
  {
   "cell_type": "code",
   "execution_count": null,
   "metadata": {
    "collapsed": false
   },
   "outputs": [],
   "source": [
    "N=len(json_prep['nodes'])\n",
    "\n",
    "L=len(json_prep['links'])\n",
    "Edges=[(json_prep['links'][k]['source'], json_prep['links'][k]['target']) for k in range(L)]\n",
    "\n",
    "G=ig.Graph(Edges, directed=False)\n",
    "\n",
    "labels=[]\n",
    "group=[]\n",
    "for node in json_prep['nodes']:\n",
    "    labels.append(node['name'])\n",
    "    group.append(node['group'])\n",
    "    \n",
    "\n",
    "layt=G.layout('kk', dim=3)\n",
    "\n",
    "Xn=[layt[k][0] for k in range(N)]# x-coordinates of nodes\n",
    "Yn=[layt[k][1] for k in range(N)]# y-coordinates\n",
    "Zn=[layt[k][2] for k in range(N)]# z-coordinates\n",
    "Xe=[]\n",
    "Ye=[]\n",
    "Ze=[]\n",
    "for e in Edges:\n",
    "    Xe+=[layt[e[0]][0],layt[e[1]][0], None]# x-coordinates of edge ends\n",
    "    Ye+=[layt[e[0]][1],layt[e[1]][1], None]\n",
    "    Ze+=[layt[e[0]][2],layt[e[1]][2], None]\n",
    "    \n",
    "\n",
    "\n",
    "import plotly.plotly as py\n",
    "from plotly.graph_objs import *\n",
    "\n",
    "trace1=Scatter3d(x=Xe,\n",
    "               y=Ye,\n",
    "               z=Ze,\n",
    "               mode='lines',\n",
    "               line=Line(color='rgb(125,125,125)', width=1),\n",
    "               hoverinfo='none'\n",
    "               )\n",
    "trace2=Scatter3d(x=Xn,\n",
    "               y=Yn,\n",
    "               z=Zn,\n",
    "               mode='markers',\n",
    "               name='actors',\n",
    "               marker=Marker(symbol='dot',\n",
    "                             size=6,\n",
    "                             color=group,\n",
    "                             colorscale='Viridis',\n",
    "                             line=Line(color='rgb(50,50,50)', width=0.5)\n",
    "                             ),\n",
    "               text=labels,\n",
    "               hoverinfo='text'\n",
    "               )\n",
    "\n",
    "axis=dict(showbackground=False,\n",
    "          showline=False,\n",
    "          zeroline=False,\n",
    "          showgrid=False,\n",
    "          showticklabels=False,\n",
    "          title=''\n",
    "          )\n",
    "\n",
    "layout = Layout(\n",
    "         title=\"Network for keyword 'best SEO tool' (3D visualization)\",\n",
    "         width=1000,\n",
    "         height=1000,\n",
    "         showlegend=False,\n",
    "         scene=Scene(\n",
    "         xaxis=XAxis(axis),\n",
    "         yaxis=YAxis(axis),\n",
    "         zaxis=ZAxis(axis),\n",
    "        ),\n",
    "     margin=Margin(\n",
    "        t=100\n",
    "    ),\n",
    "    hovermode='closest',\n",
    "    annotations=Annotations([\n",
    "           Annotation(\n",
    "           showarrow=False,\n",
    "            xref='paper',\n",
    "            yref='paper',\n",
    "            x=0,\n",
    "            y=0.1,\n",
    "            xanchor='left',\n",
    "            yanchor='bottom',\n",
    "            font=Font(\n",
    "            size=14\n",
    "            )\n",
    "            )\n",
    "        ]),    )\n",
    "\n",
    "data=Data([trace1, trace2])\n",
    "fig=Figure(data=data, layout=layout)\n",
    "\n",
    "iplot(fig, filename='Network for keyword \"best SEO tool\"')"
   ]
  },
  {
   "cell_type": "code",
   "execution_count": null,
   "metadata": {
    "collapsed": true
   },
   "outputs": [],
   "source": []
  }
 ],
 "metadata": {
  "anaconda-cloud": {},
  "kernelspec": {
   "display_name": "Python [conda env:py35]",
   "language": "python",
   "name": "conda-env-py35-py"
  },
  "language_info": {
   "codemirror_mode": {
    "name": "ipython",
    "version": 3
   },
   "file_extension": ".py",
   "mimetype": "text/x-python",
   "name": "python",
   "nbconvert_exporter": "python",
   "pygments_lexer": "ipython3",
   "version": "3.5.4"
  }
 },
 "nbformat": 4,
 "nbformat_minor": 1
}
