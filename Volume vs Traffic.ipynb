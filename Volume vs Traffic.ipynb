{
 "cells": [
  {
   "cell_type": "markdown",
   "metadata": {
    "nbpresent": {
     "id": "4ee9523e-2655-4d4a-99ef-5d1ac0294847"
    }
   },
   "source": [
    "# Search Volume vs. Traffic"
   ]
  },
  {
   "cell_type": "markdown",
   "metadata": {
    "nbpresent": {
     "id": "2ad93373-b5e6-4e3f-afa0-03995204e3ee"
    }
   },
   "source": [
    "* There are ***631,246 unique search queries*** with CTR less than 40% (outliers removed)\n",
    "\n",
    "\n",
    "* Search Volume and Traffic have a Non-Linear Relationship with positive correlation of ***~0.4518 ***\n",
    "\n",
    "\n",
    "* **98,483 keywords** with Volume above average and Traffic below average\n",
    "\n",
    "\n",
    "* **86,483 keywords** with Traffic above average and Volume below average\n"
   ]
  },
  {
   "cell_type": "code",
   "execution_count": 31,
   "metadata": {
    "collapsed": true,
    "nbpresent": {
     "id": "9c5a7e3b-89be-45a1-97a4-83337a414708"
    }
   },
   "outputs": [],
   "source": [
    "options(repr.plot.width=8, repr.plot.height=7, scipen=8)"
   ]
  },
  {
   "cell_type": "markdown",
   "metadata": {
    "nbpresent": {
     "id": "a5f49660-745d-4927-b482-cce25c5b845d"
    }
   },
   "source": [
    "### Load Data"
   ]
  },
  {
   "cell_type": "code",
   "execution_count": 32,
   "metadata": {
    "collapsed": false,
    "nbpresent": {
     "id": "e94f3f55-5bb6-438e-9a74-2d44d3cec0ac"
    }
   },
   "outputs": [],
   "source": [
    "data <- read.csv('data/output.csv', header=F)"
   ]
  },
  {
   "cell_type": "code",
   "execution_count": 33,
   "metadata": {
    "collapsed": false,
    "nbpresent": {
     "id": "d11477a1-57ad-431b-a85b-e7ab1bbc6783"
    }
   },
   "outputs": [
    {
     "data": {
      "text/html": [
       "<table>\n",
       "<thead><tr><th scope=col>query</th><th scope=col>volume</th><th scope=col>traffic</th><th scope=col>CTR</th></tr></thead>\n",
       "<tbody>\n",
       "\t<tr><td>behold... the arctopus</td><td> 185.38               </td><td> 163.1941             </td><td>  NA                  </td></tr>\n",
       "\t<tr><td>arduino solar tracker </td><td> 602.14               </td><td> 510.1435             </td><td>  NA                  </td></tr>\n",
       "\t<tr><td>lil kesh              </td><td>2228.70               </td><td> 312.6566             </td><td>0.19                  </td></tr>\n",
       "\t<tr><td>george p lee          </td><td> 586.50               </td><td> 370.1078             </td><td>  NA                  </td></tr>\n",
       "\t<tr><td>funny movie quotes    </td><td>9325.20               </td><td>8133.0870             </td><td>0.41                  </td></tr>\n",
       "</tbody>\n",
       "</table>\n"
      ],
      "text/latex": [
       "\\begin{tabular}{r|llll}\n",
       " query & volume & traffic & CTR\\\\\n",
       "\\hline\n",
       "\t behold... the arctopus &  185.38                &  163.1941              &   NA                  \\\\\n",
       "\t arduino solar tracker  &  602.14                &  510.1435              &   NA                  \\\\\n",
       "\t lil kesh               & 2228.70                &  312.6566              & 0.19                  \\\\\n",
       "\t george p lee           &  586.50                &  370.1078              &   NA                  \\\\\n",
       "\t funny movie quotes     & 9325.20                & 8133.0870              & 0.41                  \\\\\n",
       "\\end{tabular}\n"
      ],
      "text/markdown": [
       "\n",
       "query | volume | traffic | CTR | \n",
       "|---|---|---|---|---|\n",
       "| behold... the arctopus |  185.38                |  163.1941              |   NA                   | \n",
       "| arduino solar tracker  |  602.14                |  510.1435              |   NA                   | \n",
       "| lil kesh               | 2228.70                |  312.6566              | 0.19                   | \n",
       "| george p lee           |  586.50                |  370.1078              |   NA                   | \n",
       "| funny movie quotes     | 9325.20                | 8133.0870              | 0.41                   | \n",
       "\n",
       "\n"
      ],
      "text/plain": [
       "  query                  volume  traffic   CTR \n",
       "1 behold... the arctopus  185.38  163.1941   NA\n",
       "2 arduino solar tracker   602.14  510.1435   NA\n",
       "3 lil kesh               2228.70  312.6566 0.19\n",
       "4 george p lee            586.50  370.1078   NA\n",
       "5 funny movie quotes     9325.20 8133.0870 0.41"
      ]
     },
     "metadata": {},
     "output_type": "display_data"
    }
   ],
   "source": [
    "names(data) <- c('query', 'volume', 'traffic', 'CTR')\n",
    "head(data, n=5)"
   ]
  },
  {
   "cell_type": "markdown",
   "metadata": {
    "nbpresent": {
     "id": "1dd6034c-05de-4fee-94ed-1e2f4190280b"
    }
   },
   "source": [
    "### exclude CTR = NULL and > .4 and get mean values for volume, traffic and CTR for each queries"
   ]
  },
  {
   "cell_type": "code",
   "execution_count": 34,
   "metadata": {
    "collapsed": false,
    "nbpresent": {
     "id": "2b19b49d-92fd-4126-b0ed-7946fd434884"
    }
   },
   "outputs": [
    {
     "data": {
      "text/html": [
       "<table>\n",
       "<thead><tr><th scope=col>query</th><th scope=col>volume</th><th scope=col>traffic</th><th scope=col>CTR</th></tr></thead>\n",
       "<tbody>\n",
       "\t<tr><td>'               </td><td> 312653.98      </td><td> 28391.8532     </td><td>0.06            </td></tr>\n",
       "\t<tr><td>';              </td><td>   3146.40      </td><td>   193.9736     </td><td>0.15            </td></tr>\n",
       "\t<tr><td>']              </td><td>   3229.61      </td><td>   465.3624     </td><td>0.23            </td></tr>\n",
       "\t<tr><td>'murica         </td><td>   3815.20      </td><td>   579.3456     </td><td>0.23            </td></tr>\n",
       "\t<tr><td>'s vs s'        </td><td>   2591.60      </td><td>  2018.0358     </td><td>0.35            </td></tr>\n",
       "\t<tr><td>'tis the season!</td><td>1310079.29      </td><td>194385.0059     </td><td>0.31            </td></tr>\n",
       "</tbody>\n",
       "</table>\n"
      ],
      "text/latex": [
       "\\begin{tabular}{r|llll}\n",
       " query & volume & traffic & CTR\\\\\n",
       "\\hline\n",
       "\t '                &  312653.98       &  28391.8532      & 0.06            \\\\\n",
       "\t ';               &    3146.40       &    193.9736      & 0.15            \\\\\n",
       "\t '{]}               &    3229.61         &    465.3624        & 0.23              \\\\\n",
       "\t 'murica          &    3815.20       &    579.3456      & 0.23            \\\\\n",
       "\t 's vs s'         &    2591.60       &   2018.0358      & 0.35            \\\\\n",
       "\t 'tis the season! & 1310079.29       & 194385.0059      & 0.31            \\\\\n",
       "\\end{tabular}\n"
      ],
      "text/markdown": [
       "\n",
       "query | volume | traffic | CTR | \n",
       "|---|---|---|---|---|---|\n",
       "| '                |  312653.98       |  28391.8532      | 0.06             | \n",
       "| ';               |    3146.40       |    193.9736      | 0.15             | \n",
       "| ']               |    3229.61       |    465.3624      | 0.23             | \n",
       "| 'murica          |    3815.20       |    579.3456      | 0.23             | \n",
       "| 's vs s'         |    2591.60       |   2018.0358      | 0.35             | \n",
       "| 'tis the season! | 1310079.29       | 194385.0059      | 0.31             | \n",
       "\n",
       "\n"
      ],
      "text/plain": [
       "  query            volume     traffic     CTR \n",
       "1 '                 312653.98  28391.8532 0.06\n",
       "2 ';                  3146.40    193.9736 0.15\n",
       "3 ']                  3229.61    465.3624 0.23\n",
       "4 'murica             3815.20    579.3456 0.23\n",
       "5 's vs s'            2591.60   2018.0358 0.35\n",
       "6 'tis the season! 1310079.29 194385.0059 0.31"
      ]
     },
     "metadata": {},
     "output_type": "display_data"
    }
   ],
   "source": [
    "data <- subset(data, !is.na(CTR) & CTR <= .4 & volume > 0 & traffic > 0)\n",
    "data <- aggregate(.~query, data, mean)\n",
    "head(data)"
   ]
  },
  {
   "cell_type": "markdown",
   "metadata": {},
   "source": [
    "### Explicit Outlier removal"
   ]
  },
  {
   "cell_type": "code",
   "execution_count": 5,
   "metadata": {
    "collapsed": false
   },
   "outputs": [
    {
     "data": {
      "text/html": [
       "<table>\n",
       "<thead><tr><th></th><th scope=col>query</th><th scope=col>volume</th><th scope=col>traffic</th><th scope=col>CTR</th></tr></thead>\n",
       "<tbody>\n",
       "\t<tr><th scope=row>2</th><td>';       </td><td>3146.40  </td><td> 193.9736</td><td>0.15     </td></tr>\n",
       "\t<tr><th scope=row>3</th><td>']       </td><td>3229.61  </td><td> 465.3624</td><td>0.23     </td></tr>\n",
       "\t<tr><th scope=row>4</th><td>'murica  </td><td>3815.20  </td><td> 579.3456</td><td>0.23     </td></tr>\n",
       "\t<tr><th scope=row>5</th><td>'s vs s' </td><td>2591.60  </td><td>2018.0358</td><td>0.35     </td></tr>\n",
       "\t<tr><th scope=row>8</th><td>- in r   </td><td>2502.40  </td><td>4083.2425</td><td>0.11     </td></tr>\n",
       "\t<tr><th scope=row>9</th><td>-&gt; in c </td><td> 930.58    </td><td>1719.7325  </td><td>0.24       </td></tr>\n",
       "</tbody>\n",
       "</table>\n"
      ],
      "text/latex": [
       "\\begin{tabular}{r|llll}\n",
       "  & query & volume & traffic & CTR\\\\\n",
       "\\hline\n",
       "\t2 & ';        & 3146.40   &  193.9736 & 0.15     \\\\\n",
       "\t3 & '{]}       & 3229.61    &  465.3624  & 0.23      \\\\\n",
       "\t4 & 'murica   & 3815.20   &  579.3456 & 0.23     \\\\\n",
       "\t5 & 's vs s'  & 2591.60   & 2018.0358 & 0.35     \\\\\n",
       "\t8 & - in r    & 2502.40   & 4083.2425 & 0.11     \\\\\n",
       "\t9 & -> in c   &  930.58   & 1719.7325 & 0.24     \\\\\n",
       "\\end{tabular}\n"
      ],
      "text/markdown": [
       "\n",
       "| <!--/--> | query | volume | traffic | CTR | \n",
       "|---|---|---|---|---|---|\n",
       "| 2 | ';        | 3146.40   |  193.9736 | 0.15      | \n",
       "| 3 | ']        | 3229.61   |  465.3624 | 0.23      | \n",
       "| 4 | 'murica   | 3815.20   |  579.3456 | 0.23      | \n",
       "| 5 | 's vs s'  | 2591.60   | 2018.0358 | 0.35      | \n",
       "| 8 | - in r    | 2502.40   | 4083.2425 | 0.11      | \n",
       "| 9 | -> in c   |  930.58   | 1719.7325 | 0.24      | \n",
       "\n",
       "\n"
      ],
      "text/plain": [
       "  query    volume  traffic   CTR \n",
       "2 ';       3146.40  193.9736 0.15\n",
       "3 ']       3229.61  465.3624 0.23\n",
       "4 'murica  3815.20  579.3456 0.23\n",
       "5 's vs s' 2591.60 2018.0358 0.35\n",
       "8 - in r   2502.40 4083.2425 0.11\n",
       "9 -> in c   930.58 1719.7325 0.24"
      ]
     },
     "metadata": {},
     "output_type": "display_data"
    }
   ],
   "source": [
    "data <- subset(data, volume < 1e+5 & traffic < 5e+4)\n",
    "head(data)"
   ]
  },
  {
   "cell_type": "markdown",
   "metadata": {},
   "source": [
    "### Remove outliers"
   ]
  },
  {
   "cell_type": "code",
   "execution_count": 35,
   "metadata": {
    "collapsed": true
   },
   "outputs": [],
   "source": [
    "outlierKD <- function(dt, var) {\n",
    "     var_name <- eval(substitute(var),eval(dt))\n",
    "     na1 <- sum(is.na(var_name))\n",
    "     m1 <- mean(var_name, na.rm = T)\n",
    "     par(mfrow=c(2, 2), oma=c(0,0,3,0))\n",
    "     boxplot(var_name, main=\"With outliers\")\n",
    "     hist(var_name, main=\"With outliers\", xlab=NA, ylab=NA)\n",
    "     outlier <- boxplot.stats(var_name)$out\n",
    "     mo <- mean(outlier)\n",
    "     var_name <- ifelse(var_name %in% outlier, NA, var_name)\n",
    "     boxplot(var_name, main=\"Without outliers\")\n",
    "     hist(var_name, main=\"Without outliers\", xlab=NA, ylab=NA)\n",
    "     title(\"Outlier Check\", outer=TRUE)\n",
    "     na2 <- sum(is.na(var_name))\n",
    "     cat(\"Outliers identified:\", na2 - na1, \"\\n\")\n",
    "     cat(\"Propotion (%) of outliers:\", round((na2 - na1) / sum(!is.na(var_name))*100, 1), \"\\n\")\n",
    "     cat(\"Mean of the outliers:\", round(mo, 2), \"\\n\")\n",
    "     m2 <- mean(var_name, na.rm = T)\n",
    "     cat(\"Mean without removing outliers:\", round(m1, 2), \"\\n\")\n",
    "     cat(\"Mean if we remove outliers:\", round(m2, 2), \"\\n\")\n",
    "     response <- readline(prompt=\"Do you want to remove outliers and to replace with NA? [yes/no]: \")\n",
    "     if(response == \"y\" | response == \"yes\"){\n",
    "          dt[as.character(substitute(var))] <- invisible(var_name)\n",
    "          assign(as.character(as.list(match.call())$dt), dt, envir = .GlobalEnv)\n",
    "          cat(\"Outliers successfully removed\", \"\\n\")\n",
    "          return(invisible(dt))\n",
    "     } else{\n",
    "          cat(\"Nothing changed\", \"\\n\")\n",
    "          return(invisible(var_name))\n",
    "     }\n",
    "}"
   ]
  },
  {
   "cell_type": "code",
   "execution_count": 36,
   "metadata": {
    "collapsed": false
   },
   "outputs": [
    {
     "name": "stdout",
     "output_type": "stream",
     "text": [
      "Do you want to remove outliers and to replace with NA? [yes/no]: yes\n",
      "Outliers identified: 105513 \n",
      "Propotion (%) of outliers: 15.7 \n",
      "Mean of the outliers: 46827.3 \n",
      "Mean without removing outliers: 8787.48 \n",
      "Mean if we remove outliers: 2826 \n",
      "Outliers successfully removed \n"
     ]
    },
    {
     "data": {
      "image/png": "[encoded data removed]",
      "text/plain": [
       "Plot with title \"Outlier Check\""
      ]
     },
     "metadata": {},
     "output_type": "display_data"
    }
   ],
   "source": [
    "data = outlierKD(data, volume)"
   ]
  },
  {
   "cell_type": "code",
   "execution_count": 37,
   "metadata": {
    "collapsed": false
   },
   "outputs": [
    {
     "name": "stdout",
     "output_type": "stream",
     "text": [
      "Do you want to remove outliers and to replace with NA? [yes/no]: yes\n",
      "Outliers identified: 98923 \n",
      "Propotion (%) of outliers: 14.6 \n",
      "Mean of the outliers: 65568.91 \n",
      "Mean without removing outliers: 9627.93 \n",
      "Mean if we remove outliers: 1488.26 \n",
      "Outliers successfully removed \n"
     ]
    },
    {
     "data": {
      "image/png": "[encoded data removed]",
      "text/plain": [
       "Plot with title \"Outlier Check\""
      ]
     },
     "metadata": {},
     "output_type": "display_data"
    }
   ],
   "source": [
    "data = outlierKD(data, traffic)"
   ]
  },
  {
   "cell_type": "code",
   "execution_count": 45,
   "metadata": {
    "collapsed": false
   },
   "outputs": [
    {
     "data": {
      "text/html": [
       "<table>\n",
       "<thead><tr><th></th><th scope=col>query</th><th scope=col>volume</th><th scope=col>traffic</th><th scope=col>CTR</th></tr></thead>\n",
       "<tbody>\n",
       "\t<tr><th scope=row>2</th><td>';       </td><td>3146.40  </td><td> 193.9736</td><td>0.15     </td></tr>\n",
       "\t<tr><th scope=row>3</th><td>']       </td><td>3229.61  </td><td> 465.3624</td><td>0.23     </td></tr>\n",
       "\t<tr><th scope=row>4</th><td>'murica  </td><td>3815.20  </td><td> 579.3456</td><td>0.23     </td></tr>\n",
       "\t<tr><th scope=row>5</th><td>'s vs s' </td><td>2591.60  </td><td>2018.0358</td><td>0.35     </td></tr>\n",
       "\t<tr><th scope=row>8</th><td>- in r   </td><td>2502.40  </td><td>4083.2425</td><td>0.11     </td></tr>\n",
       "\t<tr><th scope=row>9</th><td>-&gt; in c </td><td> 930.58    </td><td>1719.7325  </td><td>0.24       </td></tr>\n",
       "</tbody>\n",
       "</table>\n"
      ],
      "text/latex": [
       "\\begin{tabular}{r|llll}\n",
       "  & query & volume & traffic & CTR\\\\\n",
       "\\hline\n",
       "\t2 & ';        & 3146.40   &  193.9736 & 0.15     \\\\\n",
       "\t3 & '{]}       & 3229.61    &  465.3624  & 0.23      \\\\\n",
       "\t4 & 'murica   & 3815.20   &  579.3456 & 0.23     \\\\\n",
       "\t5 & 's vs s'  & 2591.60   & 2018.0358 & 0.35     \\\\\n",
       "\t8 & - in r    & 2502.40   & 4083.2425 & 0.11     \\\\\n",
       "\t9 & -> in c   &  930.58   & 1719.7325 & 0.24     \\\\\n",
       "\\end{tabular}\n"
      ],
      "text/markdown": [
       "\n",
       "| <!--/--> | query | volume | traffic | CTR | \n",
       "|---|---|---|---|---|---|\n",
       "| 2 | ';        | 3146.40   |  193.9736 | 0.15      | \n",
       "| 3 | ']        | 3229.61   |  465.3624 | 0.23      | \n",
       "| 4 | 'murica   | 3815.20   |  579.3456 | 0.23      | \n",
       "| 5 | 's vs s'  | 2591.60   | 2018.0358 | 0.35      | \n",
       "| 8 | - in r    | 2502.40   | 4083.2425 | 0.11      | \n",
       "| 9 | -> in c   |  930.58   | 1719.7325 | 0.24      | \n",
       "\n",
       "\n"
      ],
      "text/plain": [
       "  query    volume  traffic   CTR \n",
       "2 ';       3146.40  193.9736 0.15\n",
       "3 ']       3229.61  465.3624 0.23\n",
       "4 'murica  3815.20  579.3456 0.23\n",
       "5 's vs s' 2591.60 2018.0358 0.35\n",
       "8 - in r   2502.40 4083.2425 0.11\n",
       "9 -> in c   930.58 1719.7325 0.24"
      ]
     },
     "metadata": {},
     "output_type": "display_data"
    }
   ],
   "source": [
    "data <- subset(data, !is.na(CTR) & !is.na(volume) & !is.na(traffic))\n",
    "head(data)"
   ]
  },
  {
   "cell_type": "markdown",
   "metadata": {
    "nbpresent": {
     "id": "0541b928-a1dc-4d9e-ad90-d4a3789e47e1"
    }
   },
   "source": [
    "### Number of unique queries after exclusion"
   ]
  },
  {
   "cell_type": "code",
   "execution_count": 46,
   "metadata": {
    "collapsed": false,
    "nbpresent": {
     "id": "e55ca627-1315-4da4-bb45-10bb0286eafe"
    },
    "scrolled": true
   },
   "outputs": [
    {
     "data": {
      "text/html": [
       "631246"
      ],
      "text/latex": [
       "631246"
      ],
      "text/markdown": [
       "631246"
      ],
      "text/plain": [
       "[1] 631246"
      ]
     },
     "metadata": {},
     "output_type": "display_data"
    }
   ],
   "source": [
    "nrow(data)"
   ]
  },
  {
   "cell_type": "code",
   "execution_count": 47,
   "metadata": {
    "collapsed": true
   },
   "outputs": [],
   "source": [
    "options(repr.plot.width=5, repr.plot.height=4, scipen=8)"
   ]
  },
  {
   "cell_type": "markdown",
   "metadata": {
    "nbpresent": {
     "id": "7de1679a-1d5f-4395-9680-00d20313d538"
    }
   },
   "source": [
    "### Plotting Volume vs Traffic"
   ]
  },
  {
   "cell_type": "code",
   "execution_count": 48,
   "metadata": {
    "collapsed": false,
    "nbpresent": {
     "id": "4eae7807-1531-4bdb-8e36-abb569caa224"
    }
   },
   "outputs": [
    {
     "data": {
      "text/plain": [
       "\n",
       "Call:\n",
       "lm(formula = volume ~ traffic, data = data)\n",
       "\n",
       "Residuals:\n",
       "   Min     1Q Median     3Q    Max \n",
       " -6055  -1106   -483    668   8840 \n",
       "\n",
       "Coefficients:\n",
       "               Estimate  Std. Error t value Pr(>|t|)    \n",
       "(Intercept) 1696.274242    3.381829   501.6   <2e-16 ***\n",
       "traffic        0.738345    0.001865   395.9   <2e-16 ***\n",
       "---\n",
       "Signif. codes:  0 '***' 0.001 '**' 0.01 '*' 0.05 '.' 0.1 ' ' 1\n",
       "\n",
       "Residual standard error: 1830 on 631244 degrees of freedom\n",
       "Multiple R-squared:  0.1989,\tAdjusted R-squared:  0.1989 \n",
       "F-statistic: 1.567e+05 on 1 and 631244 DF,  p-value: < 2.2e-16\n"
      ]
     },
     "metadata": {},
     "output_type": "display_data"
    }
   ],
   "source": [
    "reg1 <- lm(volume~traffic,data=data) \n",
    "summary(reg1)"
   ]
  },
  {
   "cell_type": "code",
   "execution_count": 49,
   "metadata": {
    "collapsed": false,
    "nbpresent": {
     "id": "9e9ba2f4-f27c-47ce-bd16-5e3e76e6e98a"
    }
   },
   "outputs": [
    {
     "data": {
      "image/png": "[encoded data removed]",
      "text/plain": [
       "plot without title"
      ]
     },
     "metadata": {},
     "output_type": "display_data"
    }
   ],
   "source": [
    "with(data, plot(volume, traffic, col=1, cex=0.1))\n",
    "abline(reg1, col=2)"
   ]
  },
  {
   "cell_type": "markdown",
   "metadata": {
    "nbpresent": {
     "id": "eab58a42-2f84-40c2-9e3f-95c31c8e776b"
    }
   },
   "source": [
    "### scatter plot shows the non linear relationship between search volume and traffic"
   ]
  },
  {
   "cell_type": "markdown",
   "metadata": {
    "nbpresent": {
     "id": "70c31382-517a-4d14-bd4c-7cb525ad8db5"
    }
   },
   "source": [
    "### Let's fit a non linear model and look at the correlation"
   ]
  },
  {
   "cell_type": "code",
   "execution_count": 50,
   "metadata": {
    "collapsed": false,
    "nbpresent": {
     "id": "a59ae036-b5df-4be3-a0a2-3f8e1a8b2b80"
    },
    "scrolled": true
   },
   "outputs": [
    {
     "name": "stderr",
     "output_type": "stream",
     "text": [
      "Warning message in nls(traffic ~ a * volume^b, data = data):\n",
      "\"No starting values specified for some parameters.\n",
      "Initializing 'a', 'b' to '1.'.\n",
      "Consider specifying 'start' or using a selfStart model\""
     ]
    },
    {
     "data": {
      "text/html": [
       "<dl class=dl-horizontal>\n",
       "\t<dt>a</dt>\n",
       "\t\t<dd>14.869900441885</dd>\n",
       "\t<dt>b</dt>\n",
       "\t\t<dd>0.576738583856141</dd>\n",
       "</dl>\n"
      ],
      "text/latex": [
       "\\begin{description*}\n",
       "\\item[a] 14.869900441885\n",
       "\\item[b] 0.576738583856141\n",
       "\\end{description*}\n"
      ],
      "text/markdown": [
       "a\n",
       ":   14.869900441885b\n",
       ":   0.576738583856141\n",
       "\n"
      ],
      "text/plain": [
       "         a          b \n",
       "14.8699004  0.5767386 "
      ]
     },
     "metadata": {},
     "output_type": "display_data"
    },
    {
     "data": {
      "text/plain": [
       "\n",
       "Formula: traffic ~ a * volume^b\n",
       "\n",
       "Parameters:\n",
       "   Estimate Std. Error t value Pr(>|t|)    \n",
       "a 14.869900   0.174585   85.17   <2e-16 ***\n",
       "b  0.576739   0.001426  404.52   <2e-16 ***\n",
       "---\n",
       "Signif. codes:  0 '***' 0.001 '**' 0.01 '*' 0.05 '.' 0.1 ' ' 1\n",
       "\n",
       "Residual standard error: 1102 on 631244 degrees of freedom\n",
       "\n",
       "Number of iterations to convergence: 11 \n",
       "Achieved convergence tolerance: 0.0000005517\n"
      ]
     },
     "metadata": {},
     "output_type": "display_data"
    }
   ],
   "source": [
    "# 1. Find the nonlinear relation between volume and traffic\n",
    "fit <- nls(traffic ~ a*volume^b, data=data)\n",
    "# 2. Get its equation\n",
    "coef(fit)\n",
    "# 3. Get its P value\n",
    "summary(fit)"
   ]
  },
  {
   "cell_type": "markdown",
   "metadata": {
    "nbpresent": {
     "id": "21fca22a-3520-47f3-800f-a8997bc43c56"
    }
   },
   "source": [
    "### Correlation:"
   ]
  },
  {
   "cell_type": "code",
   "execution_count": 52,
   "metadata": {
    "collapsed": false,
    "nbpresent": {
     "id": "2e545c11-eaa7-42f0-a60c-1c93d372a803"
    }
   },
   "outputs": [
    {
     "data": {
      "text/html": [
       "0.451797332706573"
      ],
      "text/latex": [
       "0.451797332706573"
      ],
      "text/markdown": [
       "0.451797332706573"
      ],
      "text/plain": [
       "[1] 0.4517973"
      ]
     },
     "metadata": {},
     "output_type": "display_data"
    }
   ],
   "source": [
    "# 4. get correlation coefficient (nonlinear)\n",
    "cor(predict(fit), data$traffic)"
   ]
  },
  {
   "cell_type": "markdown",
   "metadata": {
    "nbpresent": {
     "id": "9cdbd627-aa96-457d-9fb2-f529dab4b894"
    }
   },
   "source": [
    "### Search Volume vs. Traffic"
   ]
  },
  {
   "cell_type": "code",
   "execution_count": 53,
   "metadata": {
    "collapsed": false,
    "nbpresent": {
     "id": "c9ea8f39-9090-4516-a250-879bf41871db"
    }
   },
   "outputs": [
    {
     "data": {
      "image/png": "[encoded data removed]",
      "text/plain": [
       "plot without title"
      ]
     },
     "metadata": {},
     "output_type": "display_data"
    }
   ],
   "source": [
    "# 5. Plot this curve\n",
    "newdat <- data.frame(volume=seq(min(data$volume), max(data$volume),,100))\n",
    "newdat$traffic <- predict(fit, newdat)\n",
    "plot(traffic ~ volume, data, col=1, cex=0.1)\n",
    "lines(traffic ~ volume, newdat, col=2)"
   ]
  },
  {
   "cell_type": "markdown",
   "metadata": {
    "nbpresent": {
     "id": "a7cd3d05-0d59-4e7a-af7b-7b4fe44b5930"
    }
   },
   "source": [
    "### Just another approach ..."
   ]
  },
  {
   "cell_type": "code",
   "execution_count": 54,
   "metadata": {
    "collapsed": false,
    "nbpresent": {
     "id": "58f0aaed-3cc3-4d7c-b12a-c1a861f3f273"
    },
    "scrolled": false
   },
   "outputs": [
    {
     "data": {
      "text/html": [
       "<dl class=dl-horizontal>\n",
       "\t<dt>(Intercept)</dt>\n",
       "\t\t<dd>1327.81869209831</dd>\n",
       "\t<dt>s(volume).1</dt>\n",
       "\t\t<dd>79.4197589526129</dd>\n",
       "\t<dt>s(volume).2</dt>\n",
       "\t\t<dd>183.041024602765</dd>\n",
       "\t<dt>s(volume).3</dt>\n",
       "\t\t<dd>245.606126030471</dd>\n",
       "\t<dt>s(volume).4</dt>\n",
       "\t\t<dd>152.641523941582</dd>\n",
       "\t<dt>s(volume).5</dt>\n",
       "\t\t<dd>-11.0289833796687</dd>\n",
       "\t<dt>s(volume).6</dt>\n",
       "\t\t<dd>-121.944277812069</dd>\n",
       "\t<dt>s(volume).7</dt>\n",
       "\t\t<dd>-163.898591458394</dd>\n",
       "\t<dt>s(volume).8</dt>\n",
       "\t\t<dd>399.273971175369</dd>\n",
       "\t<dt>s(volume).9</dt>\n",
       "\t\t<dd>674.889041333217</dd>\n",
       "</dl>\n"
      ],
      "text/latex": [
       "\\begin{description*}\n",
       "\\item[(Intercept)] 1327.81869209831\n",
       "\\item[s(volume).1] 79.4197589526129\n",
       "\\item[s(volume).2] 183.041024602765\n",
       "\\item[s(volume).3] 245.606126030471\n",
       "\\item[s(volume).4] 152.641523941582\n",
       "\\item[s(volume).5] -11.0289833796687\n",
       "\\item[s(volume).6] -121.944277812069\n",
       "\\item[s(volume).7] -163.898591458394\n",
       "\\item[s(volume).8] 399.273971175369\n",
       "\\item[s(volume).9] 674.889041333217\n",
       "\\end{description*}\n"
      ],
      "text/markdown": [
       "(Intercept)\n",
       ":   1327.81869209831s(volume).1\n",
       ":   79.4197589526129s(volume).2\n",
       ":   183.041024602765s(volume).3\n",
       ":   245.606126030471s(volume).4\n",
       ":   152.641523941582s(volume).5\n",
       ":   -11.0289833796687s(volume).6\n",
       ":   -121.944277812069s(volume).7\n",
       ":   -163.898591458394s(volume).8\n",
       ":   399.273971175369s(volume).9\n",
       ":   674.889041333217\n",
       "\n"
      ],
      "text/plain": [
       "(Intercept) s(volume).1 s(volume).2 s(volume).3 s(volume).4 s(volume).5 \n",
       " 1327.81869    79.41976   183.04102   245.60613   152.64152   -11.02898 \n",
       "s(volume).6 s(volume).7 s(volume).8 s(volume).9 \n",
       " -121.94428  -163.89859   399.27397   674.88904 "
      ]
     },
     "metadata": {},
     "output_type": "display_data"
    },
    {
     "data": {
      "text/plain": [
       "\n",
       "Family: gaussian \n",
       "Link function: identity \n",
       "\n",
       "Formula:\n",
       "traffic ~ s(volume)\n",
       "\n",
       "Parametric coefficients:\n",
       "            Estimate Std. Error t value Pr(>|t|)    \n",
       "(Intercept) 1327.819      1.385   958.4   <2e-16 ***\n",
       "---\n",
       "Signif. codes:  0 '***' 0.001 '**' 0.01 '*' 0.05 '.' 0.1 ' ' 1\n",
       "\n",
       "Approximate significance of smooth terms:\n",
       "            edf Ref.df     F p-value    \n",
       "s(volume) 8.918  8.998 18152  <2e-16 ***\n",
       "---\n",
       "Signif. codes:  0 '***' 0.001 '**' 0.01 '*' 0.05 '.' 0.1 ' ' 1\n",
       "\n",
       "R-sq.(adj) =  0.206   Deviance explained = 20.6%\n",
       "GCV = 1.2117e+06  Scale est. = 1.2117e+06  n = 631246"
      ]
     },
     "metadata": {},
     "output_type": "display_data"
    }
   ],
   "source": [
    "## GAM\n",
    "\n",
    "# 1. Find the nonlinear relation between volume and traffic\n",
    "library(mgcv)\n",
    "fit <- gam(traffic ~ s(volume), data=data)\n",
    "# 2. Get its equation\n",
    "coef(fit)\n",
    "\n",
    "# 3. Get its P value\n",
    "summary(fit)"
   ]
  },
  {
   "cell_type": "markdown",
   "metadata": {
    "nbpresent": {
     "id": "78daa8f8-37cb-42c6-afdd-1f3d5556ae46"
    }
   },
   "source": [
    "### Correlation is close to the previous approach"
   ]
  },
  {
   "cell_type": "code",
   "execution_count": 55,
   "metadata": {
    "collapsed": false,
    "nbpresent": {
     "id": "1a56dde7-e8cb-458b-b06c-e16015eb5c94"
    }
   },
   "outputs": [
    {
     "data": {
      "text/html": [
       "0.453387532970423"
      ],
      "text/latex": [
       "0.453387532970423"
      ],
      "text/markdown": [
       "0.453387532970423"
      ],
      "text/plain": [
       "[1] 0.4533875"
      ]
     },
     "metadata": {},
     "output_type": "display_data"
    }
   ],
   "source": [
    "# 4. get correlation coefficient (nonlinear)\n",
    "cor(predict(fit), data$traffic)"
   ]
  },
  {
   "cell_type": "code",
   "execution_count": 56,
   "metadata": {
    "collapsed": false,
    "nbpresent": {
     "id": "8be27b90-f1fc-46bc-8858-a91ce52637c1"
    },
    "scrolled": false
   },
   "outputs": [
    {
     "data": {
      "image/png": "[encoded data removed]",
      "text/plain": [
       "plot without title"
      ]
     },
     "metadata": {},
     "output_type": "display_data"
    }
   ],
   "source": [
    "# 5. Plot this curve\n",
    "newdat <- data.frame(volume=seq(min(data$volume), max(data$volume),,100))\n",
    "newdat$traffic <- predict(fit, newdat)\n",
    "plot(traffic ~ volume, data)\n",
    "lines(traffic ~ volume, newdat, col=2)"
   ]
  },
  {
   "cell_type": "code",
   "execution_count": 57,
   "metadata": {
    "collapsed": false
   },
   "outputs": [
    {
     "data": {
      "text/html": [
       "98483"
      ],
      "text/latex": [
       "98483"
      ],
      "text/markdown": [
       "98483"
      ],
      "text/plain": [
       "[1] 98483"
      ]
     },
     "metadata": {},
     "output_type": "display_data"
    }
   ],
   "source": [
    "nrow(subset(data, volume > mean(data$volume) & traffic < mean(data$traffic)))"
   ]
  },
  {
   "cell_type": "code",
   "execution_count": 58,
   "metadata": {
    "collapsed": false
   },
   "outputs": [
    {
     "data": {
      "text/html": [
       "86483"
      ],
      "text/latex": [
       "86483"
      ],
      "text/markdown": [
       "86483"
      ],
      "text/plain": [
       "[1] 86483"
      ]
     },
     "metadata": {},
     "output_type": "display_data"
    }
   ],
   "source": [
    "nrow(subset(data, volume < mean(data$volume) & traffic > mean(data$traffic)))"
   ]
  },
  {
   "cell_type": "markdown",
   "metadata": {
    "nbpresent": {
     "id": "26c74056-25b2-4512-a191-8cef2f9eebbe"
    }
   },
   "source": [
    "### 100 keywords with more Volume but less Traffic"
   ]
  },
  {
   "cell_type": "code",
   "execution_count": 83,
   "metadata": {
    "collapsed": false,
    "nbpresent": {
     "id": "c77c8559-4ed9-4adb-ad9a-f61c7b84912f"
    }
   },
   "outputs": [
    {
     "data": {
      "text/html": [
       "104"
      ],
      "text/latex": [
       "104"
      ],
      "text/markdown": [
       "104"
      ],
      "text/plain": [
       "[1] 104"
      ]
     },
     "metadata": {},
     "output_type": "display_data"
    }
   ],
   "source": [
    "topVol_lessTraf <- subset(data, volume > quantile(data$volume, .908) & traffic < quantile(data$traffic, 0.092))\n",
    "nrow(topVol_lessTraf)"
   ]
  },
  {
   "cell_type": "code",
   "execution_count": 84,
   "metadata": {
    "collapsed": false,
    "nbpresent": {
     "id": "37547330-d495-4a72-a6a8-9eb23031cabf"
    },
    "scrolled": true
   },
   "outputs": [
    {
     "data": {
      "text/html": [
       "<table>\n",
       "<thead><tr><th></th><th scope=col>query</th><th scope=col>volume</th><th scope=col>traffic</th><th scope=col>CTR</th></tr></thead>\n",
       "<tbody>\n",
       "\t<tr><th scope=row>231361</th><td>erin everly        </td><td>10142.54           </td><td> 38.83302          </td><td>0.18               </td></tr>\n",
       "\t<tr><th scope=row>18069</th><td>ace combat infinity</td><td> 9782.82           </td><td>204.74497          </td><td>0.26               </td></tr>\n",
       "\t<tr><th scope=row>344137</th><td>iglesia            </td><td> 9415.28           </td><td>290.60518          </td><td>0.15               </td></tr>\n",
       "\t<tr><th scope=row>505673</th><td>oh shit            </td><td> 9282.34           </td><td> 66.86009          </td><td>0.22               </td></tr>\n",
       "\t<tr><th scope=row>700551</th><td>train crash        </td><td> 9196.32           </td><td> 23.88031          </td><td>0.06               </td></tr>\n",
       "\t<tr><th scope=row>603256</th><td>scarring           </td><td> 9071.20           </td><td>147.00560          </td><td>0.38               </td></tr>\n",
       "</tbody>\n",
       "</table>\n"
      ],
      "text/latex": [
       "\\begin{tabular}{r|llll}\n",
       "  & query & volume & traffic & CTR\\\\\n",
       "\\hline\n",
       "\t231361 & erin everly         & 10142.54            &  38.83302           & 0.18               \\\\\n",
       "\t18069 & ace combat infinity &  9782.82            & 204.74497           & 0.26               \\\\\n",
       "\t344137 & iglesia             &  9415.28            & 290.60518           & 0.15               \\\\\n",
       "\t505673 & oh shit             &  9282.34            &  66.86009           & 0.22               \\\\\n",
       "\t700551 & train crash         &  9196.32            &  23.88031           & 0.06               \\\\\n",
       "\t603256 & scarring            &  9071.20            & 147.00560           & 0.38               \\\\\n",
       "\\end{tabular}\n"
      ],
      "text/markdown": [
       "\n",
       "| <!--/--> | query | volume | traffic | CTR | \n",
       "|---|---|---|---|---|---|\n",
       "| 231361 | erin everly         | 10142.54            |  38.83302           | 0.18                | \n",
       "| 18069 | ace combat infinity |  9782.82            | 204.74497           | 0.26                | \n",
       "| 344137 | iglesia             |  9415.28            | 290.60518           | 0.15                | \n",
       "| 505673 | oh shit             |  9282.34            |  66.86009           | 0.22                | \n",
       "| 700551 | train crash         |  9196.32            |  23.88031           | 0.06                | \n",
       "| 603256 | scarring            |  9071.20            | 147.00560           | 0.38                | \n",
       "\n",
       "\n"
      ],
      "text/plain": [
       "       query               volume   traffic   CTR \n",
       "231361 erin everly         10142.54  38.83302 0.18\n",
       "18069  ace combat infinity  9782.82 204.74497 0.26\n",
       "344137 iglesia              9415.28 290.60518 0.15\n",
       "505673 oh shit              9282.34  66.86009 0.22\n",
       "700551 train crash          9196.32  23.88031 0.06\n",
       "603256 scarring             9071.20 147.00560 0.38"
      ]
     },
     "metadata": {},
     "output_type": "display_data"
    }
   ],
   "source": [
    "topVol_lessTraf  <- topVol_lessTraf[order(topVol_lessTraf$volume, decreasing=T),]\n",
    "topVol_lessTraf <- head(topVol_lessTraf, n=100)\n",
    "head(topVol_lessTraf)"
   ]
  },
  {
   "cell_type": "code",
   "execution_count": 85,
   "metadata": {
    "collapsed": false,
    "nbpresent": {
     "id": "82127c60-3a8b-4a98-b5d3-a26bd9857a55"
    }
   },
   "outputs": [
    {
     "data": {
      "text/html": [
       "<ol class=list-inline>\n",
       "\t<li>erin everly</li>\n",
       "\t<li>ace combat infinity</li>\n",
       "\t<li>iglesia</li>\n",
       "\t<li>oh shit</li>\n",
       "\t<li>train crash</li>\n",
       "\t<li>scarring</li>\n",
       "\t<li>theresa</li>\n",
       "\t<li>paul george shoes</li>\n",
       "\t<li>new directions</li>\n",
       "\t<li>shopping king louie</li>\n",
       "\t<li>mega dragonite</li>\n",
       "\t<li>hambre</li>\n",
       "\t<li>sophie turner height</li>\n",
       "\t<li>mapache</li>\n",
       "\t<li>chelsea tallarico</li>\n",
       "\t<li>ngl meaning</li>\n",
       "\t<li>compared</li>\n",
       "\t<li>msk</li>\n",
       "\t<li>anecdotal definition</li>\n",
       "\t<li>hilarity</li>\n",
       "\t<li>remark</li>\n",
       "\t<li>jolly</li>\n",
       "\t<li>syncopate</li>\n",
       "\t<li>brow</li>\n",
       "\t<li>leslie jones hacked</li>\n",
       "\t<li>hazel moder</li>\n",
       "\t<li>winnow</li>\n",
       "\t<li>spiderman symbol</li>\n",
       "\t<li>rabble</li>\n",
       "\t<li>jeez</li>\n",
       "\t<li>filtrate</li>\n",
       "\t<li>otcmkts:fmcc</li>\n",
       "\t<li>mann</li>\n",
       "\t<li>massa</li>\n",
       "\t<li>sooth</li>\n",
       "\t<li>georgia abbreviation</li>\n",
       "\t<li>improper</li>\n",
       "\t<li>you mean the world to me</li>\n",
       "\t<li>festive</li>\n",
       "\t<li>sued</li>\n",
       "\t<li>maquillaje</li>\n",
       "\t<li>backflip</li>\n",
       "\t<li>chris evans height</li>\n",
       "\t<li>legislative branch definition</li>\n",
       "\t<li>fright</li>\n",
       "\t<li>equal justice initiative</li>\n",
       "\t<li>tommy gunn</li>\n",
       "\t<li>nasdaq:bbep</li>\n",
       "\t<li>pouty</li>\n",
       "\t<li>farrow</li>\n",
       "\t<li>pent</li>\n",
       "\t<li>halo logo</li>\n",
       "\t<li>josie</li>\n",
       "\t<li>kentucky abbreviation</li>\n",
       "\t<li>lil ron ron</li>\n",
       "\t<li>verticle</li>\n",
       "\t<li>paunch</li>\n",
       "\t<li>tomate</li>\n",
       "\t<li>james franco net worth</li>\n",
       "\t<li>puffy</li>\n",
       "\t<li>gallantry</li>\n",
       "\t<li>seth rogen net worth</li>\n",
       "\t<li>bac stands for</li>\n",
       "\t<li>jennette mccurdy puberty done right</li>\n",
       "\t<li>gent</li>\n",
       "\t<li>shy girl</li>\n",
       "\t<li>mermaid videos</li>\n",
       "\t<li>army wives cast</li>\n",
       "\t<li>miles brockman richie</li>\n",
       "\t<li>ely</li>\n",
       "\t<li>marketplace.gov</li>\n",
       "\t<li>odium</li>\n",
       "\t<li>eme</li>\n",
       "\t<li>nyse:nvo</li>\n",
       "\t<li>bickering</li>\n",
       "\t<li>predatory</li>\n",
       "\t<li>sealed</li>\n",
       "\t<li>homebound</li>\n",
       "\t<li>zanahoria</li>\n",
       "\t<li>time magazine subscription</li>\n",
       "\t<li>settled</li>\n",
       "\t<li>intemperate</li>\n",
       "\t<li>venial</li>\n",
       "\t<li>desparate</li>\n",
       "\t<li>itt meaning</li>\n",
       "\t<li>lil yachty lil boat</li>\n",
       "\t<li>spiral perm</li>\n",
       "\t<li>fts</li>\n",
       "\t<li>unpretentious</li>\n",
       "\t<li>gustation</li>\n",
       "\t<li>nyse:aem</li>\n",
       "\t<li>heads</li>\n",
       "\t<li>marginally</li>\n",
       "\t<li>matt ryan wife</li>\n",
       "\t<li>ery</li>\n",
       "\t<li>hobbyist</li>\n",
       "\t<li>proud of you</li>\n",
       "\t<li>advised</li>\n",
       "\t<li>bene</li>\n",
       "\t<li>aby</li>\n",
       "</ol>\n"
      ],
      "text/latex": [
       "\\begin{enumerate*}\n",
       "\\item erin everly\n",
       "\\item ace combat infinity\n",
       "\\item iglesia\n",
       "\\item oh shit\n",
       "\\item train crash\n",
       "\\item scarring\n",
       "\\item theresa\n",
       "\\item paul george shoes\n",
       "\\item new directions\n",
       "\\item shopping king louie\n",
       "\\item mega dragonite\n",
       "\\item hambre\n",
       "\\item sophie turner height\n",
       "\\item mapache\n",
       "\\item chelsea tallarico\n",
       "\\item ngl meaning\n",
       "\\item compared\n",
       "\\item msk\n",
       "\\item anecdotal definition\n",
       "\\item hilarity\n",
       "\\item remark\n",
       "\\item jolly\n",
       "\\item syncopate\n",
       "\\item brow\n",
       "\\item leslie jones hacked\n",
       "\\item hazel moder\n",
       "\\item winnow\n",
       "\\item spiderman symbol\n",
       "\\item rabble\n",
       "\\item jeez\n",
       "\\item filtrate\n",
       "\\item otcmkts:fmcc\n",
       "\\item mann\n",
       "\\item massa\n",
       "\\item sooth\n",
       "\\item georgia abbreviation\n",
       "\\item improper\n",
       "\\item you mean the world to me\n",
       "\\item festive\n",
       "\\item sued\n",
       "\\item maquillaje\n",
       "\\item backflip\n",
       "\\item chris evans height\n",
       "\\item legislative branch definition\n",
       "\\item fright\n",
       "\\item equal justice initiative\n",
       "\\item tommy gunn\n",
       "\\item nasdaq:bbep\n",
       "\\item pouty\n",
       "\\item farrow\n",
       "\\item pent\n",
       "\\item halo logo\n",
       "\\item josie\n",
       "\\item kentucky abbreviation\n",
       "\\item lil ron ron\n",
       "\\item verticle\n",
       "\\item paunch\n",
       "\\item tomate\n",
       "\\item james franco net worth\n",
       "\\item puffy\n",
       "\\item gallantry\n",
       "\\item seth rogen net worth\n",
       "\\item bac stands for\n",
       "\\item jennette mccurdy puberty done right\n",
       "\\item gent\n",
       "\\item shy girl\n",
       "\\item mermaid videos\n",
       "\\item army wives cast\n",
       "\\item miles brockman richie\n",
       "\\item ely\n",
       "\\item marketplace.gov\n",
       "\\item odium\n",
       "\\item eme\n",
       "\\item nyse:nvo\n",
       "\\item bickering\n",
       "\\item predatory\n",
       "\\item sealed\n",
       "\\item homebound\n",
       "\\item zanahoria\n",
       "\\item time magazine subscription\n",
       "\\item settled\n",
       "\\item intemperate\n",
       "\\item venial\n",
       "\\item desparate\n",
       "\\item itt meaning\n",
       "\\item lil yachty lil boat\n",
       "\\item spiral perm\n",
       "\\item fts\n",
       "\\item unpretentious\n",
       "\\item gustation\n",
       "\\item nyse:aem\n",
       "\\item heads\n",
       "\\item marginally\n",
       "\\item matt ryan wife\n",
       "\\item ery\n",
       "\\item hobbyist\n",
       "\\item proud of you\n",
       "\\item advised\n",
       "\\item bene\n",
       "\\item aby\n",
       "\\end{enumerate*}\n"
      ],
      "text/markdown": [
       "1. erin everly\n",
       "2. ace combat infinity\n",
       "3. iglesia\n",
       "4. oh shit\n",
       "5. train crash\n",
       "6. scarring\n",
       "7. theresa\n",
       "8. paul george shoes\n",
       "9. new directions\n",
       "10. shopping king louie\n",
       "11. mega dragonite\n",
       "12. hambre\n",
       "13. sophie turner height\n",
       "14. mapache\n",
       "15. chelsea tallarico\n",
       "16. ngl meaning\n",
       "17. compared\n",
       "18. msk\n",
       "19. anecdotal definition\n",
       "20. hilarity\n",
       "21. remark\n",
       "22. jolly\n",
       "23. syncopate\n",
       "24. brow\n",
       "25. leslie jones hacked\n",
       "26. hazel moder\n",
       "27. winnow\n",
       "28. spiderman symbol\n",
       "29. rabble\n",
       "30. jeez\n",
       "31. filtrate\n",
       "32. otcmkts:fmcc\n",
       "33. mann\n",
       "34. massa\n",
       "35. sooth\n",
       "36. georgia abbreviation\n",
       "37. improper\n",
       "38. you mean the world to me\n",
       "39. festive\n",
       "40. sued\n",
       "41. maquillaje\n",
       "42. backflip\n",
       "43. chris evans height\n",
       "44. legislative branch definition\n",
       "45. fright\n",
       "46. equal justice initiative\n",
       "47. tommy gunn\n",
       "48. nasdaq:bbep\n",
       "49. pouty\n",
       "50. farrow\n",
       "51. pent\n",
       "52. halo logo\n",
       "53. josie\n",
       "54. kentucky abbreviation\n",
       "55. lil ron ron\n",
       "56. verticle\n",
       "57. paunch\n",
       "58. tomate\n",
       "59. james franco net worth\n",
       "60. puffy\n",
       "61. gallantry\n",
       "62. seth rogen net worth\n",
       "63. bac stands for\n",
       "64. jennette mccurdy puberty done right\n",
       "65. gent\n",
       "66. shy girl\n",
       "67. mermaid videos\n",
       "68. army wives cast\n",
       "69. miles brockman richie\n",
       "70. ely\n",
       "71. marketplace.gov\n",
       "72. odium\n",
       "73. eme\n",
       "74. nyse:nvo\n",
       "75. bickering\n",
       "76. predatory\n",
       "77. sealed\n",
       "78. homebound\n",
       "79. zanahoria\n",
       "80. time magazine subscription\n",
       "81. settled\n",
       "82. intemperate\n",
       "83. venial\n",
       "84. desparate\n",
       "85. itt meaning\n",
       "86. lil yachty lil boat\n",
       "87. spiral perm\n",
       "88. fts\n",
       "89. unpretentious\n",
       "90. gustation\n",
       "91. nyse:aem\n",
       "92. heads\n",
       "93. marginally\n",
       "94. matt ryan wife\n",
       "95. ery\n",
       "96. hobbyist\n",
       "97. proud of you\n",
       "98. advised\n",
       "99. bene\n",
       "100. aby\n",
       "\n",
       "\n"
      ],
      "text/plain": [
       "  [1] erin everly                         ace combat infinity                \n",
       "  [3] iglesia                             oh shit                            \n",
       "  [5] train crash                         scarring                           \n",
       "  [7] theresa                             paul george shoes                  \n",
       "  [9] new directions                      shopping king louie                \n",
       " [11] mega dragonite                      hambre                             \n",
       " [13] sophie turner height                mapache                            \n",
       " [15] chelsea tallarico                   ngl meaning                        \n",
       " [17] compared                            msk                                \n",
       " [19] anecdotal definition                hilarity                           \n",
       " [21] remark                              jolly                              \n",
       " [23] syncopate                           brow                               \n",
       " [25] leslie jones hacked                 hazel moder                        \n",
       " [27] winnow                              spiderman symbol                   \n",
       " [29] rabble                              jeez                               \n",
       " [31] filtrate                            otcmkts:fmcc                       \n",
       " [33] mann                                massa                              \n",
       " [35] sooth                               georgia abbreviation               \n",
       " [37] improper                            you mean the world to me           \n",
       " [39] festive                             sued                               \n",
       " [41] maquillaje                          backflip                           \n",
       " [43] chris evans height                  legislative branch definition      \n",
       " [45] fright                              equal justice initiative           \n",
       " [47] tommy gunn                          nasdaq:bbep                        \n",
       " [49] pouty                               farrow                             \n",
       " [51] pent                                halo logo                          \n",
       " [53] josie                               kentucky abbreviation              \n",
       " [55] lil ron ron                         verticle                           \n",
       " [57] paunch                              tomate                             \n",
       " [59] james franco net worth              puffy                              \n",
       " [61] gallantry                           seth rogen net worth               \n",
       " [63] bac stands for                      jennette mccurdy puberty done right\n",
       " [65] gent                                shy girl                           \n",
       " [67] mermaid videos                      army wives cast                    \n",
       " [69] miles brockman richie               ely                                \n",
       " [71] marketplace.gov                     odium                              \n",
       " [73] eme                                 nyse:nvo                           \n",
       " [75] bickering                           predatory                          \n",
       " [77] sealed                              homebound                          \n",
       " [79] zanahoria                           time magazine subscription         \n",
       " [81] settled                             intemperate                        \n",
       " [83] venial                              desparate                          \n",
       " [85] itt meaning                         lil yachty lil boat                \n",
       " [87] spiral perm                         fts                                \n",
       " [89] unpretentious                       gustation                          \n",
       " [91] nyse:aem                            heads                              \n",
       " [93] marginally                          matt ryan wife                     \n",
       " [95] ery                                 hobbyist                           \n",
       " [97] proud of you                        advised                            \n",
       " [99] bene                                aby                                \n",
       "1995207 Levels:  ' '-' '/ '; '[ '\\\\ '] ... zzzzzzz"
      ]
     },
     "metadata": {},
     "output_type": "display_data"
    }
   ],
   "source": [
    "topVol_lessTraf$query"
   ]
  },
  {
   "cell_type": "markdown",
   "metadata": {
    "nbpresent": {
     "id": "4d42f1fd-f02c-494c-8740-70efdfd7876c"
    }
   },
   "source": [
    "### 100 Keywords with more Traffic but less Volume"
   ]
  },
  {
   "cell_type": "code",
   "execution_count": 69,
   "metadata": {
    "collapsed": false,
    "nbpresent": {
     "id": "b556ba5b-16bb-48f9-b895-c9c970c8a54b"
    }
   },
   "outputs": [
    {
     "data": {
      "text/html": [
       "102"
      ],
      "text/latex": [
       "102"
      ],
      "text/markdown": [
       "102"
      ],
      "text/plain": [
       "[1] 102"
      ]
     },
     "metadata": {},
     "output_type": "display_data"
    }
   ],
   "source": [
    "topTraf_lessVol <- subset(data, traffic > quantile(data$traffic, 0.958) & volume < quantile(data$volume, .042))\n",
    "nrow(topTraf_lessVol)"
   ]
  },
  {
   "cell_type": "code",
   "execution_count": 70,
   "metadata": {
    "collapsed": false,
    "nbpresent": {
     "id": "958b4b6d-692a-4679-b7ed-d15c2556a996"
    }
   },
   "outputs": [
    {
     "data": {
      "text/html": [
       "<table>\n",
       "<thead><tr><th></th><th scope=col>query</th><th scope=col>volume</th><th scope=col>traffic</th><th scope=col>CTR</th></tr></thead>\n",
       "<tbody>\n",
       "\t<tr><th scope=row>294183</th><td>grocery budget for 1         </td><td>519.53                       </td><td>6539.296                     </td><td>0.25                         </td></tr>\n",
       "\t<tr><th scope=row>326436</th><td>how to claim powerball       </td><td>633.42                       </td><td>6538.331                     </td><td>0.35                         </td></tr>\n",
       "\t<tr><th scope=row>366046</th><td>jeep patriot reliability     </td><td>616.26                       </td><td>6518.999                     </td><td>0.15                         </td></tr>\n",
       "\t<tr><th scope=row>256401</th><td>flowers that bloom all summer</td><td>513.75                       </td><td>6502.415                     </td><td>0.16                         </td></tr>\n",
       "\t<tr><th scope=row>315444</th><td>hoax websites                </td><td>489.65                       </td><td>6464.636                     </td><td>0.32                         </td></tr>\n",
       "\t<tr><th scope=row>536204</th><td>pieology promo code          </td><td>523.94                       </td><td>6454.256                     </td><td>0.26                         </td></tr>\n",
       "</tbody>\n",
       "</table>\n"
      ],
      "text/latex": [
       "\\begin{tabular}{r|llll}\n",
       "  & query & volume & traffic & CTR\\\\\n",
       "\\hline\n",
       "\t294183 & grocery budget for 1          & 519.53                        & 6539.296                      & 0.25                         \\\\\n",
       "\t326436 & how to claim powerball        & 633.42                        & 6538.331                      & 0.35                         \\\\\n",
       "\t366046 & jeep patriot reliability      & 616.26                        & 6518.999                      & 0.15                         \\\\\n",
       "\t256401 & flowers that bloom all summer & 513.75                        & 6502.415                      & 0.16                         \\\\\n",
       "\t315444 & hoax websites                 & 489.65                        & 6464.636                      & 0.32                         \\\\\n",
       "\t536204 & pieology promo code           & 523.94                        & 6454.256                      & 0.26                         \\\\\n",
       "\\end{tabular}\n"
      ],
      "text/markdown": [
       "\n",
       "| <!--/--> | query | volume | traffic | CTR | \n",
       "|---|---|---|---|---|---|\n",
       "| 294183 | grocery budget for 1          | 519.53                        | 6539.296                      | 0.25                          | \n",
       "| 326436 | how to claim powerball        | 633.42                        | 6538.331                      | 0.35                          | \n",
       "| 366046 | jeep patriot reliability      | 616.26                        | 6518.999                      | 0.15                          | \n",
       "| 256401 | flowers that bloom all summer | 513.75                        | 6502.415                      | 0.16                          | \n",
       "| 315444 | hoax websites                 | 489.65                        | 6464.636                      | 0.32                          | \n",
       "| 536204 | pieology promo code           | 523.94                        | 6454.256                      | 0.26                          | \n",
       "\n",
       "\n"
      ],
      "text/plain": [
       "       query                         volume traffic  CTR \n",
       "294183 grocery budget for 1          519.53 6539.296 0.25\n",
       "326436 how to claim powerball        633.42 6538.331 0.35\n",
       "366046 jeep patriot reliability      616.26 6518.999 0.15\n",
       "256401 flowers that bloom all summer 513.75 6502.415 0.16\n",
       "315444 hoax websites                 489.65 6464.636 0.32\n",
       "536204 pieology promo code           523.94 6454.256 0.26"
      ]
     },
     "metadata": {},
     "output_type": "display_data"
    }
   ],
   "source": [
    "topTraf_lessVol <- topTraf_lessVol[order(topTraf_lessVol$traffic, decreasing=T),]\n",
    "topTraf_lessVol <- head(topTraf_lessVol, n=100)\n",
    "head(topTraf_lessVol)"
   ]
  },
  {
   "cell_type": "code",
   "execution_count": 71,
   "metadata": {
    "collapsed": false,
    "nbpresent": {
     "id": "9680a07f-8501-4277-b67b-6c554959bec9"
    }
   },
   "outputs": [
    {
     "data": {
      "text/html": [
       "<ol class=list-inline>\n",
       "\t<li>grocery budget for 1</li>\n",
       "\t<li>how to claim powerball</li>\n",
       "\t<li>jeep patriot reliability</li>\n",
       "\t<li>flowers that bloom all summer</li>\n",
       "\t<li>hoax websites</li>\n",
       "\t<li>pieology promo code</li>\n",
       "\t<li>las vegas this weekend</li>\n",
       "\t<li>how to access blocked websites</li>\n",
       "\t<li>planet fitness 30 minute workout</li>\n",
       "\t<li>crock pot black eyed peas</li>\n",
       "\t<li>us army webmail</li>\n",
       "\t<li>stardew valley cheat codes</li>\n",
       "\t<li>deadpool movie putlockers</li>\n",
       "\t<li>steel ball run color</li>\n",
       "\t<li>game of thrones weapons</li>\n",
       "\t<li>when does dragon ball super take place</li>\n",
       "\t<li>roblox passwords</li>\n",
       "\t<li>emailing resume</li>\n",
       "\t<li>delta lost baggage</li>\n",
       "\t<li>how to ship frozen food</li>\n",
       "\t<li>jacques torres chocolate chip cookies</li>\n",
       "\t<li>signs wife is cheating</li>\n",
       "\t<li>defeat a powerful fallen with drang</li>\n",
       "\t<li>civil war reenactment gear</li>\n",
       "\t<li>mac other storage</li>\n",
       "\t<li>fist fight full movie 123movies</li>\n",
       "\t<li>idiocracy free online</li>\n",
       "\t<li>baby vision</li>\n",
       "\t<li>get out hd stream</li>\n",
       "\t<li>number of abortions</li>\n",
       "\t<li>ubuntu samba</li>\n",
       "\t<li>sheer babydoll</li>\n",
       "\t<li>dcth news</li>\n",
       "\t<li>metal panel texture</li>\n",
       "\t<li>best etf to buy</li>\n",
       "\t<li>youtube an error occurred please try again later</li>\n",
       "\t<li>flip flappers wiki</li>\n",
       "\t<li>floating point representation</li>\n",
       "\t<li>how to watch live tv on roku</li>\n",
       "\t<li>photoshop sharpen image</li>\n",
       "\t<li>ar 15 slide fire</li>\n",
       "\t<li>fifty shades darker stream</li>\n",
       "\t<li>best ass gifs</li>\n",
       "\t<li>powerball anonymous</li>\n",
       "\t<li>nude dancing girls</li>\n",
       "\t<li>pokemon x and y emulator for pc</li>\n",
       "\t<li>pulled bullets</li>\n",
       "\t<li>week 5 te rankings</li>\n",
       "\t<li>fare calendar</li>\n",
       "\t<li>dia de todos los santos</li>\n",
       "\t<li>iphone emojis for android</li>\n",
       "\t<li>colleges and universities near me</li>\n",
       "\t<li>best iphone apps 2015</li>\n",
       "\t<li>sexyvideos</li>\n",
       "\t<li>ar 15 22 conversion kit</li>\n",
       "\t<li>ebay buyer not paying</li>\n",
       "\t<li>grand canyon helicopter tour from las vegas</li>\n",
       "\t<li>best pc for video editing</li>\n",
       "\t<li>jack reacher never go back watch online putlockers</li>\n",
       "\t<li>best va loan lenders</li>\n",
       "\t<li>bard instruments 5e</li>\n",
       "\t<li>pan's labyrinth full movie english subtitles</li>\n",
       "\t<li>trump protest sign ideas</li>\n",
       "\t<li>personal mission statement generator</li>\n",
       "\t<li>rick and morty s1e3</li>\n",
       "\t<li>htc one m8 wont turn on</li>\n",
       "\t<li>jetblue enrollment code</li>\n",
       "\t<li>e60 m5 for sale</li>\n",
       "\t<li>ffxiv flying</li>\n",
       "\t<li>difference between blazer and suit</li>\n",
       "\t<li>cannabis clones</li>\n",
       "\t<li>polar equation to rectangular equation calculator</li>\n",
       "\t<li>character strengths and weaknesses</li>\n",
       "\t<li>jew puns</li>\n",
       "\t<li>how to wear a maxi skirt</li>\n",
       "\t<li>america vs tigres en vivo</li>\n",
       "\t<li>cardinals vs panthers live stream</li>\n",
       "\t<li>dining chairs with casters</li>\n",
       "\t<li>how to start hacking</li>\n",
       "\t<li>best dps ffxiv</li>\n",
       "\t<li>windows 10 text to speech voices</li>\n",
       "\t<li>parts interchange</li>\n",
       "\t<li>brandblack j crossover 2</li>\n",
       "\t<li>windows 10 network discovery</li>\n",
       "\t<li>badrinath ki dulhania full movie watch online</li>\n",
       "\t<li>watch dragon ball super episode 105</li>\n",
       "\t<li>dehumidifier sale</li>\n",
       "\t<li>paladins giveaway</li>\n",
       "\t<li>cannabis flowering stages</li>\n",
       "\t<li>great circle distance calculator</li>\n",
       "\t<li>skype chat logs</li>\n",
       "\t<li>letter logo maker</li>\n",
       "\t<li>sudden fatigue</li>\n",
       "\t<li>python integer</li>\n",
       "\t<li>cowboys vs packers live stream</li>\n",
       "\t<li>pink punch</li>\n",
       "\t<li>biology lab report example</li>\n",
       "\t<li>tipping wedding vendors</li>\n",
       "\t<li>crime articles</li>\n",
       "\t<li>autism adults</li>\n",
       "</ol>\n"
      ],
      "text/latex": [
       "\\begin{enumerate*}\n",
       "\\item grocery budget for 1\n",
       "\\item how to claim powerball\n",
       "\\item jeep patriot reliability\n",
       "\\item flowers that bloom all summer\n",
       "\\item hoax websites\n",
       "\\item pieology promo code\n",
       "\\item las vegas this weekend\n",
       "\\item how to access blocked websites\n",
       "\\item planet fitness 30 minute workout\n",
       "\\item crock pot black eyed peas\n",
       "\\item us army webmail\n",
       "\\item stardew valley cheat codes\n",
       "\\item deadpool movie putlockers\n",
       "\\item steel ball run color\n",
       "\\item game of thrones weapons\n",
       "\\item when does dragon ball super take place\n",
       "\\item roblox passwords\n",
       "\\item emailing resume\n",
       "\\item delta lost baggage\n",
       "\\item how to ship frozen food\n",
       "\\item jacques torres chocolate chip cookies\n",
       "\\item signs wife is cheating\n",
       "\\item defeat a powerful fallen with drang\n",
       "\\item civil war reenactment gear\n",
       "\\item mac other storage\n",
       "\\item fist fight full movie 123movies\n",
       "\\item idiocracy free online\n",
       "\\item baby vision\n",
       "\\item get out hd stream\n",
       "\\item number of abortions\n",
       "\\item ubuntu samba\n",
       "\\item sheer babydoll\n",
       "\\item dcth news\n",
       "\\item metal panel texture\n",
       "\\item best etf to buy\n",
       "\\item youtube an error occurred please try again later\n",
       "\\item flip flappers wiki\n",
       "\\item floating point representation\n",
       "\\item how to watch live tv on roku\n",
       "\\item photoshop sharpen image\n",
       "\\item ar 15 slide fire\n",
       "\\item fifty shades darker stream\n",
       "\\item best ass gifs\n",
       "\\item powerball anonymous\n",
       "\\item nude dancing girls\n",
       "\\item pokemon x and y emulator for pc\n",
       "\\item pulled bullets\n",
       "\\item week 5 te rankings\n",
       "\\item fare calendar\n",
       "\\item dia de todos los santos\n",
       "\\item iphone emojis for android\n",
       "\\item colleges and universities near me\n",
       "\\item best iphone apps 2015\n",
       "\\item sexyvideos\n",
       "\\item ar 15 22 conversion kit\n",
       "\\item ebay buyer not paying\n",
       "\\item grand canyon helicopter tour from las vegas\n",
       "\\item best pc for video editing\n",
       "\\item jack reacher never go back watch online putlockers\n",
       "\\item best va loan lenders\n",
       "\\item bard instruments 5e\n",
       "\\item pan's labyrinth full movie english subtitles\n",
       "\\item trump protest sign ideas\n",
       "\\item personal mission statement generator\n",
       "\\item rick and morty s1e3\n",
       "\\item htc one m8 wont turn on\n",
       "\\item jetblue enrollment code\n",
       "\\item e60 m5 for sale\n",
       "\\item ffxiv flying\n",
       "\\item difference between blazer and suit\n",
       "\\item cannabis clones\n",
       "\\item polar equation to rectangular equation calculator\n",
       "\\item character strengths and weaknesses\n",
       "\\item jew puns\n",
       "\\item how to wear a maxi skirt\n",
       "\\item america vs tigres en vivo\n",
       "\\item cardinals vs panthers live stream\n",
       "\\item dining chairs with casters\n",
       "\\item how to start hacking\n",
       "\\item best dps ffxiv\n",
       "\\item windows 10 text to speech voices\n",
       "\\item parts interchange\n",
       "\\item brandblack j crossover 2\n",
       "\\item windows 10 network discovery\n",
       "\\item badrinath ki dulhania full movie watch online\n",
       "\\item watch dragon ball super episode 105\n",
       "\\item dehumidifier sale\n",
       "\\item paladins giveaway\n",
       "\\item cannabis flowering stages\n",
       "\\item great circle distance calculator\n",
       "\\item skype chat logs\n",
       "\\item letter logo maker\n",
       "\\item sudden fatigue\n",
       "\\item python integer\n",
       "\\item cowboys vs packers live stream\n",
       "\\item pink punch\n",
       "\\item biology lab report example\n",
       "\\item tipping wedding vendors\n",
       "\\item crime articles\n",
       "\\item autism adults\n",
       "\\end{enumerate*}\n"
      ],
      "text/markdown": [
       "1. grocery budget for 1\n",
       "2. how to claim powerball\n",
       "3. jeep patriot reliability\n",
       "4. flowers that bloom all summer\n",
       "5. hoax websites\n",
       "6. pieology promo code\n",
       "7. las vegas this weekend\n",
       "8. how to access blocked websites\n",
       "9. planet fitness 30 minute workout\n",
       "10. crock pot black eyed peas\n",
       "11. us army webmail\n",
       "12. stardew valley cheat codes\n",
       "13. deadpool movie putlockers\n",
       "14. steel ball run color\n",
       "15. game of thrones weapons\n",
       "16. when does dragon ball super take place\n",
       "17. roblox passwords\n",
       "18. emailing resume\n",
       "19. delta lost baggage\n",
       "20. how to ship frozen food\n",
       "21. jacques torres chocolate chip cookies\n",
       "22. signs wife is cheating\n",
       "23. defeat a powerful fallen with drang\n",
       "24. civil war reenactment gear\n",
       "25. mac other storage\n",
       "26. fist fight full movie 123movies\n",
       "27. idiocracy free online\n",
       "28. baby vision\n",
       "29. get out hd stream\n",
       "30. number of abortions\n",
       "31. ubuntu samba\n",
       "32. sheer babydoll\n",
       "33. dcth news\n",
       "34. metal panel texture\n",
       "35. best etf to buy\n",
       "36. youtube an error occurred please try again later\n",
       "37. flip flappers wiki\n",
       "38. floating point representation\n",
       "39. how to watch live tv on roku\n",
       "40. photoshop sharpen image\n",
       "41. ar 15 slide fire\n",
       "42. fifty shades darker stream\n",
       "43. best ass gifs\n",
       "44. powerball anonymous\n",
       "45. nude dancing girls\n",
       "46. pokemon x and y emulator for pc\n",
       "47. pulled bullets\n",
       "48. week 5 te rankings\n",
       "49. fare calendar\n",
       "50. dia de todos los santos\n",
       "51. iphone emojis for android\n",
       "52. colleges and universities near me\n",
       "53. best iphone apps 2015\n",
       "54. sexyvideos\n",
       "55. ar 15 22 conversion kit\n",
       "56. ebay buyer not paying\n",
       "57. grand canyon helicopter tour from las vegas\n",
       "58. best pc for video editing\n",
       "59. jack reacher never go back watch online putlockers\n",
       "60. best va loan lenders\n",
       "61. bard instruments 5e\n",
       "62. pan's labyrinth full movie english subtitles\n",
       "63. trump protest sign ideas\n",
       "64. personal mission statement generator\n",
       "65. rick and morty s1e3\n",
       "66. htc one m8 wont turn on\n",
       "67. jetblue enrollment code\n",
       "68. e60 m5 for sale\n",
       "69. ffxiv flying\n",
       "70. difference between blazer and suit\n",
       "71. cannabis clones\n",
       "72. polar equation to rectangular equation calculator\n",
       "73. character strengths and weaknesses\n",
       "74. jew puns\n",
       "75. how to wear a maxi skirt\n",
       "76. america vs tigres en vivo\n",
       "77. cardinals vs panthers live stream\n",
       "78. dining chairs with casters\n",
       "79. how to start hacking\n",
       "80. best dps ffxiv\n",
       "81. windows 10 text to speech voices\n",
       "82. parts interchange\n",
       "83. brandblack j crossover 2\n",
       "84. windows 10 network discovery\n",
       "85. badrinath ki dulhania full movie watch online\n",
       "86. watch dragon ball super episode 105\n",
       "87. dehumidifier sale\n",
       "88. paladins giveaway\n",
       "89. cannabis flowering stages\n",
       "90. great circle distance calculator\n",
       "91. skype chat logs\n",
       "92. letter logo maker\n",
       "93. sudden fatigue\n",
       "94. python integer\n",
       "95. cowboys vs packers live stream\n",
       "96. pink punch\n",
       "97. biology lab report example\n",
       "98. tipping wedding vendors\n",
       "99. crime articles\n",
       "100. autism adults\n",
       "\n",
       "\n"
      ],
      "text/plain": [
       "  [1] grocery budget for 1                              \n",
       "  [2] how to claim powerball                            \n",
       "  [3] jeep patriot reliability                          \n",
       "  [4] flowers that bloom all summer                     \n",
       "  [5] hoax websites                                     \n",
       "  [6] pieology promo code                               \n",
       "  [7] las vegas this weekend                            \n",
       "  [8] how to access blocked websites                    \n",
       "  [9] planet fitness 30 minute workout                  \n",
       " [10] crock pot black eyed peas                         \n",
       " [11] us army webmail                                   \n",
       " [12] stardew valley cheat codes                        \n",
       " [13] deadpool movie putlockers                         \n",
       " [14] steel ball run color                              \n",
       " [15] game of thrones weapons                           \n",
       " [16] when does dragon ball super take place            \n",
       " [17] roblox passwords                                  \n",
       " [18] emailing resume                                   \n",
       " [19] delta lost baggage                                \n",
       " [20] how to ship frozen food                           \n",
       " [21] jacques torres chocolate chip cookies             \n",
       " [22] signs wife is cheating                            \n",
       " [23] defeat a powerful fallen with drang               \n",
       " [24] civil war reenactment gear                        \n",
       " [25] mac other storage                                 \n",
       " [26] fist fight full movie 123movies                   \n",
       " [27] idiocracy free online                             \n",
       " [28] baby vision                                       \n",
       " [29] get out hd stream                                 \n",
       " [30] number of abortions                               \n",
       " [31] ubuntu samba                                      \n",
       " [32] sheer babydoll                                    \n",
       " [33] dcth news                                         \n",
       " [34] metal panel texture                               \n",
       " [35] best etf to buy                                   \n",
       " [36] youtube an error occurred please try again later  \n",
       " [37] flip flappers wiki                                \n",
       " [38] floating point representation                     \n",
       " [39] how to watch live tv on roku                      \n",
       " [40] photoshop sharpen image                           \n",
       " [41] ar 15 slide fire                                  \n",
       " [42] fifty shades darker stream                        \n",
       " [43] best ass gifs                                     \n",
       " [44] powerball anonymous                               \n",
       " [45] nude dancing girls                                \n",
       " [46] pokemon x and y emulator for pc                   \n",
       " [47] pulled bullets                                    \n",
       " [48] week 5 te rankings                                \n",
       " [49] fare calendar                                     \n",
       " [50] dia de todos los santos                           \n",
       " [51] iphone emojis for android                         \n",
       " [52] colleges and universities near me                 \n",
       " [53] best iphone apps 2015                             \n",
       " [54] sexyvideos                                        \n",
       " [55] ar 15 22 conversion kit                           \n",
       " [56] ebay buyer not paying                             \n",
       " [57] grand canyon helicopter tour from las vegas       \n",
       " [58] best pc for video editing                         \n",
       " [59] jack reacher never go back watch online putlockers\n",
       " [60] best va loan lenders                              \n",
       " [61] bard instruments 5e                               \n",
       " [62] pan's labyrinth full movie english subtitles      \n",
       " [63] trump protest sign ideas                          \n",
       " [64] personal mission statement generator              \n",
       " [65] rick and morty s1e3                               \n",
       " [66] htc one m8 wont turn on                           \n",
       " [67] jetblue enrollment code                           \n",
       " [68] e60 m5 for sale                                   \n",
       " [69] ffxiv flying                                      \n",
       " [70] difference between blazer and suit                \n",
       " [71] cannabis clones                                   \n",
       " [72] polar equation to rectangular equation calculator \n",
       " [73] character strengths and weaknesses                \n",
       " [74] jew puns                                          \n",
       " [75] how to wear a maxi skirt                          \n",
       " [76] america vs tigres en vivo                         \n",
       " [77] cardinals vs panthers live stream                 \n",
       " [78] dining chairs with casters                        \n",
       " [79] how to start hacking                              \n",
       " [80] best dps ffxiv                                    \n",
       " [81] windows 10 text to speech voices                  \n",
       " [82] parts interchange                                 \n",
       " [83] brandblack j crossover 2                          \n",
       " [84] windows 10 network discovery                      \n",
       " [85] badrinath ki dulhania full movie watch online     \n",
       " [86] watch dragon ball super episode 105               \n",
       " [87] dehumidifier sale                                 \n",
       " [88] paladins giveaway                                 \n",
       " [89] cannabis flowering stages                         \n",
       " [90] great circle distance calculator                  \n",
       " [91] skype chat logs                                   \n",
       " [92] letter logo maker                                 \n",
       " [93] sudden fatigue                                    \n",
       " [94] python integer                                    \n",
       " [95] cowboys vs packers live stream                    \n",
       " [96] pink punch                                        \n",
       " [97] biology lab report example                        \n",
       " [98] tipping wedding vendors                           \n",
       " [99] crime articles                                    \n",
       "[100] autism adults                                     \n",
       "1995207 Levels:  ' '-' '/ '; '[ '\\\\ '] ... zzzzzzz"
      ]
     },
     "metadata": {},
     "output_type": "display_data"
    }
   ],
   "source": [
    "topTraf_lessVol$query"
   ]
  },
  {
   "cell_type": "code",
   "execution_count": null,
   "metadata": {
    "collapsed": true,
    "nbpresent": {
     "id": "d71e8f09-1a71-46ee-a99a-726c1e144fb5"
    }
   },
   "outputs": [],
   "source": []
  },
  {
   "cell_type": "code",
   "execution_count": null,
   "metadata": {
    "collapsed": true
   },
   "outputs": [],
   "source": []
  }
 ],
 "metadata": {
  "anaconda-cloud": {},
  "kernelspec": {
   "display_name": "R",
   "language": "R",
   "name": "ir"
  },
  "language_info": {
   "codemirror_mode": "r",
   "file_extension": ".r",
   "mimetype": "text/x-r-source",
   "name": "R",
   "pygments_lexer": "r",
   "version": "3.4.2"
  },
  "nbpresent": {
   "slides": {
    "3c20820d-1948-4d0d-afa2-542f7ef1ab93": {
     "id": "3c20820d-1948-4d0d-afa2-542f7ef1ab93",
     "prev": "c4864b84-5653-4b6a-bb61-f869897caf05",
     "regions": {
      "2b06a63a-190b-455c-a37e-1a3723456c3e": {
       "attrs": {
        "height": 0.18465123266587571,
        "width": 0.3396657499471124,
        "x": 0.547383670128126,
        "y": 0.11883720716328955
       },
       "content": {
        "cell": "958b4b6d-692a-4679-b7ed-d15c2556a996",
        "part": "outputs"
       },
       "id": "2b06a63a-190b-455c-a37e-1a3723456c3e"
      },
      "693ce6b9-32ac-4ce1-8d07-9a856d77af7b": {
       "attrs": {
        "height": 0.49441863935108116,
        "width": 0.45000000000000007,
        "x": 0.05235465089541115,
        "y": 0.3637209002860533
       },
       "content": {
        "cell": "82127c60-3a8b-4a98-b5d3-a26bd9857a55",
        "part": "outputs"
       },
       "id": "693ce6b9-32ac-4ce1-8d07-9a856d77af7b"
      },
      "88f32646-5c79-4dd6-94c1-ce557d6eff77": {
       "attrs": {
        "height": 0.6241860664759645,
        "width": 0.45000000000000007,
        "x": 0.5047093017908224,
        "y": 0.3113953248324713
       },
       "content": {
        "cell": "9680a07f-8501-4277-b67b-6c554959bec9",
        "part": "outputs"
       },
       "id": "88f32646-5c79-4dd6-94c1-ce557d6eff77"
      },
      "c0138f21-ed47-4caa-8236-76913749c80b": {
       "attrs": {
        "height": 0.07581403572242516,
        "width": 0.4491570165837327,
        "x": 0.04937500574865947,
        "y": 0.0288372173831285
       },
       "content": {
        "cell": "26c74056-25b2-4512-a191-8cef2f9eebbe",
        "part": "source"
       },
       "id": "c0138f21-ed47-4caa-8236-76913749c80b"
      },
      "c1edbe27-09be-4992-967f-a8d2f135b2d9": {
       "attrs": {
        "height": 0.1783721636114459,
        "width": 0.3278924954700565,
        "x": 0.10824127813393915,
        "y": 0.11883720716328955
       },
       "content": {
        "cell": "37547330-d495-4a72-a6a8-9eb23031cabf",
        "part": "outputs"
       },
       "id": "c1edbe27-09be-4992-967f-a8d2f135b2d9"
      },
      "fd1a8b20-3b2c-4e45-888d-97bb5fb7ff01": {
       "attrs": {
        "height": 0.07581403572242518,
        "width": 0.44797968215374706,
        "x": 0.5014679866498881,
        "y": 0.02883721738312849
       },
       "content": {
        "cell": "4d42f1fd-f02c-494c-8740-70efdfd7876c",
        "part": "source"
       },
       "id": "fd1a8b20-3b2c-4e45-888d-97bb5fb7ff01"
      }
     }
    },
    "c4864b84-5653-4b6a-bb61-f869897caf05": {
     "id": "c4864b84-5653-4b6a-bb61-f869897caf05",
     "prev": null,
     "regions": {
      "4731da07-724e-4367-99a2-df25e4d99e73": {
       "attrs": {
        "height": 0.7630231918805424,
        "width": 0.7885174067251268,
        "x": 0.10470929280854196,
        "y": 0.28976748844391703
       },
       "content": {
        "cell": "c9ea8f39-9090-4516-a250-879bf41871db",
        "part": "outputs"
       },
       "id": "4731da07-724e-4367-99a2-df25e4d99e73"
      },
      "5b9f41eb-09d0-4bda-9ce2-572f17c086bc": {
       "attrs": {
        "height": 0.1679070485207295,
        "width": 0.7952906982091776,
        "x": 0.10353197634311684,
        "y": 0.11883720716328955
       },
       "content": {
        "cell": "2ad93373-b5e6-4e3f-afa0-03995204e3ee",
        "part": "source"
       },
       "id": "5b9f41eb-09d0-4bda-9ce2-572f17c086bc"
      },
      "ad52bbb4-527d-4fb6-b83c-5b4978f63a52": {
       "attrs": {
        "height": 0.09348843160538856,
        "width": 0.8011773254477056,
        "x": 0.1035319763431167,
        "y": 0.02046512331449307
       },
       "content": {
        "cell": "4ee9523e-2655-4d4a-99ef-5d1ac0294847",
        "part": "source"
       },
       "id": "ad52bbb4-527d-4fb6-b83c-5b4978f63a52"
      }
     }
    }
   },
   "themes": {}
  }
 },
 "nbformat": 4,
 "nbformat_minor": 1
}
