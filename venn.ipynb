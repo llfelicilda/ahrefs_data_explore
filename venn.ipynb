{
 "cells": [
  {
   "cell_type": "code",
   "execution_count": 1,
   "metadata": {
    "collapsed": true
   },
   "outputs": [],
   "source": [
    "# dat = read.csv(\"data/all_refdoms.csv\", header = TRUE)\n",
    "dat = read.csv(\"data/for_venn.csv\", header = TRUE)"
   ]
  },
  {
   "cell_type": "code",
   "execution_count": 2,
   "metadata": {
    "collapsed": false,
    "scrolled": true
   },
   "outputs": [],
   "source": [
    "dat['X'] <- NULL"
   ]
  },
  {
   "cell_type": "code",
   "execution_count": 3,
   "metadata": {
    "collapsed": false
   },
   "outputs": [
    {
     "data": {
      "text/html": [
       "<table>\n",
       "<thead><tr><th scope=col>ref_domain</th><th scope=col>source</th></tr></thead>\n",
       "<tbody>\n",
       "\t<tr><td>blogspot.com.ee</td><td>GOOGLE         </td></tr>\n",
       "\t<tr><td>blogspot.com   </td><td>GOOGLE         </td></tr>\n",
       "\t<tr><td>blogspot.fr    </td><td>GOOGLE         </td></tr>\n",
       "\t<tr><td>blogspot.in    </td><td>GOOGLE         </td></tr>\n",
       "\t<tr><td>blogspot.nl    </td><td>GOOGLE         </td></tr>\n",
       "</tbody>\n",
       "</table>\n"
      ],
      "text/latex": [
       "\\begin{tabular}{r|ll}\n",
       " ref\\_domain & source\\\\\n",
       "\\hline\n",
       "\t blogspot.com.ee & GOOGLE         \\\\\n",
       "\t blogspot.com    & GOOGLE         \\\\\n",
       "\t blogspot.fr     & GOOGLE         \\\\\n",
       "\t blogspot.in     & GOOGLE         \\\\\n",
       "\t blogspot.nl     & GOOGLE         \\\\\n",
       "\\end{tabular}\n"
      ],
      "text/markdown": [
       "\n",
       "ref_domain | source | \n",
       "|---|---|---|---|---|\n",
       "| blogspot.com.ee | GOOGLE          | \n",
       "| blogspot.com    | GOOGLE          | \n",
       "| blogspot.fr     | GOOGLE          | \n",
       "| blogspot.in     | GOOGLE          | \n",
       "| blogspot.nl     | GOOGLE          | \n",
       "\n",
       "\n"
      ],
      "text/plain": [
       "  ref_domain      source\n",
       "1 blogspot.com.ee GOOGLE\n",
       "2 blogspot.com    GOOGLE\n",
       "3 blogspot.fr     GOOGLE\n",
       "4 blogspot.in     GOOGLE\n",
       "5 blogspot.nl     GOOGLE"
      ]
     },
     "metadata": {},
     "output_type": "display_data"
    }
   ],
   "source": [
    "head(dat, n = 5)"
   ]
  },
  {
   "cell_type": "code",
   "execution_count": 4,
   "metadata": {
    "collapsed": false
   },
   "outputs": [
    {
     "data": {
      "text/html": [
       "108441"
      ],
      "text/latex": [
       "108441"
      ],
      "text/markdown": [
       "108441"
      ],
      "text/plain": [
       "[1] 108441"
      ]
     },
     "metadata": {},
     "output_type": "display_data"
    }
   ],
   "source": [
    "nrow(dat)"
   ]
  },
  {
   "cell_type": "code",
   "execution_count": 5,
   "metadata": {
    "collapsed": false
   },
   "outputs": [
    {
     "name": "stderr",
     "output_type": "stream",
     "text": [
      "Loading required package: rJava\n"
     ]
    }
   ],
   "source": [
    "library('venneuler')"
   ]
  },
  {
   "cell_type": "code",
   "execution_count": 6,
   "metadata": {
    "collapsed": false
   },
   "outputs": [
    {
     "data": {
      "text/html": [
       "<strong>png:</strong> 2"
      ],
      "text/latex": [
       "\\textbf{png:} 2"
      ],
      "text/markdown": [
       "**png:** 2"
      ],
      "text/plain": [
       "png \n",
       "  2 "
      ]
     },
     "metadata": {},
     "output_type": "display_data"
    }
   ],
   "source": [
    "v <- venneuler(dat)\n",
    "png(\"venn_new_allrefdoms.png\")\n",
    "plot(v)\n",
    "dev.off()"
   ]
  },
  {
   "cell_type": "code",
   "execution_count": 7,
   "metadata": {
    "collapsed": false
   },
   "outputs": [
    {
     "data": {
      "image/png": "[encoded data removed]",
      "text/plain": [
       "plot without title"
      ]
     },
     "metadata": {},
     "output_type": "display_data"
    }
   ],
   "source": [
    "plot(v)"
   ]
  },
  {
   "cell_type": "code",
   "execution_count": 29,
   "metadata": {
    "collapsed": false
   },
   "outputs": [
    {
     "ename": "ERROR",
     "evalue": "Error in .jcall(a, \"Ledu/uic/ncdm/venn/VennDiagram;\", \"compute\", vd): java.lang.OutOfMemoryError: Requested array size exceeds VM limit\n",
     "output_type": "error",
     "traceback": [
      "Error in .jcall(a, \"Ledu/uic/ncdm/venn/VennDiagram;\", \"compute\", vd): java.lang.OutOfMemoryError: Requested array size exceeds VM limit\nTraceback:\n",
      "1. venneuler(dat)",
      "2. .jcall(a, \"Ledu/uic/ncdm/venn/VennDiagram;\", \"compute\", vd)",
      "3. .jcheck(silent = FALSE)"
     ]
    }
   ],
   "source": [
    "dat = read.csv(\"data/live_refdoms.csv\", header = TRUE)\n",
    "# dat = read.csv(\"data/venn_all_test.csv\", header = TRUE)\n",
    "dat['X'] <- NULL\n",
    "v <- venneuler(dat)\n",
    "png(\"venn_liverefdoms.png\")\n",
    "# png(\"venn_all_test.png\")\n",
    "plot(v)\n",
    "dev.off()"
   ]
  },
  {
   "cell_type": "code",
   "execution_count": 9,
   "metadata": {
    "collapsed": false
   },
   "outputs": [
    {
     "data": {
      "text/html": [
       "66373"
      ],
      "text/latex": [
       "66373"
      ],
      "text/markdown": [
       "66373"
      ],
      "text/plain": [
       "[1] 66373"
      ]
     },
     "metadata": {},
     "output_type": "display_data"
    }
   ],
   "source": [
    "nrow(dat)"
   ]
  },
  {
   "cell_type": "code",
   "execution_count": 10,
   "metadata": {
    "collapsed": false
   },
   "outputs": [
    {
     "data": {
      "image/png": "[encoded data removed]",
      "text/plain": [
       "plot without title"
      ]
     },
     "metadata": {},
     "output_type": "display_data"
    }
   ],
   "source": [
    "plot(v)"
   ]
  },
  {
   "cell_type": "code",
   "execution_count": null,
   "metadata": {
    "collapsed": true
   },
   "outputs": [],
   "source": []
  }
 ],
 "metadata": {
  "anaconda-cloud": {},
  "kernelspec": {
   "display_name": "R",
   "language": "R",
   "name": "ir"
  },
  "language_info": {
   "codemirror_mode": "r",
   "file_extension": ".r",
   "mimetype": "text/x-r-source",
   "name": "R",
   "pygments_lexer": "r",
   "version": "3.4.2"
  }
 },
 "nbformat": 4,
 "nbformat_minor": 1
}
