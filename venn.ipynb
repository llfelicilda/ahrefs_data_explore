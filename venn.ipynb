{
 "cells": [
  {
   "cell_type": "code",
   "execution_count": 2,
   "metadata": {
    "collapsed": false
   },
   "outputs": [],
   "source": [
    "# dat = read.csv(\"data/all_refdoms.csv\", header = TRUE)\n",
    "dat = read.csv(\"data/for_venn2.csv\", header = TRUE)"
   ]
  },
  {
   "cell_type": "code",
   "execution_count": 3,
   "metadata": {
    "collapsed": false,
    "scrolled": true
   },
   "outputs": [],
   "source": [
    "dat['X'] <- NULL"
   ]
  },
  {
   "cell_type": "code",
   "execution_count": 4,
   "metadata": {
    "collapsed": false
   },
   "outputs": [
    {
     "data": {
      "text/html": [
       "<table>\n",
       "<thead><tr><th scope=col>ref_domain</th><th scope=col>source</th></tr></thead>\n",
       "<tbody>\n",
       "\t<tr><td>3dprintingninja.blogspot</td><td>GOOGLE                  </td></tr>\n",
       "\t<tr><td>allwomenstalk           </td><td>GOOGLE                  </td></tr>\n",
       "\t<tr><td>archimago.blogspot      </td><td>GOOGLE                  </td></tr>\n",
       "\t<tr><td>bestdrones2017.blogspot </td><td>GOOGLE                  </td></tr>\n",
       "\t<tr><td>bestvideoking.blogspot  </td><td>GOOGLE                  </td></tr>\n",
       "</tbody>\n",
       "</table>\n"
      ],
      "text/latex": [
       "\\begin{tabular}{r|ll}\n",
       " ref\\_domain & source\\\\\n",
       "\\hline\n",
       "\t 3dprintingninja.blogspot & GOOGLE                  \\\\\n",
       "\t allwomenstalk            & GOOGLE                  \\\\\n",
       "\t archimago.blogspot       & GOOGLE                  \\\\\n",
       "\t bestdrones2017.blogspot  & GOOGLE                  \\\\\n",
       "\t bestvideoking.blogspot   & GOOGLE                  \\\\\n",
       "\\end{tabular}\n"
      ],
      "text/markdown": [
       "\n",
       "ref_domain | source | \n",
       "|---|---|---|---|---|\n",
       "| 3dprintingninja.blogspot | GOOGLE                   | \n",
       "| allwomenstalk            | GOOGLE                   | \n",
       "| archimago.blogspot       | GOOGLE                   | \n",
       "| bestdrones2017.blogspot  | GOOGLE                   | \n",
       "| bestvideoking.blogspot   | GOOGLE                   | \n",
       "\n",
       "\n"
      ],
      "text/plain": [
       "  ref_domain               source\n",
       "1 3dprintingninja.blogspot GOOGLE\n",
       "2 allwomenstalk            GOOGLE\n",
       "3 archimago.blogspot       GOOGLE\n",
       "4 bestdrones2017.blogspot  GOOGLE\n",
       "5 bestvideoking.blogspot   GOOGLE"
      ]
     },
     "metadata": {},
     "output_type": "display_data"
    }
   ],
   "source": [
    "head(dat, n = 5)"
   ]
  },
  {
   "cell_type": "code",
   "execution_count": 5,
   "metadata": {
    "collapsed": false
   },
   "outputs": [
    {
     "data": {
      "text/html": [
       "112388"
      ],
      "text/latex": [
       "112388"
      ],
      "text/markdown": [
       "112388"
      ],
      "text/plain": [
       "[1] 112388"
      ]
     },
     "metadata": {},
     "output_type": "display_data"
    }
   ],
   "source": [
    "nrow(dat)"
   ]
  },
  {
   "cell_type": "code",
   "execution_count": 6,
   "metadata": {
    "collapsed": false
   },
   "outputs": [
    {
     "name": "stderr",
     "output_type": "stream",
     "text": [
      "Loading required package: rJava\n"
     ]
    }
   ],
   "source": [
    "library('venneuler')"
   ]
  },
  {
   "cell_type": "code",
   "execution_count": null,
   "metadata": {
    "collapsed": true
   },
   "outputs": [],
   "source": [
    "v <- venneuler(dat)\n",
    "# png(\"outputs/venn_new_allrefdoms.png\")"
   ]
  },
  {
   "cell_type": "code",
   "execution_count": 7,
   "metadata": {
    "collapsed": false
   },
   "outputs": [
    {
     "data": {
      "text/html": [
       "<strong>null device:</strong> 1"
      ],
      "text/latex": [
       "\\textbf{null device:} 1"
      ],
      "text/markdown": [
       "**null device:** 1"
      ],
      "text/plain": [
       "null device \n",
       "          1 "
      ]
     },
     "metadata": {},
     "output_type": "display_data"
    },
    {
     "data": {
      "image/png": "[encoded data removed]",
      "text/plain": [
       "plot without title"
      ]
     },
     "metadata": {},
     "output_type": "display_data"
    }
   ],
   "source": [
    "plot(v)\n",
    "dev.off()"
   ]
  },
  {
   "cell_type": "code",
   "execution_count": 29,
   "metadata": {
    "collapsed": false
   },
   "outputs": [
    {
     "ename": "ERROR",
     "evalue": "Error in .jcall(a, \"Ledu/uic/ncdm/venn/VennDiagram;\", \"compute\", vd): java.lang.OutOfMemoryError: Requested array size exceeds VM limit\n",
     "output_type": "error",
     "traceback": [
      "Error in .jcall(a, \"Ledu/uic/ncdm/venn/VennDiagram;\", \"compute\", vd): java.lang.OutOfMemoryError: Requested array size exceeds VM limit\nTraceback:\n",
      "1. venneuler(dat)",
      "2. .jcall(a, \"Ledu/uic/ncdm/venn/VennDiagram;\", \"compute\", vd)",
      "3. .jcheck(silent = FALSE)"
     ]
    }
   ],
   "source": [
    "dat = read.csv(\"data/live_refdoms.csv\", header = TRUE)\n",
    "# dat = read.csv(\"data/venn_all_test.csv\", header = TRUE)\n",
    "dat['X'] <- NULL\n",
    "v <- venneuler(dat)\n",
    "png(\"venn_liverefdoms.png\")\n",
    "# png(\"venn_all_test.png\")\n",
    "plot(v)\n",
    "dev.off()"
   ]
  },
  {
   "cell_type": "code",
   "execution_count": 9,
   "metadata": {
    "collapsed": false
   },
   "outputs": [
    {
     "data": {
      "text/html": [
       "66373"
      ],
      "text/latex": [
       "66373"
      ],
      "text/markdown": [
       "66373"
      ],
      "text/plain": [
       "[1] 66373"
      ]
     },
     "metadata": {},
     "output_type": "display_data"
    }
   ],
   "source": [
    "nrow(dat)"
   ]
  },
  {
   "cell_type": "code",
   "execution_count": 10,
   "metadata": {
    "collapsed": false
   },
   "outputs": [
    {
     "data": {
      "image/png": "[encoded data removed]",
      "text/plain": [
       "plot without title"
      ]
     },
     "metadata": {},
     "output_type": "display_data"
    }
   ],
   "source": [
    "plot(v)"
   ]
  },
  {
   "cell_type": "code",
   "execution_count": null,
   "metadata": {
    "collapsed": true
   },
   "outputs": [],
   "source": []
  }
 ],
 "metadata": {
  "anaconda-cloud": {},
  "kernelspec": {
   "display_name": "R",
   "language": "R",
   "name": "ir"
  },
  "language_info": {
   "codemirror_mode": "r",
   "file_extension": ".r",
   "mimetype": "text/x-r-source",
   "name": "R",
   "pygments_lexer": "r",
   "version": "3.4.2"
  }
 },
 "nbformat": 4,
 "nbformat_minor": 1
}
